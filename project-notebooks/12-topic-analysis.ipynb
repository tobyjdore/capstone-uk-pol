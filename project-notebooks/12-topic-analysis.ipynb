{
 "cells": [
  {
   "cell_type": "code",
   "execution_count": 1,
   "metadata": {},
   "outputs": [],
   "source": [
    "import pandas as pd\n",
    "import matplotlib.pyplot as plt\n",
    "import seaborn as sns\n",
    "import gensim\n",
    "from gensim import corpora\n",
    "import ast\n",
    "import re\n",
    "\n",
    "plt.style.use('ggplot')\n",
    "%config InlineBackend.figure_format = 'retina'\n",
    "%matplotlib inline"
   ]
  },
  {
   "cell_type": "code",
   "execution_count": 2,
   "metadata": {},
   "outputs": [],
   "source": [
    "uk_pol_tokens = pd.read_csv('uk_pol_tokens.csv', converters={4:ast.literal_eval})"
   ]
  },
  {
   "cell_type": "code",
   "execution_count": 3,
   "metadata": {},
   "outputs": [
    {
     "data": {
      "text/html": [
       "<div>\n",
       "<style scoped>\n",
       "    .dataframe tbody tr th:only-of-type {\n",
       "        vertical-align: middle;\n",
       "    }\n",
       "\n",
       "    .dataframe tbody tr th {\n",
       "        vertical-align: top;\n",
       "    }\n",
       "\n",
       "    .dataframe thead th {\n",
       "        text-align: right;\n",
       "    }\n",
       "</style>\n",
       "<table border=\"1\" class=\"dataframe\">\n",
       "  <thead>\n",
       "    <tr style=\"text-align: right;\">\n",
       "      <th></th>\n",
       "      <th>speaker</th>\n",
       "      <th>party</th>\n",
       "      <th>date</th>\n",
       "      <th>subject</th>\n",
       "      <th>tokenised</th>\n",
       "    </tr>\n",
       "  </thead>\n",
       "  <tbody>\n",
       "    <tr>\n",
       "      <th>0</th>\n",
       "      <td>Mark Isherwood</td>\n",
       "      <td>Conservative</td>\n",
       "      <td>2006-01-10</td>\n",
       "      <td>Fuel Poverty</td>\n",
       "      <td>[chartered, institute, housing, states, reason...</td>\n",
       "    </tr>\n",
       "    <tr>\n",
       "      <th>1</th>\n",
       "      <td>Chuka Umunna</td>\n",
       "      <td>Labour</td>\n",
       "      <td>2011-12-02</td>\n",
       "      <td>Universities UK</td>\n",
       "      <td>[thank, kind, welcome, hugely, grateful, invit...</td>\n",
       "    </tr>\n",
       "    <tr>\n",
       "      <th>2</th>\n",
       "      <td>Chuka Umunna</td>\n",
       "      <td>Labour</td>\n",
       "      <td>2012-01-12</td>\n",
       "      <td>High Pay Commission</td>\n",
       "      <td>[thank, introduction, hosting, event, thank, h...</td>\n",
       "    </tr>\n",
       "    <tr>\n",
       "      <th>3</th>\n",
       "      <td>Chuka Umunna</td>\n",
       "      <td>Labour</td>\n",
       "      <td>2012-06-26</td>\n",
       "      <td>Hub Westminster</td>\n",
       "      <td>[thank, introduction, thank, inviting, speak, ...</td>\n",
       "    </tr>\n",
       "    <tr>\n",
       "      <th>4</th>\n",
       "      <td>Chuka Umunna</td>\n",
       "      <td>Labour</td>\n",
       "      <td>2012-05-28</td>\n",
       "      <td>UCATT Conference</td>\n",
       "      <td>[conference, thank, much, inviting, speak, tod...</td>\n",
       "    </tr>\n",
       "  </tbody>\n",
       "</table>\n",
       "</div>"
      ],
      "text/plain": [
       "          speaker         party        date              subject  \\\n",
       "0  Mark Isherwood  Conservative  2006-01-10         Fuel Poverty   \n",
       "1    Chuka Umunna        Labour  2011-12-02      Universities UK   \n",
       "2    Chuka Umunna        Labour  2012-01-12  High Pay Commission   \n",
       "3    Chuka Umunna        Labour  2012-06-26      Hub Westminster   \n",
       "4    Chuka Umunna        Labour  2012-05-28     UCATT Conference   \n",
       "\n",
       "                                           tokenised  \n",
       "0  [chartered, institute, housing, states, reason...  \n",
       "1  [thank, kind, welcome, hugely, grateful, invit...  \n",
       "2  [thank, introduction, hosting, event, thank, h...  \n",
       "3  [thank, introduction, thank, inviting, speak, ...  \n",
       "4  [conference, thank, much, inviting, speak, tod...  "
      ]
     },
     "execution_count": 3,
     "metadata": {},
     "output_type": "execute_result"
    }
   ],
   "source": [
    "uk_pol_tokens.head()"
   ]
  },
  {
   "cell_type": "code",
   "execution_count": 3,
   "metadata": {},
   "outputs": [],
   "source": [
    "# create a list of tokenised speeches\n",
    "doc_clean = [text for text in uk_pol_tokens.tokenised]"
   ]
  },
  {
   "cell_type": "code",
   "execution_count": 4,
   "metadata": {},
   "outputs": [],
   "source": [
    "# map the words to an index\n",
    "dictionary = corpora.Dictionary(doc_clean)"
   ]
  },
  {
   "cell_type": "code",
   "execution_count": 5,
   "metadata": {},
   "outputs": [],
   "source": [
    "# vectorise\n",
    "doc_term_matrix = [dictionary.doc2bow(doc) for doc in doc_clean]"
   ]
  },
  {
   "cell_type": "markdown",
   "metadata": {},
   "source": [
    "### Don't run the below cell again or we will lose the nice topics\n",
    "\n",
    "Edit: should have used a random state to make it repeatable (using 1 got similar results to below). Remember this if re-running."
   ]
  },
  {
   "cell_type": "code",
   "execution_count": 24,
   "metadata": {},
   "outputs": [
    {
     "name": "stdout",
     "output_type": "stream",
     "text": [
      "schools education people children school young work want\n",
      "nhs health services care patients public service new\n",
      "people government country work one need make want\n",
      "police crime people public women also work policing\n",
      "eu uk world would us europe people trade\n",
      "new uk government also world business year investment\n"
     ]
    }
   ],
   "source": [
    "Lda = gensim.models.ldamodel.LdaModel\n",
    "\n",
    "# generate the topics. this takes a while, and I had to re-run a few times to get topics that\n",
    "# make sense. I picked 6 topics because it gave me a good range but that might vary for\n",
    "# different data sets\n",
    "ldamodel = Lda(doc_term_matrix, num_topics=6, id2word = dictionary, passes=50)\n",
    "\n",
    "# ldamodel.print_topics(num_topics=6, num_words=8)\n",
    "\n",
    "topic_ident = re.compile(r'[a-z]+')\n",
    "\n",
    "# just wrote this loop to separate out the words from the weightings and print them nicely\n",
    "for topic in ldamodel.print_topics(num_topics=6, num_words=8):\n",
    "    print(' '.join(re.findall(topic_ident,topic[1])))"
   ]
  },
  {
   "cell_type": "code",
   "execution_count": null,
   "metadata": {},
   "outputs": [],
   "source": [
    "new uk government also world business year investment"
   ]
  },
  {
   "cell_type": "code",
   "execution_count": 84,
   "metadata": {},
   "outputs": [
    {
     "data": {
      "text/plain": [
       "[(0,\n",
       "  '0.014*\"schools\" + 0.013*\"education\" + 0.011*\"people\" + 0.011*\"children\" + 0.010*\"school\" + 0.008*\"young\" + 0.007*\"work\" + 0.006*\"want\"'),\n",
       " (1,\n",
       "  '0.028*\"nhs\" + 0.021*\"health\" + 0.018*\"services\" + 0.017*\"care\" + 0.012*\"patients\" + 0.011*\"public\" + 0.009*\"service\" + 0.008*\"new\"'),\n",
       " (2,\n",
       "  '0.020*\"people\" + 0.012*\"government\" + 0.009*\"country\" + 0.008*\"work\" + 0.007*\"one\" + 0.007*\"need\" + 0.006*\"make\" + 0.006*\"want\"'),\n",
       " (3,\n",
       "  '0.013*\"police\" + 0.010*\"crime\" + 0.006*\"people\" + 0.005*\"public\" + 0.005*\"women\" + 0.004*\"also\" + 0.004*\"work\" + 0.004*\"policing\"'),\n",
       " (4,\n",
       "  '0.009*\"eu\" + 0.009*\"uk\" + 0.008*\"world\" + 0.008*\"would\" + 0.007*\"us\" + 0.006*\"europe\" + 0.006*\"people\" + 0.006*\"trade\"'),\n",
       " (5,\n",
       "  '0.011*\"new\" + 0.009*\"uk\" + 0.007*\"government\" + 0.006*\"also\" + 0.006*\"world\" + 0.005*\"business\" + 0.005*\"year\" + 0.005*\"investment\"')]"
      ]
     },
     "execution_count": 84,
     "metadata": {},
     "output_type": "execute_result"
    }
   ],
   "source": [
    "# this is what the topics look like with the weightings\n",
    "ldamodel.print_topics(num_topics=6, num_words=8)"
   ]
  },
  {
   "cell_type": "code",
   "execution_count": 83,
   "metadata": {},
   "outputs": [
    {
     "data": {
      "text/plain": [
       "[(2, 0.5386748),\n",
       " (5, 0.23573303),\n",
       " (4, 0.11899701),\n",
       " (3, 0.062078472),\n",
       " (1, 0.044133436)]"
      ]
     },
     "execution_count": 83,
     "metadata": {},
     "output_type": "execute_result"
    }
   ],
   "source": [
    "# this is how you get the predicted groups from the model for each text\n",
    "doc = uk_pol_tokens.iloc[0,4]\n",
    "bowvector = dictionary.doc2bow(doc)\n",
    "sorted(ldamodel[bowvector], key=lambda tup: -1*tup[1])"
   ]
  },
  {
   "cell_type": "code",
   "execution_count": 86,
   "metadata": {},
   "outputs": [],
   "source": [
    "topics = ldamodel.print_topics(num_topics=6, num_words=8)\n",
    "topic_ident = re.compile(r'[a-z]+')\n",
    "\n",
    "def get_topic(text):\n",
    "    '''function to return the cleaned topic words list for a text'''\n",
    "    bowvector = dictionary.doc2bow(text)\n",
    "    topic_no = sorted(ldamodel[bowvector], key=lambda tup: -1*tup[1])[0][0]\n",
    "    topic_list_dirty = ldamodel.print_topics(num_topics=6, num_words=8)[topic_no][1].split('+')\n",
    "    topic_list_clean = []\n",
    "    for topic in topic_list_dirty:\n",
    "        topic_list_clean.append(' '.join(re.findall(topic_ident,topic)))\n",
    "    return ' '.join(topic_list_clean)"
   ]
  },
  {
   "cell_type": "code",
   "execution_count": 26,
   "metadata": {},
   "outputs": [],
   "source": [
    "uk_pol_tokens['topic'] = uk_pol_tokens.tokenised.map(lambda x: get_topic(x))"
   ]
  },
  {
   "cell_type": "code",
   "execution_count": 27,
   "metadata": {},
   "outputs": [
    {
     "data": {
      "text/plain": [
       "eu uk world would us europe people trade                    618\n",
       "new uk government also world business year investment       564\n",
       "people government country work one need make want           549\n",
       "police crime people public women also work policing         282\n",
       "schools education people children school young work want    269\n",
       "nhs health services care patients public service new        111\n",
       "Name: topic, dtype: int64"
      ]
     },
     "execution_count": 27,
     "metadata": {},
     "output_type": "execute_result"
    }
   ],
   "source": [
    "uk_pol_tokens.topic.value_counts()"
   ]
  },
  {
   "cell_type": "code",
   "execution_count": 28,
   "metadata": {},
   "outputs": [],
   "source": [
    "# uk_pol_tokens.to_csv('uk_pol_topics.csv', index=False)"
   ]
  },
  {
   "cell_type": "code",
   "execution_count": 6,
   "metadata": {},
   "outputs": [],
   "source": [
    "uk_pol_topics = pd.read_csv('uk_pol_topics.csv')"
   ]
  },
  {
   "cell_type": "code",
   "execution_count": 7,
   "metadata": {},
   "outputs": [],
   "source": [
    "# I manually assigned topic titles based on what the topic words looked like.\n",
    "topic_dict = {'eu uk world would us europe people trade':'global',\n",
    "              'new uk government also world business year investment':'business',\n",
    "              'people government country work one need make want':'uk society',\n",
    "              'police crime people public women also work policing':'crime',\n",
    "              'schools education people children school young work want':'education',\n",
    "              'nhs health services care patients public service new':'health'}"
   ]
  },
  {
   "cell_type": "code",
   "execution_count": 8,
   "metadata": {},
   "outputs": [],
   "source": [
    "uk_pol_topics['topic_title'] = uk_pol_topics.topic.map(lambda x: topic_dict[x])"
   ]
  },
  {
   "cell_type": "code",
   "execution_count": 9,
   "metadata": {},
   "outputs": [
    {
     "data": {
      "text/plain": [
       "global        618\n",
       "business      564\n",
       "uk society    549\n",
       "crime         282\n",
       "education     269\n",
       "health        111\n",
       "Name: topic_title, dtype: int64"
      ]
     },
     "execution_count": 9,
     "metadata": {},
     "output_type": "execute_result"
    }
   ],
   "source": [
    "uk_pol_topics.topic_title.value_counts()"
   ]
  },
  {
   "cell_type": "code",
   "execution_count": 10,
   "metadata": {},
   "outputs": [],
   "source": [
    "uk_pol_topics.to_csv('uk_pol_topics.csv', index=False)"
   ]
  },
  {
   "cell_type": "code",
   "execution_count": 11,
   "metadata": {},
   "outputs": [
    {
     "data": {
      "text/html": [
       "<div>\n",
       "<style scoped>\n",
       "    .dataframe tbody tr th:only-of-type {\n",
       "        vertical-align: middle;\n",
       "    }\n",
       "\n",
       "    .dataframe tbody tr th {\n",
       "        vertical-align: top;\n",
       "    }\n",
       "\n",
       "    .dataframe thead th {\n",
       "        text-align: right;\n",
       "    }\n",
       "</style>\n",
       "<table border=\"1\" class=\"dataframe\">\n",
       "  <thead>\n",
       "    <tr style=\"text-align: right;\">\n",
       "      <th></th>\n",
       "      <th>speaker</th>\n",
       "      <th>party</th>\n",
       "      <th>date</th>\n",
       "      <th>subject</th>\n",
       "      <th>tokenised</th>\n",
       "      <th>topic</th>\n",
       "      <th>topic_title</th>\n",
       "    </tr>\n",
       "  </thead>\n",
       "  <tbody>\n",
       "    <tr>\n",
       "      <th>0</th>\n",
       "      <td>Mark Isherwood</td>\n",
       "      <td>Conservative</td>\n",
       "      <td>2006-01-10</td>\n",
       "      <td>Fuel Poverty</td>\n",
       "      <td>['chartered', 'institute', 'housing', 'states'...</td>\n",
       "      <td>people government country work one need make want</td>\n",
       "      <td>uk society</td>\n",
       "    </tr>\n",
       "    <tr>\n",
       "      <th>1</th>\n",
       "      <td>Chuka Umunna</td>\n",
       "      <td>Labour</td>\n",
       "      <td>2011-12-02</td>\n",
       "      <td>Universities UK</td>\n",
       "      <td>['thank', 'kind', 'welcome', 'hugely', 'gratef...</td>\n",
       "      <td>schools education people children school young...</td>\n",
       "      <td>education</td>\n",
       "    </tr>\n",
       "    <tr>\n",
       "      <th>2</th>\n",
       "      <td>Chuka Umunna</td>\n",
       "      <td>Labour</td>\n",
       "      <td>2012-01-12</td>\n",
       "      <td>High Pay Commission</td>\n",
       "      <td>['thank', 'introduction', 'hosting', 'event', ...</td>\n",
       "      <td>people government country work one need make want</td>\n",
       "      <td>uk society</td>\n",
       "    </tr>\n",
       "    <tr>\n",
       "      <th>3</th>\n",
       "      <td>Chuka Umunna</td>\n",
       "      <td>Labour</td>\n",
       "      <td>2012-06-26</td>\n",
       "      <td>Hub Westminster</td>\n",
       "      <td>['thank', 'introduction', 'thank', 'inviting',...</td>\n",
       "      <td>people government country work one need make want</td>\n",
       "      <td>uk society</td>\n",
       "    </tr>\n",
       "    <tr>\n",
       "      <th>4</th>\n",
       "      <td>Chuka Umunna</td>\n",
       "      <td>Labour</td>\n",
       "      <td>2012-05-28</td>\n",
       "      <td>UCATT Conference</td>\n",
       "      <td>['conference', 'thank', 'much', 'inviting', 's...</td>\n",
       "      <td>people government country work one need make want</td>\n",
       "      <td>uk society</td>\n",
       "    </tr>\n",
       "  </tbody>\n",
       "</table>\n",
       "</div>"
      ],
      "text/plain": [
       "          speaker         party        date              subject  \\\n",
       "0  Mark Isherwood  Conservative  2006-01-10         Fuel Poverty   \n",
       "1    Chuka Umunna        Labour  2011-12-02      Universities UK   \n",
       "2    Chuka Umunna        Labour  2012-01-12  High Pay Commission   \n",
       "3    Chuka Umunna        Labour  2012-06-26      Hub Westminster   \n",
       "4    Chuka Umunna        Labour  2012-05-28     UCATT Conference   \n",
       "\n",
       "                                           tokenised  \\\n",
       "0  ['chartered', 'institute', 'housing', 'states'...   \n",
       "1  ['thank', 'kind', 'welcome', 'hugely', 'gratef...   \n",
       "2  ['thank', 'introduction', 'hosting', 'event', ...   \n",
       "3  ['thank', 'introduction', 'thank', 'inviting',...   \n",
       "4  ['conference', 'thank', 'much', 'inviting', 's...   \n",
       "\n",
       "                                               topic topic_title  \n",
       "0  people government country work one need make want  uk society  \n",
       "1  schools education people children school young...   education  \n",
       "2  people government country work one need make want  uk society  \n",
       "3  people government country work one need make want  uk society  \n",
       "4  people government country work one need make want  uk society  "
      ]
     },
     "execution_count": 11,
     "metadata": {},
     "output_type": "execute_result"
    }
   ],
   "source": [
    "uk_pol_topics.head()"
   ]
  },
  {
   "cell_type": "code",
   "execution_count": 12,
   "metadata": {},
   "outputs": [
    {
     "data": {
      "text/plain": [
       "party\n",
       "Conservative    1723\n",
       "Labour           670\n",
       "Name: topic_title, dtype: int64"
      ]
     },
     "execution_count": 12,
     "metadata": {},
     "output_type": "execute_result"
    }
   ],
   "source": [
    "uk_pol_topics.groupby('party')['topic_title'].count()"
   ]
  },
  {
   "cell_type": "code",
   "execution_count": 13,
   "metadata": {},
   "outputs": [],
   "source": [
    "topics_by_party = pd.DataFrame(uk_pol_topics.groupby(['party','topic_title'])['topic_title'].count()/uk_pol_topics.groupby('party')['topic_title'].count()*100)"
   ]
  },
  {
   "cell_type": "code",
   "execution_count": 20,
   "metadata": {},
   "outputs": [
    {
     "data": {
      "image/png": "[encoded data removed]",
      "text/plain": [
       "<matplotlib.figure.Figure at 0x101d91470>"
      ]
     },
     "metadata": {
      "image/png": {
       "height": 503,
       "width": 721
      },
      "needs_background": "light"
     },
     "output_type": "display_data"
    }
   ],
   "source": [
    "fig, ax = plt.subplots(figsize=(12,8))\n",
    "\n",
    "topics_by_party.unstack().plot(kind='bar', ax=ax, rot=0)\n",
    "\n",
    "ax.legend(['Business','Crime','Education','Global','Health','UK Society'])\n",
    "ax.set_xlabel('Party')\n",
    "ax.set_ylabel('% in topic group')\n",
    "\n",
    "plt.setp(ax.get_xticklabels(), fontsize=14)\n",
    "plt.title('Topic splits by party')\n",
    "plt.show();"
   ]
  },
  {
   "cell_type": "code",
   "execution_count": 79,
   "metadata": {},
   "outputs": [
    {
     "data": {
      "text/html": [
       "<div>\n",
       "<style scoped>\n",
       "    .dataframe tbody tr th:only-of-type {\n",
       "        vertical-align: middle;\n",
       "    }\n",
       "\n",
       "    .dataframe tbody tr th {\n",
       "        vertical-align: top;\n",
       "    }\n",
       "\n",
       "    .dataframe thead th {\n",
       "        text-align: right;\n",
       "    }\n",
       "</style>\n",
       "<table border=\"1\" class=\"dataframe\">\n",
       "  <thead>\n",
       "    <tr style=\"text-align: right;\">\n",
       "      <th></th>\n",
       "      <th>speaker</th>\n",
       "      <th>party</th>\n",
       "      <th>date</th>\n",
       "      <th>subject</th>\n",
       "      <th>tokenised</th>\n",
       "      <th>topic</th>\n",
       "      <th>topic_title</th>\n",
       "    </tr>\n",
       "  </thead>\n",
       "  <tbody>\n",
       "    <tr>\n",
       "      <th>0</th>\n",
       "      <td>Mark Isherwood</td>\n",
       "      <td>Conservative</td>\n",
       "      <td>2006-01-10</td>\n",
       "      <td>Fuel Poverty</td>\n",
       "      <td>['chartered', 'institute', 'housing', 'states'...</td>\n",
       "      <td>people government country work one need make want</td>\n",
       "      <td>uk society</td>\n",
       "    </tr>\n",
       "    <tr>\n",
       "      <th>1</th>\n",
       "      <td>Chuka Umunna</td>\n",
       "      <td>Labour</td>\n",
       "      <td>2011-12-02</td>\n",
       "      <td>Universities UK</td>\n",
       "      <td>['thank', 'kind', 'welcome', 'hugely', 'gratef...</td>\n",
       "      <td>schools education people children school young...</td>\n",
       "      <td>education</td>\n",
       "    </tr>\n",
       "    <tr>\n",
       "      <th>2</th>\n",
       "      <td>Chuka Umunna</td>\n",
       "      <td>Labour</td>\n",
       "      <td>2012-01-12</td>\n",
       "      <td>High Pay Commission</td>\n",
       "      <td>['thank', 'introduction', 'hosting', 'event', ...</td>\n",
       "      <td>people government country work one need make want</td>\n",
       "      <td>uk society</td>\n",
       "    </tr>\n",
       "    <tr>\n",
       "      <th>3</th>\n",
       "      <td>Chuka Umunna</td>\n",
       "      <td>Labour</td>\n",
       "      <td>2012-06-26</td>\n",
       "      <td>Hub Westminster</td>\n",
       "      <td>['thank', 'introduction', 'thank', 'inviting',...</td>\n",
       "      <td>people government country work one need make want</td>\n",
       "      <td>uk society</td>\n",
       "    </tr>\n",
       "    <tr>\n",
       "      <th>4</th>\n",
       "      <td>Chuka Umunna</td>\n",
       "      <td>Labour</td>\n",
       "      <td>2012-05-28</td>\n",
       "      <td>UCATT Conference</td>\n",
       "      <td>['conference', 'thank', 'much', 'inviting', 's...</td>\n",
       "      <td>people government country work one need make want</td>\n",
       "      <td>uk society</td>\n",
       "    </tr>\n",
       "  </tbody>\n",
       "</table>\n",
       "</div>"
      ],
      "text/plain": [
       "          speaker         party        date              subject  \\\n",
       "0  Mark Isherwood  Conservative  2006-01-10         Fuel Poverty   \n",
       "1    Chuka Umunna        Labour  2011-12-02      Universities UK   \n",
       "2    Chuka Umunna        Labour  2012-01-12  High Pay Commission   \n",
       "3    Chuka Umunna        Labour  2012-06-26      Hub Westminster   \n",
       "4    Chuka Umunna        Labour  2012-05-28     UCATT Conference   \n",
       "\n",
       "                                           tokenised  \\\n",
       "0  ['chartered', 'institute', 'housing', 'states'...   \n",
       "1  ['thank', 'kind', 'welcome', 'hugely', 'gratef...   \n",
       "2  ['thank', 'introduction', 'hosting', 'event', ...   \n",
       "3  ['thank', 'introduction', 'thank', 'inviting',...   \n",
       "4  ['conference', 'thank', 'much', 'inviting', 's...   \n",
       "\n",
       "                                               topic topic_title  \n",
       "0  people government country work one need make want  uk society  \n",
       "1  schools education people children school young...   education  \n",
       "2  people government country work one need make want  uk society  \n",
       "3  people government country work one need make want  uk society  \n",
       "4  people government country work one need make want  uk society  "
      ]
     },
     "execution_count": 79,
     "metadata": {},
     "output_type": "execute_result"
    }
   ],
   "source": [
    "uk_pol_topics.head()"
   ]
  },
  {
   "cell_type": "code",
   "execution_count": 22,
   "metadata": {},
   "outputs": [],
   "source": [
    "maiden_topics_by_party = pd.DataFrame(uk_pol_topics[uk_pol_topics.subject=='Maiden Speech'].groupby(['party','topic_title'])['topic_title'].count()/uk_pol_topics[uk_pol_topics.subject=='Maiden Speech'].groupby('party')['topic_title'].count()*100)"
   ]
  },
  {
   "cell_type": "code",
   "execution_count": 23,
   "metadata": {},
   "outputs": [
    {
     "data": {
      "text/html": [
       "<div>\n",
       "<style scoped>\n",
       "    .dataframe tbody tr th:only-of-type {\n",
       "        vertical-align: middle;\n",
       "    }\n",
       "\n",
       "    .dataframe tbody tr th {\n",
       "        vertical-align: top;\n",
       "    }\n",
       "\n",
       "    .dataframe thead th {\n",
       "        text-align: right;\n",
       "    }\n",
       "</style>\n",
       "<table border=\"1\" class=\"dataframe\">\n",
       "  <thead>\n",
       "    <tr style=\"text-align: right;\">\n",
       "      <th></th>\n",
       "      <th></th>\n",
       "      <th>topic_title</th>\n",
       "    </tr>\n",
       "    <tr>\n",
       "      <th>party</th>\n",
       "      <th>topic_title</th>\n",
       "      <th></th>\n",
       "    </tr>\n",
       "  </thead>\n",
       "  <tbody>\n",
       "    <tr>\n",
       "      <th rowspan=\"6\" valign=\"top\">Conservative</th>\n",
       "      <th>business</th>\n",
       "      <td>3.278689</td>\n",
       "    </tr>\n",
       "    <tr>\n",
       "      <th>crime</th>\n",
       "      <td>3.278689</td>\n",
       "    </tr>\n",
       "    <tr>\n",
       "      <th>education</th>\n",
       "      <td>4.918033</td>\n",
       "    </tr>\n",
       "    <tr>\n",
       "      <th>global</th>\n",
       "      <td>37.704918</td>\n",
       "    </tr>\n",
       "    <tr>\n",
       "      <th>health</th>\n",
       "      <td>1.639344</td>\n",
       "    </tr>\n",
       "    <tr>\n",
       "      <th>uk society</th>\n",
       "      <td>49.180328</td>\n",
       "    </tr>\n",
       "    <tr>\n",
       "      <th rowspan=\"5\" valign=\"top\">Labour</th>\n",
       "      <th>business</th>\n",
       "      <td>5.000000</td>\n",
       "    </tr>\n",
       "    <tr>\n",
       "      <th>crime</th>\n",
       "      <td>5.000000</td>\n",
       "    </tr>\n",
       "    <tr>\n",
       "      <th>education</th>\n",
       "      <td>1.666667</td>\n",
       "    </tr>\n",
       "    <tr>\n",
       "      <th>global</th>\n",
       "      <td>21.666667</td>\n",
       "    </tr>\n",
       "    <tr>\n",
       "      <th>uk society</th>\n",
       "      <td>66.666667</td>\n",
       "    </tr>\n",
       "  </tbody>\n",
       "</table>\n",
       "</div>"
      ],
      "text/plain": [
       "                          topic_title\n",
       "party        topic_title             \n",
       "Conservative business        3.278689\n",
       "             crime           3.278689\n",
       "             education       4.918033\n",
       "             global         37.704918\n",
       "             health          1.639344\n",
       "             uk society     49.180328\n",
       "Labour       business        5.000000\n",
       "             crime           5.000000\n",
       "             education       1.666667\n",
       "             global         21.666667\n",
       "             uk society     66.666667"
      ]
     },
     "execution_count": 23,
     "metadata": {},
     "output_type": "execute_result"
    }
   ],
   "source": [
    "maiden_topics_by_party"
   ]
  },
  {
   "cell_type": "code",
   "execution_count": 41,
   "metadata": {},
   "outputs": [
    {
     "data": {
      "image/png": "[encoded data removed]",
      "text/plain": [
       "<matplotlib.figure.Figure at 0x114ad8278>"
      ]
     },
     "metadata": {
      "image/png": {
       "height": 503,
       "width": 721
      },
      "needs_background": "light"
     },
     "output_type": "display_data"
    }
   ],
   "source": [
    "fig, ax = plt.subplots(figsize=(12,8))\n",
    "\n",
    "maiden_topics_by_party.unstack().plot(kind='bar', ax=ax, rot=0)\n",
    "\n",
    "ax.legend(['Business','Crime','Education','Global','Health','UK Society'])\n",
    "ax.set_xlabel('Party')\n",
    "ax.set_ylabel('% in topic group')\n",
    "\n",
    "plt.setp(ax.get_xticklabels(), fontsize=14)\n",
    "plt.title('Maiden Speech topic splits by party')\n",
    "plt.show();"
   ]
  },
  {
   "cell_type": "code",
   "execution_count": 35,
   "metadata": {},
   "outputs": [
    {
     "data": {
      "text/plain": [
       "Academies                          4\n",
       "Maiden Speech                      4\n",
       "Education                          3\n",
       "Social Mobility                    3\n",
       "Apprenticeships                    3\n",
       "Speech at Education World Forum    3\n",
       "Labour Party Conference            3\n",
       "School Funding                     2\n",
       "Welfare Reform                     2\n",
       "School Improvement                 2\n",
       "Name: subject, dtype: int64"
      ]
     },
     "execution_count": 35,
     "metadata": {},
     "output_type": "execute_result"
    }
   ],
   "source": [
    "uk_pol_topics[uk_pol_topics.topic_title=='education'].subject.value_counts()[:10]"
   ]
  },
  {
   "cell_type": "code",
   "execution_count": 36,
   "metadata": {},
   "outputs": [
    {
     "data": {
      "text/plain": [
       "Mansion House Speech       7\n",
       "Climate Change             6\n",
       "HS2                        6\n",
       "Maiden Speech              5\n",
       "Oxford Media Convention    4\n",
       "Speech at Chatham House    4\n",
       "Environment                4\n",
       "CBI Conference             3\n",
       "Speech at Davos            3\n",
       "Creative Industries        3\n",
       "Name: subject, dtype: int64"
      ]
     },
     "execution_count": 36,
     "metadata": {},
     "output_type": "execute_result"
    }
   ],
   "source": [
    "uk_pol_topics[uk_pol_topics.topic_title=='business'].subject.value_counts()[:10]"
   ]
  },
  {
   "cell_type": "code",
   "execution_count": 37,
   "metadata": {},
   "outputs": [
    {
     "data": {
      "text/plain": [
       "King’s Fund                      5\n",
       "Junior Doctors                   3\n",
       "Conservative Party Conference    3\n",
       "Labour Party Conference          2\n",
       "Junior Doctors Contracts         2\n",
       "NHS Plan                         1\n",
       "Foundation Hospitals             1\n",
       "GP Training                      1\n",
       "NHS Chairs Conference            1\n",
       "Primary Care                     1\n",
       "Name: subject, dtype: int64"
      ]
     },
     "execution_count": 37,
     "metadata": {},
     "output_type": "execute_result"
    }
   ],
   "source": [
    "uk_pol_topics[uk_pol_topics.topic_title=='health'].subject.value_counts()[:10]"
   ]
  },
  {
   "cell_type": "code",
   "execution_count": 38,
   "metadata": {},
   "outputs": [
    {
     "data": {
      "text/plain": [
       "Maiden Speech                       36\n",
       "Syrian Air Strikes                  15\n",
       "Brexit                              13\n",
       "Commons on Queen’s 90th Birthday     7\n",
       "Labour Party Conference              7\n",
       "European Union                       5\n",
       "Withdrawal from EU                   5\n",
       "Conservative Party Conference        5\n",
       "Iraq                                 4\n",
       "Syria                                4\n",
       "Name: subject, dtype: int64"
      ]
     },
     "execution_count": 38,
     "metadata": {},
     "output_type": "execute_result"
    }
   ],
   "source": [
    "uk_pol_topics[uk_pol_topics.topic_title=='global'].subject.value_counts()[:10]"
   ]
  },
  {
   "cell_type": "code",
   "execution_count": 39,
   "metadata": {},
   "outputs": [
    {
     "data": {
      "text/plain": [
       "Maiden Speech                        70\n",
       "Labour Party Conference              44\n",
       "Conservative Party Conference        27\n",
       "Speech at Labour Party Conference    12\n",
       "TUC Conference                       11\n",
       "Economy                               7\n",
       "Budget Speech                         6\n",
       "Conservative Spring Conference        5\n",
       "Housing                               5\n",
       "Welfare Reform                        4\n",
       "Name: subject, dtype: int64"
      ]
     },
     "execution_count": 39,
     "metadata": {},
     "output_type": "execute_result"
    }
   ],
   "source": [
    "uk_pol_topics[uk_pol_topics.topic_title=='uk society'].subject.value_counts()[:10]"
   ]
  },
  {
   "cell_type": "code",
   "execution_count": 40,
   "metadata": {},
   "outputs": [
    {
     "data": {
      "text/plain": [
       "Jo Cox                                    6\n",
       "Labour Party Conference                   5\n",
       "Maiden Speech                             5\n",
       "Infected Blood Inquiry                    4\n",
       "Modern Slavery                            3\n",
       "Syria                                     3\n",
       "Westminster Terror Attack                 3\n",
       "Speech at Police Federation Conference    3\n",
       "Police Federation Conference              3\n",
       "Sky/Fox Merger                            2\n",
       "Name: subject, dtype: int64"
      ]
     },
     "execution_count": 40,
     "metadata": {},
     "output_type": "execute_result"
    }
   ],
   "source": [
    "uk_pol_topics[uk_pol_topics.topic_title=='crime'].subject.value_counts()[:10]"
   ]
  },
  {
   "cell_type": "code",
   "execution_count": 94,
   "metadata": {},
   "outputs": [
    {
     "data": {
      "text/plain": [
       "uk society    164\n",
       "business       78\n",
       "global         68\n",
       "education      44\n",
       "crime          34\n",
       "health         27\n",
       "Name: topic_title, dtype: int64"
      ]
     },
     "execution_count": 94,
     "metadata": {},
     "output_type": "execute_result"
    }
   ],
   "source": [
    "uk_pol_topics[uk_pol_topics.subject.str.contains('Conference')].topic_title.value_counts()"
   ]
  },
  {
   "cell_type": "code",
   "execution_count": 95,
   "metadata": {},
   "outputs": [],
   "source": [
    "conf_topics_by_party = pd.DataFrame(uk_pol_topics[uk_pol_topics.subject.str.contains('Conference')].groupby(['party','topic_title'])['topic_title'].count()/uk_pol_topics[uk_pol_topics.subject.str.contains('Conference')].groupby('party')['topic_title'].count()*100)"
   ]
  },
  {
   "cell_type": "code",
   "execution_count": 96,
   "metadata": {},
   "outputs": [
    {
     "data": {
      "image/png": "[encoded data removed]",
      "text/plain": [
       "<matplotlib.figure.Figure at 0x125f9fd30>"
      ]
     },
     "metadata": {
      "image/png": {
       "height": 498,
       "width": 705
      },
      "needs_background": "light"
     },
     "output_type": "display_data"
    }
   ],
   "source": [
    "fig, ax = plt.subplots(figsize=(12,8))\n",
    "\n",
    "conf_topics_by_party.unstack().plot(kind='bar', ax=ax, rot=0)\n",
    "\n",
    "ax.legend(['business','crime','education','global','health','uk society'])\n",
    "\n",
    "plt.title('Conference speech topic splits by party')\n",
    "plt.show();"
   ]
  },
  {
   "cell_type": "markdown",
   "metadata": {},
   "source": [
    "### Random state test for my own interest:"
   ]
  },
  {
   "cell_type": "code",
   "execution_count": 6,
   "metadata": {},
   "outputs": [],
   "source": [
    "Lda = gensim.models.ldamodel.LdaModel"
   ]
  },
  {
   "cell_type": "code",
   "execution_count": 7,
   "metadata": {},
   "outputs": [
    {
     "name": "stdout",
     "output_type": "stream",
     "text": [
      "police crime public people work need policing government\n",
      "people government new country economy need work one\n",
      "uk eu world security us countries people europe\n",
      "nhs health services care patients public new service\n",
      "government would one hon house people right many\n",
      "people schools education work children school young need\n"
     ]
    }
   ],
   "source": [
    "# generate the topics. this takes a while, and I had to re-run a few times to get topics that\n",
    "# make sense. I picked 6 topics because it gave me a good range but that might vary for\n",
    "# different data sets\n",
    "ldamodel = Lda(doc_term_matrix, num_topics=6, id2word = dictionary, passes=50, random_state=1)\n",
    "\n",
    "# ldamodel.print_topics(num_topics=6, num_words=8)\n",
    "\n",
    "topic_ident = re.compile(r'[a-z]+')\n",
    "\n",
    "# just wrote this loop to separate out the words from the weightings and print them nicely\n",
    "for topic in ldamodel.print_topics(num_topics=6, num_words=8):\n",
    "    print(' '.join(re.findall(topic_ident,topic[1])))"
   ]
  },
  {
   "cell_type": "code",
   "execution_count": null,
   "metadata": {},
   "outputs": [],
   "source": []
  }
 ],
 "metadata": {
  "kernelspec": {
   "display_name": "Python 3",
   "language": "python",
   "name": "python3"
  },
  "language_info": {
   "codemirror_mode": {
    "name": "ipython",
    "version": 3
   },
   "file_extension": ".py",
   "mimetype": "text/x-python",
   "name": "python",
   "nbconvert_exporter": "python",
   "pygments_lexer": "ipython3",
   "version": "3.6.5"
  }
 },
 "nbformat": 4,
 "nbformat_minor": 2
}
