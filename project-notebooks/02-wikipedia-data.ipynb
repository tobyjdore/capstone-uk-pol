{
 "cells": [
  {
   "cell_type": "code",
   "execution_count": 9,
   "metadata": {},
   "outputs": [],
   "source": [
    "import wikipedia\n",
    "import numpy as np\n",
    "import pandas as pd\n",
    "import json\n",
    "import re\n",
    "import multiprocessing as mp\n",
    "import threading\n",
    "from tqdm import tqdm_notebook"
   ]
  },
  {
   "cell_type": "code",
   "execution_count": 2,
   "metadata": {},
   "outputs": [
    {
     "data": {
      "text/plain": [
       "['1953 births',\n",
       " '20th-century Prime Ministers of the United Kingdom',\n",
       " '21st-century Prime Ministers of the United Kingdom',\n",
       " 'AC with 17 elements',\n",
       " 'Advocates of the European Union',\n",
       " 'All BLP articles lacking sources',\n",
       " 'All articles lacking reliable references',\n",
       " 'All articles with unsourced statements',\n",
       " \"Alumni of St John's College, Oxford\",\n",
       " 'Alumni of the Inns of Court School of Law',\n",
       " 'Articles lacking reliable references from January 2016',\n",
       " 'Articles with short description',\n",
       " 'Articles with unsourced statements from August 2016',\n",
       " 'Articles with unsourced statements from January 2016',\n",
       " 'BLP articles lacking sources from January 2016',\n",
       " 'British diplomats',\n",
       " 'CS1 maint: BOT: original-url status unknown',\n",
       " 'CS1 maint: Extra text: editors list',\n",
       " 'Commission for Africa members',\n",
       " 'Congressional Gold Medal recipients',\n",
       " 'Converts to Roman Catholicism from Anglicanism',\n",
       " 'Democratic socialists',\n",
       " 'English Roman Catholics',\n",
       " 'English autobiographers',\n",
       " \"Fellows of St John's College, Oxford\",\n",
       " 'Former Marxists',\n",
       " 'Labour Friends of Israel',\n",
       " 'Labour Party (UK) MPs for English constituencies',\n",
       " 'Labour Party Prime Ministers of the United Kingdom',\n",
       " 'Leaders of the Labour Party (UK)',\n",
       " 'Leaders of the Opposition (United Kingdom)',\n",
       " 'Living people',\n",
       " \"Members of Lincoln's Inn\",\n",
       " 'Members of the Fabian Society',\n",
       " 'Members of the Privy Council of the United Kingdom',\n",
       " 'Pages containing links to subscription-only content',\n",
       " 'People educated at Fettes College',\n",
       " 'People educated at the Chorister School, Durham',\n",
       " 'People from Edinburgh',\n",
       " 'People of the Year Awards winners',\n",
       " 'Presidential Medal of Freedom recipients',\n",
       " 'Presidents of the European Council',\n",
       " 'Prime Ministers of the United Kingdom',\n",
       " 'Sedgefield (borough)',\n",
       " 'Tony Blair',\n",
       " 'Trimdon',\n",
       " 'UK MPs 1983–87',\n",
       " 'UK MPs 1987–92',\n",
       " 'UK MPs 1992–97',\n",
       " 'UK MPs 1997–2001',\n",
       " 'UK MPs 2001–05',\n",
       " 'UK MPs 2005–10',\n",
       " 'Use British English from August 2011',\n",
       " 'Use dmy dates from February 2018',\n",
       " 'Washington Institute for Near East Policy',\n",
       " 'Webarchive template wayback links',\n",
       " 'Wikipedia articles needing clarification from February 2016',\n",
       " 'Wikipedia articles with BIBSYS identifiers',\n",
       " 'Wikipedia articles with BNE identifiers',\n",
       " 'Wikipedia articles with BNF identifiers',\n",
       " 'Wikipedia articles with GND identifiers',\n",
       " 'Wikipedia articles with ISNI identifiers',\n",
       " 'Wikipedia articles with LCCN identifiers',\n",
       " 'Wikipedia articles with LNB identifiers',\n",
       " 'Wikipedia articles with MusicBrainz identifiers',\n",
       " 'Wikipedia articles with NDL identifiers',\n",
       " 'Wikipedia articles with NKC identifiers',\n",
       " 'Wikipedia articles with NLA identifiers',\n",
       " 'Wikipedia articles with NSK identifiers',\n",
       " 'Wikipedia articles with SELIBR identifiers',\n",
       " 'Wikipedia articles with SNAC-ID identifiers',\n",
       " 'Wikipedia articles with SUDOC identifiers',\n",
       " 'Wikipedia articles with ULAN identifiers',\n",
       " 'Wikipedia articles with VIAF identifiers',\n",
       " 'Wikipedia articles with WorldCat-VIAF identifiers',\n",
       " 'Wikipedia indefinitely move-protected pages',\n",
       " 'Wikipedia indefinitely semi-protected biographies of living people',\n",
       " 'Yale University faculty']"
      ]
     },
     "execution_count": 2,
     "metadata": {},
     "output_type": "execute_result"
    }
   ],
   "source": [
    "wikipedia.WikipediaPage(title = \"Tony Blair\").categories"
   ]
  },
  {
   "cell_type": "code",
   "execution_count": 3,
   "metadata": {},
   "outputs": [
    {
     "data": {
      "text/plain": [
       "['Tom Boardman',\n",
       " 'Tom Boardman, Baron Boardman',\n",
       " 'The Exorcism of Emily Rose',\n",
       " 'Robert II of Scotland',\n",
       " 'Humphrey Boardman',\n",
       " 'Boardman Books',\n",
       " 'Christopher Boardman',\n",
       " 'How Hill',\n",
       " 'Joseph H. Boardman',\n",
       " '1967 Leicester South West by-election']"
      ]
     },
     "execution_count": 3,
     "metadata": {},
     "output_type": "execute_result"
    }
   ],
   "source": [
    "wikipedia.search('Thomas Boardman')"
   ]
  },
  {
   "cell_type": "code",
   "execution_count": 10,
   "metadata": {},
   "outputs": [],
   "source": [
    "uk_pol = pd.read_csv('uk_pol_clean.csv')"
   ]
  },
  {
   "cell_type": "code",
   "execution_count": 11,
   "metadata": {},
   "outputs": [],
   "source": [
    "speakers = pd.DataFrame(uk_pol.speaker.value_counts()).reset_index()\n",
    "speakers.columns = ['speaker','speech_count']"
   ]
  },
  {
   "cell_type": "code",
   "execution_count": 14,
   "metadata": {},
   "outputs": [
    {
     "data": {
      "text/html": [
       "<div>\n",
       "<style scoped>\n",
       "    .dataframe tbody tr th:only-of-type {\n",
       "        vertical-align: middle;\n",
       "    }\n",
       "\n",
       "    .dataframe tbody tr th {\n",
       "        vertical-align: top;\n",
       "    }\n",
       "\n",
       "    .dataframe thead th {\n",
       "        text-align: right;\n",
       "    }\n",
       "</style>\n",
       "<table border=\"1\" class=\"dataframe\">\n",
       "  <thead>\n",
       "    <tr style=\"text-align: right;\">\n",
       "      <th></th>\n",
       "      <th>speaker</th>\n",
       "      <th>speech_count</th>\n",
       "    </tr>\n",
       "  </thead>\n",
       "  <tbody>\n",
       "    <tr>\n",
       "      <th>0</th>\n",
       "      <td>David Cameron</td>\n",
       "      <td>186</td>\n",
       "    </tr>\n",
       "    <tr>\n",
       "      <th>1</th>\n",
       "      <td>Theresa May</td>\n",
       "      <td>158</td>\n",
       "    </tr>\n",
       "    <tr>\n",
       "      <th>2</th>\n",
       "      <td>Gordon Brown</td>\n",
       "      <td>67</td>\n",
       "    </tr>\n",
       "    <tr>\n",
       "      <th>3</th>\n",
       "      <td>Matthew Hancock</td>\n",
       "      <td>62</td>\n",
       "    </tr>\n",
       "    <tr>\n",
       "      <th>4</th>\n",
       "      <td>George Osborne</td>\n",
       "      <td>58</td>\n",
       "    </tr>\n",
       "  </tbody>\n",
       "</table>\n",
       "</div>"
      ],
      "text/plain": [
       "           speaker  speech_count\n",
       "0    David Cameron           186\n",
       "1      Theresa May           158\n",
       "2     Gordon Brown            67\n",
       "3  Matthew Hancock            62\n",
       "4   George Osborne            58"
      ]
     },
     "execution_count": 14,
     "metadata": {},
     "output_type": "execute_result"
    }
   ],
   "source": [
    "speakers.head()"
   ]
  },
  {
   "cell_type": "code",
   "execution_count": 7,
   "metadata": {},
   "outputs": [],
   "source": [
    "def get_wiki_summary(name):\n",
    "    try:\n",
    "        wiki_summary = wikipedia.WikipediaPage(title=name).summary\n",
    "    except:\n",
    "        try:\n",
    "            name = name +' (politician)'\n",
    "            wiki_summary = wikipedia.WikipediaPage(title=name).summary\n",
    "        except:\n",
    "            try:\n",
    "                name = name +' (British politician)'\n",
    "                wiki_summary = wikipedia.WikipediaPage(title=name).summary\n",
    "            except:\n",
    "                try:\n",
    "                    name = name +' (Labour politician)'\n",
    "                    wiki_summary = wikipedia.WikipediaPage(title=name).summary\n",
    "                except:\n",
    "                    try:\n",
    "                        potential_matches = wikipedia.search(name)\n",
    "                        wiki_summary = []\n",
    "                        for match in potential_matches:\n",
    "                            match_summary = wikipedia.WikipediaPage(title=match).summary\n",
    "                            if name in match_summary:\n",
    "                                wiki_summary.append(match_summary)\n",
    "                    except:\n",
    "                        wiki_summary = 'No summary'\n",
    "\n",
    "                        return wiki_summary"
   ]
  },
  {
   "cell_type": "code",
   "execution_count": 12,
   "metadata": {},
   "outputs": [],
   "source": [
    "party_dict = {'Conservative Party':'Conservative',\n",
    "              'Labour Party':'Labour',\n",
    "              'Labour Co-operative':'Labour',\n",
    "              'Trades Union':'Labour',\n",
    "              'Liberal Democrat':'Lib Dem',\n",
    "              'Liberal Party':'Lib Dem',\n",
    "              'Green Party':'Greens',\n",
    "              'Scottish National Party':'SNP',\n",
    "              'Plaid Cymru':'Plaid Cymru',\n",
    "              'Sinn Féin':'Sinn Féin',\n",
    "              'Ulster Unionist Party':'UUP',\n",
    "              'Democratic Unionist Party':'DUP',\n",
    "              'UK Independence Party':'UKIP'}\n",
    "\n",
    "def get_party(name):\n",
    "    try:\n",
    "        wiki_cats = wikipedia.WikipediaPage(title=name).categories\n",
    "    except:\n",
    "        try:\n",
    "            longname = name +' (politician)'\n",
    "            wiki_cats = wikipedia.WikipediaPage(title=longname).categories\n",
    "        except:\n",
    "            try:\n",
    "                longname = name +' (British politician)'\n",
    "                wiki_cats = wikipedia.WikipediaPage(title=longname).categories\n",
    "            except:\n",
    "                try:\n",
    "                    longname = name +' (Labour politician)'\n",
    "                    wiki_cats = wikipedia.WikipediaPage(title=longname).categories\n",
    "                except:\n",
    "                    try:\n",
    "                        longname = name +' (Northern Ireland politician)'\n",
    "                        wiki_cats = wikipedia.WikipediaPage(title=longname).categories\n",
    "                    except:\n",
    "                        wiki_cats = []\n",
    "    wiki_cats_joined = ', '.join(wiki_cats)\n",
    "    party_count=0\n",
    "    party_name = 'No name'\n",
    "    for ref, party in party_dict.items():\n",
    "        if ref in wiki_cats_joined:\n",
    "            if party != party_name:\n",
    "                party_count+=1\n",
    "            party_name = party\n",
    "    return name, party_name, party_count\n",
    "\n",
    "def get_parties(index_group, indexes, return_dict):\n",
    "    results = []\n",
    "    for ind in tqdm_notebook(indexes):\n",
    "        name = speakers.iloc[ind,0]\n",
    "        speech_count = speakers.iloc[ind,1]\n",
    "        name, party_name, party_count = get_party(name)\n",
    "        results.append([name, speech_count, party_name, party_count])\n",
    "    return_dict[index_group]=results"
   ]
  },
  {
   "cell_type": "code",
   "execution_count": 13,
   "metadata": {},
   "outputs": [],
   "source": [
    "def request_thread(index_groups):\n",
    "    manager = mp.Manager()\n",
    "    return_dict = manager.dict()\n",
    "    threads = []\n",
    "    for index_group, indexes in tqdm_notebook(index_groups.items()):\n",
    "        thread = threading.Thread(name=index_group, \n",
    "                                  target=get_parties, \n",
    "                                  args=(index_group, indexes, return_dict))\n",
    "        thread.start()\n",
    "        threads.append(thread)\n",
    "\n",
    "    for t in threads:\n",
    "        t.join()\n",
    "\n",
    "    return return_dict"
   ]
  },
  {
   "cell_type": "code",
   "execution_count": 10,
   "metadata": {},
   "outputs": [],
   "source": [
    "speakers.to_csv('speakers.csv',index=False)"
   ]
  },
  {
   "cell_type": "code",
   "execution_count": 11,
   "metadata": {},
   "outputs": [],
   "source": [
    "speakers = pd.read_csv('speakers.csv')"
   ]
  },
  {
   "cell_type": "code",
   "execution_count": 15,
   "metadata": {},
   "outputs": [],
   "source": [
    "name_index_groups = range(speakers.shape[0],0,-50)\n",
    "indexes = {group:[i for i in range(0,group) if group-i<51] for group in name_index_groups}"
   ]
  },
  {
   "cell_type": "code",
   "execution_count": 16,
   "metadata": {},
   "outputs": [
    {
     "data": {
      "application/vnd.jupyter.widget-view+json": {
       "model_id": "a70d0c6a7c634c02b3eadfe3009de96a",
       "version_major": 2,
       "version_minor": 0
      },
      "text/plain": [
       "HBox(children=(IntProgress(value=0, max=12), HTML(value='')))"
      ]
     },
     "metadata": {},
     "output_type": "display_data"
    },
    {
     "data": {
      "application/vnd.jupyter.widget-view+json": {
       "model_id": "62e047eb5bac47b590a1f2d228169c4a",
       "version_major": 2,
       "version_minor": 0
      },
      "text/plain": [
       "HBox(children=(IntProgress(value=0, max=50), HTML(value='')))"
      ]
     },
     "metadata": {},
     "output_type": "display_data"
    },
    {
     "data": {
      "application/vnd.jupyter.widget-view+json": {
       "model_id": "02a21e7a650044de90e8b62014737508",
       "version_major": 2,
       "version_minor": 0
      },
      "text/plain": [
       "HBox(children=(IntProgress(value=0, max=50), HTML(value='')))"
      ]
     },
     "metadata": {},
     "output_type": "display_data"
    },
    {
     "data": {
      "application/vnd.jupyter.widget-view+json": {
       "model_id": "e8ae98a747d445d6967b3fb88da1039e",
       "version_major": 2,
       "version_minor": 0
      },
      "text/plain": [
       "HBox(children=(IntProgress(value=0, max=50), HTML(value='')))"
      ]
     },
     "metadata": {},
     "output_type": "display_data"
    },
    {
     "data": {
      "application/vnd.jupyter.widget-view+json": {
       "model_id": "9cb9cd01df964c4892f21ba4b340ccb9",
       "version_major": 2,
       "version_minor": 0
      },
      "text/plain": [
       "HBox(children=(IntProgress(value=0, max=50), HTML(value='')))"
      ]
     },
     "metadata": {},
     "output_type": "display_data"
    },
    {
     "data": {
      "application/vnd.jupyter.widget-view+json": {
       "model_id": "47bbf885417c46f4aa970133f89c8414",
       "version_major": 2,
       "version_minor": 0
      },
      "text/plain": [
       "HBox(children=(IntProgress(value=0, max=50), HTML(value='')))"
      ]
     },
     "metadata": {},
     "output_type": "display_data"
    },
    {
     "data": {
      "application/vnd.jupyter.widget-view+json": {
       "model_id": "16f0159650d1422aa4b9349cd64c29ed",
       "version_major": 2,
       "version_minor": 0
      },
      "text/plain": [
       "HBox(children=(IntProgress(value=0, max=20), HTML(value='')))"
      ]
     },
     "metadata": {},
     "output_type": "display_data"
    },
    {
     "data": {
      "application/vnd.jupyter.widget-view+json": {
       "model_id": "988b417062994800807832b58a965137",
       "version_major": 2,
       "version_minor": 0
      },
      "text/plain": [
       "HBox(children=(IntProgress(value=0, max=50), HTML(value='')))"
      ]
     },
     "metadata": {},
     "output_type": "display_data"
    },
    {
     "data": {
      "application/vnd.jupyter.widget-view+json": {
       "model_id": "b0459ea50b6846748198f49c2156a194",
       "version_major": 2,
       "version_minor": 0
      },
      "text/plain": [
       "HBox(children=(IntProgress(value=0, max=50), HTML(value='')))"
      ]
     },
     "metadata": {},
     "output_type": "display_data"
    },
    {
     "data": {
      "application/vnd.jupyter.widget-view+json": {
       "model_id": "f8994956f21a4432bdc30cf21fd8dce7",
       "version_major": 2,
       "version_minor": 0
      },
      "text/plain": [
       "HBox(children=(IntProgress(value=0, max=50), HTML(value='')))"
      ]
     },
     "metadata": {},
     "output_type": "display_data"
    },
    {
     "data": {
      "application/vnd.jupyter.widget-view+json": {
       "model_id": "cb34eb5053b64099bb0bcb9937fd1c43",
       "version_major": 2,
       "version_minor": 0
      },
      "text/plain": [
       "HBox(children=(IntProgress(value=0, max=50), HTML(value='')))"
      ]
     },
     "metadata": {},
     "output_type": "display_data"
    },
    {
     "data": {
      "application/vnd.jupyter.widget-view+json": {
       "model_id": "cede1832c625455cb5979d1b4fe8a960",
       "version_major": 2,
       "version_minor": 0
      },
      "text/plain": [
       "HBox(children=(IntProgress(value=0, max=50), HTML(value='')))"
      ]
     },
     "metadata": {},
     "output_type": "display_data"
    },
    {
     "data": {
      "application/vnd.jupyter.widget-view+json": {
       "model_id": "97de0dee40a2431e8511d630a65b3f9a",
       "version_major": 2,
       "version_minor": 0
      },
      "text/plain": [
       "HBox(children=(IntProgress(value=0, max=50), HTML(value='')))"
      ]
     },
     "metadata": {},
     "output_type": "display_data"
    },
    {
     "name": "stderr",
     "output_type": "stream",
     "text": [
      "/Library/Frameworks/Python.framework/Versions/3.6/lib/python3.6/site-packages/bs4/__init__.py:181: UserWarning: No parser was explicitly specified, so I'm using the best available HTML parser for this system (\"lxml\"). This usually isn't a problem, but if you run this code on another system, or in a different virtual environment, it may use a different parser and behave differently.\n",
      "\n",
      "The code that caused this warning is on line 884 of the file /Library/Frameworks/Python.framework/Versions/3.6/lib/python3.6/threading.py. To get rid of this warning, change code that looks like this:\n",
      "\n",
      " BeautifulSoup(YOUR_MARKUP})\n",
      "\n",
      "to this:\n",
      "\n",
      " BeautifulSoup(YOUR_MARKUP, \"lxml\")\n",
      "\n",
      "  markup_type=markup_type))\n"
     ]
    }
   ],
   "source": [
    "parties_dict = request_thread(indexes)"
   ]
  },
  {
   "cell_type": "code",
   "execution_count": 17,
   "metadata": {},
   "outputs": [],
   "source": [
    "speaker_parties = pd.DataFrame([x for group in parties_dict.values() for x in group],columns=['name','speech_count','party','party_count'])"
   ]
  },
  {
   "cell_type": "code",
   "execution_count": 18,
   "metadata": {},
   "outputs": [
    {
     "data": {
      "text/html": [
       "<div>\n",
       "<style scoped>\n",
       "    .dataframe tbody tr th:only-of-type {\n",
       "        vertical-align: middle;\n",
       "    }\n",
       "\n",
       "    .dataframe tbody tr th {\n",
       "        vertical-align: top;\n",
       "    }\n",
       "\n",
       "    .dataframe thead th {\n",
       "        text-align: right;\n",
       "    }\n",
       "</style>\n",
       "<table border=\"1\" class=\"dataframe\">\n",
       "  <thead>\n",
       "    <tr style=\"text-align: right;\">\n",
       "      <th></th>\n",
       "      <th>name</th>\n",
       "      <th>speech_count</th>\n",
       "      <th>party</th>\n",
       "      <th>party_count</th>\n",
       "    </tr>\n",
       "  </thead>\n",
       "  <tbody>\n",
       "    <tr>\n",
       "      <th>8</th>\n",
       "      <td>Queen Elizabeth II</td>\n",
       "      <td>45</td>\n",
       "      <td>No name</td>\n",
       "      <td>0</td>\n",
       "    </tr>\n",
       "    <tr>\n",
       "      <th>75</th>\n",
       "      <td>King George VI</td>\n",
       "      <td>9</td>\n",
       "      <td>No name</td>\n",
       "      <td>0</td>\n",
       "    </tr>\n",
       "    <tr>\n",
       "      <th>73</th>\n",
       "      <td>Queen Victoria</td>\n",
       "      <td>9</td>\n",
       "      <td>No name</td>\n",
       "      <td>0</td>\n",
       "    </tr>\n",
       "    <tr>\n",
       "      <th>106</th>\n",
       "      <td>John Reid</td>\n",
       "      <td>6</td>\n",
       "      <td>No name</td>\n",
       "      <td>0</td>\n",
       "    </tr>\n",
       "    <tr>\n",
       "      <th>119</th>\n",
       "      <td>Michael Wilshaw</td>\n",
       "      <td>6</td>\n",
       "      <td>No name</td>\n",
       "      <td>0</td>\n",
       "    </tr>\n",
       "  </tbody>\n",
       "</table>\n",
       "</div>"
      ],
      "text/plain": [
       "                   name  speech_count    party  party_count\n",
       "8    Queen Elizabeth II            45  No name            0\n",
       "75       King George VI             9  No name            0\n",
       "73       Queen Victoria             9  No name            0\n",
       "106           John Reid             6  No name            0\n",
       "119     Michael Wilshaw             6  No name            0"
      ]
     },
     "execution_count": 18,
     "metadata": {},
     "output_type": "execute_result"
    }
   ],
   "source": [
    "speaker_parties[speaker_parties.party_count==0].sort_values('speech_count',ascending=False).head()"
   ]
  },
  {
   "cell_type": "code",
   "execution_count": 19,
   "metadata": {},
   "outputs": [
    {
     "data": {
      "text/plain": [
       "202"
      ]
     },
     "execution_count": 19,
     "metadata": {},
     "output_type": "execute_result"
    }
   ],
   "source": [
    "speaker_parties[speaker_parties.party_count==0].speech_count.sum()"
   ]
  },
  {
   "cell_type": "code",
   "execution_count": 17,
   "metadata": {},
   "outputs": [
    {
     "data": {
      "text/plain": [
       "2784"
      ]
     },
     "execution_count": 17,
     "metadata": {},
     "output_type": "execute_result"
    }
   ],
   "source": [
    "speaker_parties[speaker_parties.party_count==1].speech_count.sum()"
   ]
  },
  {
   "cell_type": "code",
   "execution_count": 20,
   "metadata": {},
   "outputs": [
    {
     "data": {
      "text/plain": [
       "(447, 4)"
      ]
     },
     "execution_count": 20,
     "metadata": {},
     "output_type": "execute_result"
    }
   ],
   "source": [
    "speaker_parties[speaker_parties.party_count==1].shape"
   ]
  },
  {
   "cell_type": "code",
   "execution_count": 21,
   "metadata": {},
   "outputs": [
    {
     "data": {
      "text/plain": [
       "89"
      ]
     },
     "execution_count": 21,
     "metadata": {},
     "output_type": "execute_result"
    }
   ],
   "source": [
    "speaker_parties[speaker_parties.party_count>=2].speech_count.sum()"
   ]
  },
  {
   "cell_type": "code",
   "execution_count": 1,
   "metadata": {},
   "outputs": [
    {
     "data": {
      "text/plain": [
       "535"
      ]
     },
     "execution_count": 1,
     "metadata": {},
     "output_type": "execute_result"
    }
   ],
   "source": [
    "446+89"
   ]
  },
  {
   "cell_type": "code",
   "execution_count": 6,
   "metadata": {},
   "outputs": [
    {
     "data": {
      "text/plain": [
       "201"
      ]
     },
     "execution_count": 6,
     "metadata": {},
     "output_type": "execute_result"
    }
   ],
   "source": [
    "65+136"
   ]
  },
  {
   "cell_type": "code",
   "execution_count": 20,
   "metadata": {},
   "outputs": [
    {
     "data": {
      "text/html": [
       "<div>\n",
       "<style scoped>\n",
       "    .dataframe tbody tr th:only-of-type {\n",
       "        vertical-align: middle;\n",
       "    }\n",
       "\n",
       "    .dataframe tbody tr th {\n",
       "        vertical-align: top;\n",
       "    }\n",
       "\n",
       "    .dataframe thead th {\n",
       "        text-align: right;\n",
       "    }\n",
       "</style>\n",
       "<table border=\"1\" class=\"dataframe\">\n",
       "  <thead>\n",
       "    <tr style=\"text-align: right;\">\n",
       "      <th></th>\n",
       "      <th>name</th>\n",
       "      <th>speech_count</th>\n",
       "      <th>party</th>\n",
       "      <th>party_count</th>\n",
       "    </tr>\n",
       "  </thead>\n",
       "  <tbody>\n",
       "    <tr>\n",
       "      <th>41</th>\n",
       "      <td>William Ewart Gladstone</td>\n",
       "      <td>2</td>\n",
       "      <td>Lib Dem</td>\n",
       "      <td>2</td>\n",
       "    </tr>\n",
       "    <tr>\n",
       "      <th>44</th>\n",
       "      <td>Jonathan Aitken</td>\n",
       "      <td>2</td>\n",
       "      <td>UKIP</td>\n",
       "      <td>2</td>\n",
       "    </tr>\n",
       "    <tr>\n",
       "      <th>51</th>\n",
       "      <td>George Eustice</td>\n",
       "      <td>2</td>\n",
       "      <td>UKIP</td>\n",
       "      <td>2</td>\n",
       "    </tr>\n",
       "    <tr>\n",
       "      <th>62</th>\n",
       "      <td>Roy Jenkins</td>\n",
       "      <td>2</td>\n",
       "      <td>Lib Dem</td>\n",
       "      <td>2</td>\n",
       "    </tr>\n",
       "    <tr>\n",
       "      <th>83</th>\n",
       "      <td>Elizabeth Truss</td>\n",
       "      <td>18</td>\n",
       "      <td>Lib Dem</td>\n",
       "      <td>2</td>\n",
       "    </tr>\n",
       "    <tr>\n",
       "      <th>97</th>\n",
       "      <td>Vince Cable</td>\n",
       "      <td>13</td>\n",
       "      <td>Lib Dem</td>\n",
       "      <td>2</td>\n",
       "    </tr>\n",
       "    <tr>\n",
       "      <th>123</th>\n",
       "      <td>Winston Churchill</td>\n",
       "      <td>9</td>\n",
       "      <td>Lib Dem</td>\n",
       "      <td>2</td>\n",
       "    </tr>\n",
       "    <tr>\n",
       "      <th>143</th>\n",
       "      <td>Chris Huhne</td>\n",
       "      <td>7</td>\n",
       "      <td>Lib Dem</td>\n",
       "      <td>2</td>\n",
       "    </tr>\n",
       "    <tr>\n",
       "      <th>149</th>\n",
       "      <td>Peter Hain</td>\n",
       "      <td>6</td>\n",
       "      <td>Lib Dem</td>\n",
       "      <td>2</td>\n",
       "    </tr>\n",
       "    <tr>\n",
       "      <th>180</th>\n",
       "      <td>Mark Reckless</td>\n",
       "      <td>1</td>\n",
       "      <td>UKIP</td>\n",
       "      <td>2</td>\n",
       "    </tr>\n",
       "    <tr>\n",
       "      <th>192</th>\n",
       "      <td>Wera Hobhouse</td>\n",
       "      <td>1</td>\n",
       "      <td>Lib Dem</td>\n",
       "      <td>2</td>\n",
       "    </tr>\n",
       "    <tr>\n",
       "      <th>211</th>\n",
       "      <td>Cecil Franks</td>\n",
       "      <td>1</td>\n",
       "      <td>Labour</td>\n",
       "      <td>2</td>\n",
       "    </tr>\n",
       "    <tr>\n",
       "      <th>216</th>\n",
       "      <td>Shaun Woodward</td>\n",
       "      <td>1</td>\n",
       "      <td>Labour</td>\n",
       "      <td>2</td>\n",
       "    </tr>\n",
       "    <tr>\n",
       "      <th>222</th>\n",
       "      <td>Robert Kilroy-Silk</td>\n",
       "      <td>2</td>\n",
       "      <td>UKIP</td>\n",
       "      <td>2</td>\n",
       "    </tr>\n",
       "    <tr>\n",
       "      <th>327</th>\n",
       "      <td>Chris Bryant</td>\n",
       "      <td>3</td>\n",
       "      <td>Labour</td>\n",
       "      <td>2</td>\n",
       "    </tr>\n",
       "    <tr>\n",
       "      <th>328</th>\n",
       "      <td>Enoch Powell</td>\n",
       "      <td>3</td>\n",
       "      <td>UUP</td>\n",
       "      <td>2</td>\n",
       "    </tr>\n",
       "    <tr>\n",
       "      <th>336</th>\n",
       "      <td>Norman Lamb</td>\n",
       "      <td>3</td>\n",
       "      <td>Lib Dem</td>\n",
       "      <td>2</td>\n",
       "    </tr>\n",
       "    <tr>\n",
       "      <th>343</th>\n",
       "      <td>Lord Adonis</td>\n",
       "      <td>3</td>\n",
       "      <td>Lib Dem</td>\n",
       "      <td>2</td>\n",
       "    </tr>\n",
       "    <tr>\n",
       "      <th>349</th>\n",
       "      <td>Arlene Foster</td>\n",
       "      <td>3</td>\n",
       "      <td>DUP</td>\n",
       "      <td>2</td>\n",
       "    </tr>\n",
       "    <tr>\n",
       "      <th>371</th>\n",
       "      <td>George Roberts</td>\n",
       "      <td>1</td>\n",
       "      <td>Lib Dem</td>\n",
       "      <td>2</td>\n",
       "    </tr>\n",
       "    <tr>\n",
       "      <th>414</th>\n",
       "      <td>Stuart Andrew</td>\n",
       "      <td>1</td>\n",
       "      <td>Labour</td>\n",
       "      <td>2</td>\n",
       "    </tr>\n",
       "    <tr>\n",
       "      <th>421</th>\n",
       "      <td>Roger Helmer</td>\n",
       "      <td>1</td>\n",
       "      <td>UKIP</td>\n",
       "      <td>2</td>\n",
       "    </tr>\n",
       "    <tr>\n",
       "      <th>423</th>\n",
       "      <td>Douglas Carswell</td>\n",
       "      <td>1</td>\n",
       "      <td>UKIP</td>\n",
       "      <td>2</td>\n",
       "    </tr>\n",
       "    <tr>\n",
       "      <th>465</th>\n",
       "      <td>Louise Bours</td>\n",
       "      <td>1</td>\n",
       "      <td>UKIP</td>\n",
       "      <td>2</td>\n",
       "    </tr>\n",
       "    <tr>\n",
       "      <th>471</th>\n",
       "      <td>Alex Neil</td>\n",
       "      <td>1</td>\n",
       "      <td>SNP</td>\n",
       "      <td>2</td>\n",
       "    </tr>\n",
       "    <tr>\n",
       "      <th>534</th>\n",
       "      <td>David Trimble</td>\n",
       "      <td>1</td>\n",
       "      <td>UUP</td>\n",
       "      <td>2</td>\n",
       "    </tr>\n",
       "  </tbody>\n",
       "</table>\n",
       "</div>"
      ],
      "text/plain": [
       "                        name  speech_count    party  party_count\n",
       "41   William Ewart Gladstone             2  Lib Dem            2\n",
       "44           Jonathan Aitken             2     UKIP            2\n",
       "51            George Eustice             2     UKIP            2\n",
       "62               Roy Jenkins             2  Lib Dem            2\n",
       "83           Elizabeth Truss            18  Lib Dem            2\n",
       "97               Vince Cable            13  Lib Dem            2\n",
       "123        Winston Churchill             9  Lib Dem            2\n",
       "143              Chris Huhne             7  Lib Dem            2\n",
       "149               Peter Hain             6  Lib Dem            2\n",
       "180            Mark Reckless             1     UKIP            2\n",
       "192            Wera Hobhouse             1  Lib Dem            2\n",
       "211             Cecil Franks             1   Labour            2\n",
       "216           Shaun Woodward             1   Labour            2\n",
       "222       Robert Kilroy-Silk             2     UKIP            2\n",
       "327             Chris Bryant             3   Labour            2\n",
       "328             Enoch Powell             3      UUP            2\n",
       "336              Norman Lamb             3  Lib Dem            2\n",
       "343              Lord Adonis             3  Lib Dem            2\n",
       "349            Arlene Foster             3      DUP            2\n",
       "371           George Roberts             1  Lib Dem            2\n",
       "414            Stuart Andrew             1   Labour            2\n",
       "421             Roger Helmer             1     UKIP            2\n",
       "423         Douglas Carswell             1     UKIP            2\n",
       "465             Louise Bours             1     UKIP            2\n",
       "471                Alex Neil             1      SNP            2\n",
       "534            David Trimble             1      UUP            2"
      ]
     },
     "execution_count": 20,
     "metadata": {},
     "output_type": "execute_result"
    }
   ],
   "source": [
    "speaker_parties[speaker_parties.party_count==2]"
   ]
  },
  {
   "cell_type": "code",
   "execution_count": 21,
   "metadata": {},
   "outputs": [
    {
     "data": {
      "text/plain": [
       "Conservative    213\n",
       "Labour          177\n",
       "Lib Dem          31\n",
       "SNP              11\n",
       "DUP               5\n",
       "Plaid Cymru       3\n",
       "Greens            3\n",
       "UUP               1\n",
       "Sinn Féin         1\n",
       "UKIP              1\n",
       "Name: party, dtype: int64"
      ]
     },
     "execution_count": 21,
     "metadata": {},
     "output_type": "execute_result"
    }
   ],
   "source": [
    "speaker_parties[speaker_parties.party_count==1].party.value_counts()"
   ]
  },
  {
   "cell_type": "code",
   "execution_count": 22,
   "metadata": {},
   "outputs": [
    {
     "data": {
      "text/plain": [
       "party\n",
       "Conservative    1776\n",
       "DUP               10\n",
       "Greens             7\n",
       "Labour           783\n",
       "Lib Dem          162\n",
       "Plaid Cymru        5\n",
       "SNP               33\n",
       "Sinn Féin          2\n",
       "UKIP               5\n",
       "UUP                1\n",
       "Name: speech_count, dtype: int64"
      ]
     },
     "execution_count": 22,
     "metadata": {},
     "output_type": "execute_result"
    }
   ],
   "source": [
    "speaker_parties[speaker_parties.party_count==1].groupby('party')['speech_count'].sum()"
   ]
  },
  {
   "cell_type": "markdown",
   "metadata": {},
   "source": [
    "If we stick to MPs who have just returned one party then we still have 2772 speeches. I reckon it's worth doing this to keep the data clean. Might have to rethink if I drill down to just speeches that I've managed to pull the date from."
   ]
  },
  {
   "cell_type": "code",
   "execution_count": 23,
   "metadata": {},
   "outputs": [
    {
     "data": {
      "text/plain": [
       "(3077, 7)"
      ]
     },
     "execution_count": 23,
     "metadata": {},
     "output_type": "execute_result"
    }
   ],
   "source": [
    "uk_pol.shape"
   ]
  },
  {
   "cell_type": "code",
   "execution_count": 24,
   "metadata": {},
   "outputs": [
    {
     "data": {
      "text/html": [
       "<div>\n",
       "<style scoped>\n",
       "    .dataframe tbody tr th:only-of-type {\n",
       "        vertical-align: middle;\n",
       "    }\n",
       "\n",
       "    .dataframe tbody tr th {\n",
       "        vertical-align: top;\n",
       "    }\n",
       "\n",
       "    .dataframe thead th {\n",
       "        text-align: right;\n",
       "    }\n",
       "</style>\n",
       "<table border=\"1\" class=\"dataframe\">\n",
       "  <thead>\n",
       "    <tr style=\"text-align: right;\">\n",
       "      <th></th>\n",
       "      <th>title</th>\n",
       "      <th>description</th>\n",
       "      <th>text</th>\n",
       "      <th>speaker</th>\n",
       "      <th>year</th>\n",
       "      <th>subject</th>\n",
       "      <th>date</th>\n",
       "    </tr>\n",
       "  </thead>\n",
       "  <tbody>\n",
       "    <tr>\n",
       "      <th>0</th>\n",
       "      <td>Isherwood, Mark – 2006 Speech on Fuel Poverty</td>\n",
       "      <td>Below is the text of the speech made by Mark I...</td>\n",
       "      <td>The Chartered Institute of Housing Cymru state...</td>\n",
       "      <td>Mark Isherwood</td>\n",
       "      <td>2006</td>\n",
       "      <td>Fuel Poverty</td>\n",
       "      <td>2006-01-10</td>\n",
       "    </tr>\n",
       "  </tbody>\n",
       "</table>\n",
       "</div>"
      ],
      "text/plain": [
       "                                           title  \\\n",
       "0  Isherwood, Mark – 2006 Speech on Fuel Poverty   \n",
       "\n",
       "                                         description  \\\n",
       "0  Below is the text of the speech made by Mark I...   \n",
       "\n",
       "                                                text         speaker  year  \\\n",
       "0  The Chartered Institute of Housing Cymru state...  Mark Isherwood  2006   \n",
       "\n",
       "        subject        date  \n",
       "0  Fuel Poverty  2006-01-10  "
      ]
     },
     "execution_count": 24,
     "metadata": {},
     "output_type": "execute_result"
    }
   ],
   "source": [
    "uk_pol.head(1)"
   ]
  },
  {
   "cell_type": "code",
   "execution_count": 25,
   "metadata": {},
   "outputs": [
    {
     "data": {
      "text/html": [
       "<div>\n",
       "<style scoped>\n",
       "    .dataframe tbody tr th:only-of-type {\n",
       "        vertical-align: middle;\n",
       "    }\n",
       "\n",
       "    .dataframe tbody tr th {\n",
       "        vertical-align: top;\n",
       "    }\n",
       "\n",
       "    .dataframe thead th {\n",
       "        text-align: right;\n",
       "    }\n",
       "</style>\n",
       "<table border=\"1\" class=\"dataframe\">\n",
       "  <thead>\n",
       "    <tr style=\"text-align: right;\">\n",
       "      <th></th>\n",
       "      <th>name</th>\n",
       "      <th>speech_count</th>\n",
       "      <th>party</th>\n",
       "      <th>party_count</th>\n",
       "    </tr>\n",
       "  </thead>\n",
       "  <tbody>\n",
       "    <tr>\n",
       "      <th>0</th>\n",
       "      <td>David Cameron</td>\n",
       "      <td>186</td>\n",
       "      <td>Conservative</td>\n",
       "      <td>1</td>\n",
       "    </tr>\n",
       "  </tbody>\n",
       "</table>\n",
       "</div>"
      ],
      "text/plain": [
       "            name  speech_count         party  party_count\n",
       "0  David Cameron           186  Conservative            1"
      ]
     },
     "execution_count": 25,
     "metadata": {},
     "output_type": "execute_result"
    }
   ],
   "source": [
    "speaker_parties.head(1)"
   ]
  },
  {
   "cell_type": "code",
   "execution_count": 26,
   "metadata": {},
   "outputs": [],
   "source": [
    "party_list = pd.DataFrame()\n",
    "party_list['speaker'] = speaker_parties.name\n",
    "party_list['party'] = speaker_parties.apply(lambda x: x['party'] if x['party_count']==1 else 'No info', axis=1)"
   ]
  },
  {
   "cell_type": "code",
   "execution_count": 27,
   "metadata": {},
   "outputs": [
    {
     "data": {
      "text/plain": [
       "(446, 2)"
      ]
     },
     "execution_count": 27,
     "metadata": {},
     "output_type": "execute_result"
    }
   ],
   "source": [
    "party_list[party_list.party!='No info'].shape"
   ]
  },
  {
   "cell_type": "code",
   "execution_count": 28,
   "metadata": {},
   "outputs": [],
   "source": [
    "party_list.to_csv('party_list_uk_pol.csv', index=False)"
   ]
  },
  {
   "cell_type": "code",
   "execution_count": 29,
   "metadata": {},
   "outputs": [],
   "source": [
    "uk_pol_final = uk_pol.merge(party_list).drop(['title','description'],axis=1)"
   ]
  },
  {
   "cell_type": "code",
   "execution_count": 30,
   "metadata": {},
   "outputs": [
    {
     "data": {
      "text/html": [
       "<div>\n",
       "<style scoped>\n",
       "    .dataframe tbody tr th:only-of-type {\n",
       "        vertical-align: middle;\n",
       "    }\n",
       "\n",
       "    .dataframe tbody tr th {\n",
       "        vertical-align: top;\n",
       "    }\n",
       "\n",
       "    .dataframe thead th {\n",
       "        text-align: right;\n",
       "    }\n",
       "</style>\n",
       "<table border=\"1\" class=\"dataframe\">\n",
       "  <thead>\n",
       "    <tr style=\"text-align: right;\">\n",
       "      <th></th>\n",
       "      <th>text</th>\n",
       "      <th>speaker</th>\n",
       "      <th>year</th>\n",
       "      <th>subject</th>\n",
       "      <th>date</th>\n",
       "      <th>party</th>\n",
       "    </tr>\n",
       "  </thead>\n",
       "  <tbody>\n",
       "    <tr>\n",
       "      <th>1234</th>\n",
       "      <td>This is not a meeting that any of us would hav...</td>\n",
       "      <td>David Steel</td>\n",
       "      <td>0</td>\n",
       "      <td>Steel, David – Donald Dewar</td>\n",
       "      <td>2000-10-13</td>\n",
       "      <td>Lib Dem</td>\n",
       "    </tr>\n",
       "  </tbody>\n",
       "</table>\n",
       "</div>"
      ],
      "text/plain": [
       "                                                   text      speaker  year  \\\n",
       "1234  This is not a meeting that any of us would hav...  David Steel     0   \n",
       "\n",
       "                          subject        date    party  \n",
       "1234  Steel, David – Donald Dewar  2000-10-13  Lib Dem  "
      ]
     },
     "execution_count": 30,
     "metadata": {},
     "output_type": "execute_result"
    }
   ],
   "source": [
    "uk_pol_final[uk_pol_final.year==0]"
   ]
  },
  {
   "cell_type": "code",
   "execution_count": 31,
   "metadata": {},
   "outputs": [],
   "source": [
    "uk_pol_final.iloc[1234,2]=2000"
   ]
  },
  {
   "cell_type": "code",
   "execution_count": 32,
   "metadata": {},
   "outputs": [],
   "source": [
    "uk_pol_final = uk_pol_final[uk_pol_final.party!='No info'].dropna()"
   ]
  },
  {
   "cell_type": "code",
   "execution_count": 33,
   "metadata": {},
   "outputs": [
    {
     "data": {
      "text/plain": [
       "Conservative    1724\n",
       "Labour           670\n",
       "Lib Dem          153\n",
       "SNP               27\n",
       "DUP               10\n",
       "Greens             7\n",
       "UKIP               5\n",
       "Plaid Cymru        5\n",
       "Sinn Féin          2\n",
       "UUP                1\n",
       "Name: party, dtype: int64"
      ]
     },
     "execution_count": 33,
     "metadata": {},
     "output_type": "execute_result"
    }
   ],
   "source": [
    "uk_pol_final.party.value_counts()"
   ]
  },
  {
   "cell_type": "code",
   "execution_count": 34,
   "metadata": {},
   "outputs": [],
   "source": [
    "uk_pol_final.to_csv('uk_pol_final.csv', index=False)"
   ]
  },
  {
   "cell_type": "code",
   "execution_count": 35,
   "metadata": {},
   "outputs": [],
   "source": [
    "uk_pol_final = pd.read_csv('uk_pol_final.csv')"
   ]
  },
  {
   "cell_type": "markdown",
   "metadata": {},
   "source": [
    "Think I'm going to dump the 'year' column but want to check if it matches the year in the date column first."
   ]
  },
  {
   "cell_type": "code",
   "execution_count": 36,
   "metadata": {},
   "outputs": [],
   "source": [
    "uk_pol_final['year_check'] = uk_pol_final.date.map(lambda x: int(x[:4]))"
   ]
  },
  {
   "cell_type": "code",
   "execution_count": 37,
   "metadata": {},
   "outputs": [
    {
     "data": {
      "text/html": [
       "<div>\n",
       "<style scoped>\n",
       "    .dataframe tbody tr th:only-of-type {\n",
       "        vertical-align: middle;\n",
       "    }\n",
       "\n",
       "    .dataframe tbody tr th {\n",
       "        vertical-align: top;\n",
       "    }\n",
       "\n",
       "    .dataframe thead th {\n",
       "        text-align: right;\n",
       "    }\n",
       "</style>\n",
       "<table border=\"1\" class=\"dataframe\">\n",
       "  <thead>\n",
       "    <tr style=\"text-align: right;\">\n",
       "      <th></th>\n",
       "      <th>text</th>\n",
       "      <th>speaker</th>\n",
       "      <th>year</th>\n",
       "      <th>subject</th>\n",
       "      <th>date</th>\n",
       "      <th>party</th>\n",
       "      <th>year_check</th>\n",
       "    </tr>\n",
       "  </thead>\n",
       "  <tbody>\n",
       "    <tr>\n",
       "      <th>137</th>\n",
       "      <td>I am pleased that I have been given the opport...</td>\n",
       "      <td>Jeff Rooker</td>\n",
       "      <td>1998</td>\n",
       "      <td>British Poultry Meat Federation</td>\n",
       "      <td>1988-04-29</td>\n",
       "      <td>Labour</td>\n",
       "      <td>1988</td>\n",
       "    </tr>\n",
       "    <tr>\n",
       "      <th>982</th>\n",
       "      <td>Next week at Copenhagen, the EU will take some...</td>\n",
       "      <td>Jack Straw</td>\n",
       "      <td>2002</td>\n",
       "      <td>Critical Decisions for European Union</td>\n",
       "      <td>2012-12-05</td>\n",
       "      <td>Labour</td>\n",
       "      <td>2012</td>\n",
       "    </tr>\n",
       "    <tr>\n",
       "      <th>1067</th>\n",
       "      <td>Thank you very much, Ben, and thank you everyo...</td>\n",
       "      <td>Nick Gibb</td>\n",
       "      <td>2015</td>\n",
       "      <td>Stonewall</td>\n",
       "      <td>2011-07-01</td>\n",
       "      <td>Conservative</td>\n",
       "      <td>2011</td>\n",
       "    </tr>\n",
       "    <tr>\n",
       "      <th>1134</th>\n",
       "      <td>Thank you very much, Dominic, for that kind in...</td>\n",
       "      <td>Michael Gove</td>\n",
       "      <td>2012</td>\n",
       "      <td>Speech at BETT Show</td>\n",
       "      <td>2016-01-11</td>\n",
       "      <td>Conservative</td>\n",
       "      <td>2016</td>\n",
       "    </tr>\n",
       "    <tr>\n",
       "      <th>1450</th>\n",
       "      <td>It is a pleasure to be here today to celebrate...</td>\n",
       "      <td>Gordon Brown</td>\n",
       "      <td>2003</td>\n",
       "      <td>Speech at City Growth Strategies Forum</td>\n",
       "      <td>2013-10-08</td>\n",
       "      <td>Labour</td>\n",
       "      <td>2013</td>\n",
       "    </tr>\n",
       "    <tr>\n",
       "      <th>1494</th>\n",
       "      <td>Thank you Penny [Thompson, GSCC CEO]. And than...</td>\n",
       "      <td>Paul Burstow</td>\n",
       "      <td>2012</td>\n",
       "      <td>Community Care Live Speech</td>\n",
       "      <td>2013-05-17</td>\n",
       "      <td>Lib Dem</td>\n",
       "      <td>2013</td>\n",
       "    </tr>\n",
       "    <tr>\n",
       "      <th>1542</th>\n",
       "      <td>Hillary Clinton: Some months ago so this is no...</td>\n",
       "      <td>William Hague</td>\n",
       "      <td>2012</td>\n",
       "      <td>Speech with Hillary Clinton</td>\n",
       "      <td>2010-05-14</td>\n",
       "      <td>Conservative</td>\n",
       "      <td>2010</td>\n",
       "    </tr>\n",
       "    <tr>\n",
       "      <th>1587</th>\n",
       "      <td>Introduction I’d like to begin by thanking Pla...</td>\n",
       "      <td>Stephen Hammond</td>\n",
       "      <td>2012</td>\n",
       "      <td>Place West London Conference</td>\n",
       "      <td>2013-10-22</td>\n",
       "      <td>Conservative</td>\n",
       "      <td>2013</td>\n",
       "    </tr>\n",
       "    <tr>\n",
       "      <th>1768</th>\n",
       "      <td>When the NHS was set up nearly 70 years ago Be...</td>\n",
       "      <td>Jeremy Hunt</td>\n",
       "      <td>2014</td>\n",
       "      <td>GPs</td>\n",
       "      <td>2015-06-19</td>\n",
       "      <td>Conservative</td>\n",
       "      <td>2015</td>\n",
       "    </tr>\n",
       "    <tr>\n",
       "      <th>2154</th>\n",
       "      <td>Thank you, Mr Speaker; it is a great privilege...</td>\n",
       "      <td>Jo Cox</td>\n",
       "      <td>2015</td>\n",
       "      <td>Maiden Speech</td>\n",
       "      <td>2016-06-03</td>\n",
       "      <td>Labour</td>\n",
       "      <td>2016</td>\n",
       "    </tr>\n",
       "    <tr>\n",
       "      <th>2170</th>\n",
       "      <td>Introduction I am delighted and honoured to op...</td>\n",
       "      <td>Jack Cunningham</td>\n",
       "      <td>1998</td>\n",
       "      <td>Oxford Farming Conference</td>\n",
       "      <td>1988-01-06</td>\n",
       "      <td>Labour</td>\n",
       "      <td>1988</td>\n",
       "    </tr>\n",
       "    <tr>\n",
       "      <th>2327</th>\n",
       "      <td>2017 has been a year of progress for the Unite...</td>\n",
       "      <td>Theresa May</td>\n",
       "      <td>2018</td>\n",
       "      <td>New Year’s Message</td>\n",
       "      <td>2017-12-31</td>\n",
       "      <td>Conservative</td>\n",
       "      <td>2017</td>\n",
       "    </tr>\n",
       "  </tbody>\n",
       "</table>\n",
       "</div>"
      ],
      "text/plain": [
       "                                                   text          speaker  \\\n",
       "137   I am pleased that I have been given the opport...      Jeff Rooker   \n",
       "982   Next week at Copenhagen, the EU will take some...       Jack Straw   \n",
       "1067  Thank you very much, Ben, and thank you everyo...        Nick Gibb   \n",
       "1134  Thank you very much, Dominic, for that kind in...     Michael Gove   \n",
       "1450  It is a pleasure to be here today to celebrate...     Gordon Brown   \n",
       "1494  Thank you Penny [Thompson, GSCC CEO]. And than...     Paul Burstow   \n",
       "1542  Hillary Clinton: Some months ago so this is no...    William Hague   \n",
       "1587  Introduction I’d like to begin by thanking Pla...  Stephen Hammond   \n",
       "1768  When the NHS was set up nearly 70 years ago Be...      Jeremy Hunt   \n",
       "2154  Thank you, Mr Speaker; it is a great privilege...           Jo Cox   \n",
       "2170  Introduction I am delighted and honoured to op...  Jack Cunningham   \n",
       "2327  2017 has been a year of progress for the Unite...      Theresa May   \n",
       "\n",
       "      year                                 subject        date         party  \\\n",
       "137   1998         British Poultry Meat Federation  1988-04-29        Labour   \n",
       "982   2002   Critical Decisions for European Union  2012-12-05        Labour   \n",
       "1067  2015                               Stonewall  2011-07-01  Conservative   \n",
       "1134  2012                     Speech at BETT Show  2016-01-11  Conservative   \n",
       "1450  2003  Speech at City Growth Strategies Forum  2013-10-08        Labour   \n",
       "1494  2012              Community Care Live Speech  2013-05-17       Lib Dem   \n",
       "1542  2012             Speech with Hillary Clinton  2010-05-14  Conservative   \n",
       "1587  2012            Place West London Conference  2013-10-22  Conservative   \n",
       "1768  2014                                     GPs  2015-06-19  Conservative   \n",
       "2154  2015                           Maiden Speech  2016-06-03        Labour   \n",
       "2170  1998               Oxford Farming Conference  1988-01-06        Labour   \n",
       "2327  2018                      New Year’s Message  2017-12-31  Conservative   \n",
       "\n",
       "      year_check  \n",
       "137         1988  \n",
       "982         2012  \n",
       "1067        2011  \n",
       "1134        2016  \n",
       "1450        2013  \n",
       "1494        2013  \n",
       "1542        2010  \n",
       "1587        2013  \n",
       "1768        2015  \n",
       "2154        2016  \n",
       "2170        1988  \n",
       "2327        2017  "
      ]
     },
     "execution_count": 37,
     "metadata": {},
     "output_type": "execute_result"
    }
   ],
   "source": [
    "uk_pol_final[uk_pol_final.year!=uk_pol_final.year_check]"
   ]
  },
  {
   "cell_type": "markdown",
   "metadata": {},
   "source": [
    "Check differences (ignore when within one year unless obvious):<p>\n",
    "speech 137 was in 1998 > change<br>\n",
    "speech 983 was probably 2002 > change<br>\n",
    "speech 1068 was 2011 > correct<br>\n",
    "speech 1135 was 2012 > change<br>\n",
    "speech 1451 was probably 2003 > change<br>\n",
    "speech 2171 was 1998 > change<br>\n",
    "speech 2328 was 2017 > correct"
   ]
  },
  {
   "cell_type": "code",
   "execution_count": 38,
   "metadata": {},
   "outputs": [],
   "source": [
    "uk_pol_final.iloc[137,4] = '1998-04-29'\n",
    "uk_pol_final.iloc[983,4] = '2002-12-05'\n",
    "uk_pol_final.iloc[1135,4] = '2012-01-11'\n",
    "uk_pol_final.iloc[1451,4] = '2003-10-08'\n",
    "uk_pol_final.iloc[2171,4] = '1998-01-06'"
   ]
  },
  {
   "cell_type": "code",
   "execution_count": 39,
   "metadata": {},
   "outputs": [],
   "source": [
    "uk_pol_final.drop(['year_check'],axis=1,inplace=True)"
   ]
  },
  {
   "cell_type": "code",
   "execution_count": 40,
   "metadata": {},
   "outputs": [],
   "source": [
    "uk_pol_final.drop(['year'],axis=1,inplace=True)"
   ]
  },
  {
   "cell_type": "code",
   "execution_count": 41,
   "metadata": {},
   "outputs": [
    {
     "data": {
      "text/html": [
       "<div>\n",
       "<style scoped>\n",
       "    .dataframe tbody tr th:only-of-type {\n",
       "        vertical-align: middle;\n",
       "    }\n",
       "\n",
       "    .dataframe tbody tr th {\n",
       "        vertical-align: top;\n",
       "    }\n",
       "\n",
       "    .dataframe thead th {\n",
       "        text-align: right;\n",
       "    }\n",
       "</style>\n",
       "<table border=\"1\" class=\"dataframe\">\n",
       "  <thead>\n",
       "    <tr style=\"text-align: right;\">\n",
       "      <th></th>\n",
       "      <th>text</th>\n",
       "      <th>speaker</th>\n",
       "      <th>subject</th>\n",
       "      <th>date</th>\n",
       "      <th>party</th>\n",
       "    </tr>\n",
       "  </thead>\n",
       "  <tbody>\n",
       "    <tr>\n",
       "      <th>0</th>\n",
       "      <td>The Chartered Institute of Housing Cymru state...</td>\n",
       "      <td>Mark Isherwood</td>\n",
       "      <td>Fuel Poverty</td>\n",
       "      <td>2006-01-10</td>\n",
       "      <td>Conservative</td>\n",
       "    </tr>\n",
       "    <tr>\n",
       "      <th>1</th>\n",
       "      <td>Thank you for that kind welcome. I am hugely g...</td>\n",
       "      <td>Chuka Umunna</td>\n",
       "      <td>Universities UK</td>\n",
       "      <td>2011-12-02</td>\n",
       "      <td>Labour</td>\n",
       "    </tr>\n",
       "    <tr>\n",
       "      <th>2</th>\n",
       "      <td>Thank you for that introduction Michael and to...</td>\n",
       "      <td>Chuka Umunna</td>\n",
       "      <td>High Pay Commission</td>\n",
       "      <td>2012-01-12</td>\n",
       "      <td>Labour</td>\n",
       "    </tr>\n",
       "    <tr>\n",
       "      <th>3</th>\n",
       "      <td>Thank you for that introduction, and thank you...</td>\n",
       "      <td>Chuka Umunna</td>\n",
       "      <td>Hub Westminster</td>\n",
       "      <td>2012-06-26</td>\n",
       "      <td>Labour</td>\n",
       "    </tr>\n",
       "    <tr>\n",
       "      <th>4</th>\n",
       "      <td>Conference, thank you so very much for invitin...</td>\n",
       "      <td>Chuka Umunna</td>\n",
       "      <td>UCATT Conference</td>\n",
       "      <td>2012-05-28</td>\n",
       "      <td>Labour</td>\n",
       "    </tr>\n",
       "  </tbody>\n",
       "</table>\n",
       "</div>"
      ],
      "text/plain": [
       "                                                text         speaker  \\\n",
       "0  The Chartered Institute of Housing Cymru state...  Mark Isherwood   \n",
       "1  Thank you for that kind welcome. I am hugely g...    Chuka Umunna   \n",
       "2  Thank you for that introduction Michael and to...    Chuka Umunna   \n",
       "3  Thank you for that introduction, and thank you...    Chuka Umunna   \n",
       "4  Conference, thank you so very much for invitin...    Chuka Umunna   \n",
       "\n",
       "               subject        date         party  \n",
       "0         Fuel Poverty  2006-01-10  Conservative  \n",
       "1      Universities UK  2011-12-02        Labour  \n",
       "2  High Pay Commission  2012-01-12        Labour  \n",
       "3      Hub Westminster  2012-06-26        Labour  \n",
       "4     UCATT Conference  2012-05-28        Labour  "
      ]
     },
     "execution_count": 41,
     "metadata": {},
     "output_type": "execute_result"
    }
   ],
   "source": [
    "uk_pol_final.head()"
   ]
  },
  {
   "cell_type": "code",
   "execution_count": 42,
   "metadata": {},
   "outputs": [],
   "source": [
    "uk_pol_final = uk_pol_final[['speaker','party','date','subject','text']]"
   ]
  },
  {
   "cell_type": "code",
   "execution_count": 43,
   "metadata": {},
   "outputs": [
    {
     "data": {
      "text/html": [
       "<div>\n",
       "<style scoped>\n",
       "    .dataframe tbody tr th:only-of-type {\n",
       "        vertical-align: middle;\n",
       "    }\n",
       "\n",
       "    .dataframe tbody tr th {\n",
       "        vertical-align: top;\n",
       "    }\n",
       "\n",
       "    .dataframe thead th {\n",
       "        text-align: right;\n",
       "    }\n",
       "</style>\n",
       "<table border=\"1\" class=\"dataframe\">\n",
       "  <thead>\n",
       "    <tr style=\"text-align: right;\">\n",
       "      <th></th>\n",
       "      <th>speaker</th>\n",
       "      <th>party</th>\n",
       "      <th>date</th>\n",
       "      <th>subject</th>\n",
       "      <th>text</th>\n",
       "    </tr>\n",
       "  </thead>\n",
       "  <tbody>\n",
       "    <tr>\n",
       "      <th>0</th>\n",
       "      <td>Mark Isherwood</td>\n",
       "      <td>Conservative</td>\n",
       "      <td>2006-01-10</td>\n",
       "      <td>Fuel Poverty</td>\n",
       "      <td>The Chartered Institute of Housing Cymru state...</td>\n",
       "    </tr>\n",
       "    <tr>\n",
       "      <th>1</th>\n",
       "      <td>Chuka Umunna</td>\n",
       "      <td>Labour</td>\n",
       "      <td>2011-12-02</td>\n",
       "      <td>Universities UK</td>\n",
       "      <td>Thank you for that kind welcome. I am hugely g...</td>\n",
       "    </tr>\n",
       "    <tr>\n",
       "      <th>2</th>\n",
       "      <td>Chuka Umunna</td>\n",
       "      <td>Labour</td>\n",
       "      <td>2012-01-12</td>\n",
       "      <td>High Pay Commission</td>\n",
       "      <td>Thank you for that introduction Michael and to...</td>\n",
       "    </tr>\n",
       "    <tr>\n",
       "      <th>3</th>\n",
       "      <td>Chuka Umunna</td>\n",
       "      <td>Labour</td>\n",
       "      <td>2012-06-26</td>\n",
       "      <td>Hub Westminster</td>\n",
       "      <td>Thank you for that introduction, and thank you...</td>\n",
       "    </tr>\n",
       "    <tr>\n",
       "      <th>4</th>\n",
       "      <td>Chuka Umunna</td>\n",
       "      <td>Labour</td>\n",
       "      <td>2012-05-28</td>\n",
       "      <td>UCATT Conference</td>\n",
       "      <td>Conference, thank you so very much for invitin...</td>\n",
       "    </tr>\n",
       "  </tbody>\n",
       "</table>\n",
       "</div>"
      ],
      "text/plain": [
       "          speaker         party        date              subject  \\\n",
       "0  Mark Isherwood  Conservative  2006-01-10         Fuel Poverty   \n",
       "1    Chuka Umunna        Labour  2011-12-02      Universities UK   \n",
       "2    Chuka Umunna        Labour  2012-01-12  High Pay Commission   \n",
       "3    Chuka Umunna        Labour  2012-06-26      Hub Westminster   \n",
       "4    Chuka Umunna        Labour  2012-05-28     UCATT Conference   \n",
       "\n",
       "                                                text  \n",
       "0  The Chartered Institute of Housing Cymru state...  \n",
       "1  Thank you for that kind welcome. I am hugely g...  \n",
       "2  Thank you for that introduction Michael and to...  \n",
       "3  Thank you for that introduction, and thank you...  \n",
       "4  Conference, thank you so very much for invitin...  "
      ]
     },
     "execution_count": 43,
     "metadata": {},
     "output_type": "execute_result"
    }
   ],
   "source": [
    "uk_pol_final.head()"
   ]
  },
  {
   "cell_type": "code",
   "execution_count": 44,
   "metadata": {},
   "outputs": [],
   "source": [
    "uk_pol_final.date = pd.to_datetime(uk_pol_final.date)"
   ]
  },
  {
   "cell_type": "code",
   "execution_count": 45,
   "metadata": {},
   "outputs": [
    {
     "name": "stdout",
     "output_type": "stream",
     "text": [
      "<class 'pandas.core.frame.DataFrame'>\n",
      "RangeIndex: 2604 entries, 0 to 2603\n",
      "Data columns (total 5 columns):\n",
      "speaker    2604 non-null object\n",
      "party      2604 non-null object\n",
      "date       2604 non-null datetime64[ns]\n",
      "subject    2604 non-null object\n",
      "text       2604 non-null object\n",
      "dtypes: datetime64[ns](1), object(4)\n",
      "memory usage: 101.8+ KB\n"
     ]
    }
   ],
   "source": [
    "uk_pol_final.info()"
   ]
  },
  {
   "cell_type": "markdown",
   "metadata": {},
   "source": [
    "Check for any speeches that are less than 100 characters:"
   ]
  },
  {
   "cell_type": "code",
   "execution_count": 46,
   "metadata": {},
   "outputs": [],
   "source": [
    "length_test = uk_pol_final.text.map(lambda x: True if len(x)<100 else False)"
   ]
  },
  {
   "cell_type": "code",
   "execution_count": 47,
   "metadata": {},
   "outputs": [
    {
     "data": {
      "text/html": [
       "<div>\n",
       "<style scoped>\n",
       "    .dataframe tbody tr th:only-of-type {\n",
       "        vertical-align: middle;\n",
       "    }\n",
       "\n",
       "    .dataframe tbody tr th {\n",
       "        vertical-align: top;\n",
       "    }\n",
       "\n",
       "    .dataframe thead th {\n",
       "        text-align: right;\n",
       "    }\n",
       "</style>\n",
       "<table border=\"1\" class=\"dataframe\">\n",
       "  <thead>\n",
       "    <tr style=\"text-align: right;\">\n",
       "      <th></th>\n",
       "      <th>speaker</th>\n",
       "      <th>party</th>\n",
       "      <th>date</th>\n",
       "      <th>subject</th>\n",
       "      <th>text</th>\n",
       "    </tr>\n",
       "  </thead>\n",
       "  <tbody>\n",
       "    <tr>\n",
       "      <th>1152</th>\n",
       "      <td>Michael Gove</td>\n",
       "      <td>Conservative</td>\n",
       "      <td>2016-04-19</td>\n",
       "      <td>EU</td>\n",
       "      <td>Speech available as a PDF.</td>\n",
       "    </tr>\n",
       "  </tbody>\n",
       "</table>\n",
       "</div>"
      ],
      "text/plain": [
       "           speaker         party       date subject  \\\n",
       "1152  Michael Gove  Conservative 2016-04-19      EU   \n",
       "\n",
       "                            text  \n",
       "1152  Speech available as a PDF.  "
      ]
     },
     "execution_count": 47,
     "metadata": {},
     "output_type": "execute_result"
    }
   ],
   "source": [
    "uk_pol_final[length_test]"
   ]
  },
  {
   "cell_type": "code",
   "execution_count": 48,
   "metadata": {},
   "outputs": [],
   "source": [
    "uk_pol_final.drop(1153,inplace=True)"
   ]
  },
  {
   "cell_type": "code",
   "execution_count": 49,
   "metadata": {},
   "outputs": [],
   "source": [
    "uk_pol_final.to_csv('uk_pol_final.csv', index=False)"
   ]
  },
  {
   "cell_type": "code",
   "execution_count": 50,
   "metadata": {},
   "outputs": [],
   "source": [
    "uk_pol_final = pd.read_csv('uk_pol_final.csv')"
   ]
  },
  {
   "cell_type": "code",
   "execution_count": 51,
   "metadata": {},
   "outputs": [],
   "source": [
    "length_check = uk_pol_final.text.map(lambda x: len(x.split(' ')))"
   ]
  },
  {
   "cell_type": "code",
   "execution_count": 52,
   "metadata": {},
   "outputs": [
    {
     "data": {
      "text/plain": [
       "1152      5\n",
       "850      57\n",
       "1573     67\n",
       "2300     68\n",
       "2214     72\n",
       "2320     83\n",
       "2273    101\n",
       "1941    131\n",
       "1931    139\n",
       "164     143\n",
       "2313    145\n",
       "2090    151\n",
       "2120    151\n",
       "2012    160\n",
       "824     160\n",
       "2295    164\n",
       "833     171\n",
       "2055    175\n",
       "621     181\n",
       "703     185\n",
       "Name: text, dtype: int64"
      ]
     },
     "execution_count": 52,
     "metadata": {},
     "output_type": "execute_result"
    }
   ],
   "source": [
    "length_check.sort_values()[:20]"
   ]
  },
  {
   "cell_type": "code",
   "execution_count": 53,
   "metadata": {},
   "outputs": [
    {
     "name": "stdout",
     "output_type": "stream",
     "text": [
      "Speech available as a PDF.\n",
      "--------------------------------------------\n",
      "Passover is a time of coming together, when Jewish communities commemorate the liberation of the people of Israel from slavery in ancient Egypt. It is a time to celebrate freedom as a basic human right. Pesach Sameach to all Jewish families both in the UK and around the world. I wish them a happy and peaceful holiday.\n",
      "--------------------------------------------\n",
      "Easter is a season of hope for all Christians. At this time of celebration my thoughts are with all those facing persecution, discrimination and denied the right to worship freely, particularly Christians in the Middle East. This Government has pledged to stand up for the right to live and to worship free from discrimination, and we will continue to work actively to make this a reality .\n",
      "--------------------------------------------\n",
      "I am sickened by the senseless loss of life in Barcelona today. The Foreign Office is working to establish if any British nationals were involved in this appalling incident and we are in close contact with the authorities in Spain, who have our full support. Following the attacks in Manchester and London, Spain stood alongside the British people. Tonight, Britain stands with Spain against the evil of terrorism.\n",
      "--------------------------------------------\n",
      "Since I came to this House 30 years ago, I have always felt that the House is at its best when it is united. In order that unity can be maintained, I have decided that I will relinquish the office of Speaker on Sunday 21 June. This will allow the House to proceed to elect a new Speaker on Monday 22 June. That is all I have to say on this matter.\n",
      "--------------------------------------------\n",
      "The resignation of Robert Mugabe provides Zimbabwe with an opportunity to forge a new path free of the oppression that characterised his rule. In recent days we have seen the desire of the Zimbabwean people for free and fair elections and the opportunity to rebuild the country’s economy under a legitimate government. As Zimbabwe’s oldest friend we will do all we can to support this, working with our international and regional partners to help the country achieve the brighter future it so deserves.\n",
      "--------------------------------------------\n",
      "I am pleased with this result, and very grateful to my colleagues for their support today. There is a big job before us: to unite our party and the country, to negotiate the best possible deal as we leave the EU, and to make Britain work for everyone. I am the only candidate capable of delivering these three things as prime minister, and tonight it is clear that I am also the only one capable of drawing support from the whole of the Conservative party. I look forward to continuing the debate about Britain’s future in parliament and across the country.\n",
      "--------------------------------------------\n",
      "St David’s Day is a time to celebrate Wales’ rich and illustrious history, its beautiful language and its cultural heritage. Yet this year, we also look forward to a time where Wales will have the opportunity to showcase its credentials on a truly international stage. In September, the NATO Summit will be hosted in south Wales, providing everyone from business leaders to school children with a unique opportunity to present the very best of Wales to a global audience. I hope that everyone seizes this opportunity to show Wales as a great place to live, to visit and to do business in. I’m pleased to be flying the Welsh flag over Downing Street today and I wish everyone a very happy St David’s Day Dydd G yl Dewi Hapus i bawb.\n",
      "--------------------------------------------\n",
      "Fifty years ago John F Kennedy lost his life and the world lost an inspiration. Wherever you go in the world today, the three letters JFK are instantly recognisable. They summon up the very best of politics: energy, optimism, hope the belief that a nation united can achieve almost anything. It was these ideals which came to define the Kennedy Presidency. He demanded that his country rise to the challenges of its time and the people responded in kind. Although, his Presidency was tragically cut short, its legacy was felt long after. Civil rights, a man on the moon: both achieved after his death but only possible because of the leadership shown during his life. Tomorrow will be a day to remember with gratitude what President Kennedy’s life still teaches us and our thoughts are with the American people.\n",
      "--------------------------------------------\n",
      "Ladies and Gentlemen, We’re leaving Downing Street for the last time after eleven-and-a-half wonderful years, and we’re very happy that we leave the United Kingdom in a very, very much better state than when we came here eleven and a half years ago. It’s been a tremendous privilege to serve this country as Prime Minister wonderfully happy years and I’m immensely grateful to the staff who supported me so well, and may I also say a word of thanks to all the people who sent so many letters, still arriving, and for all the flowers. Now it’s time for a new chapter to open and I wish John Major all the luck in the world. He’ll be splendidly served and he has the makings of a great Prime Minister, which I’m sure he’ll be in very short time. Thank you very much. Goodbye.\n",
      "--------------------------------------------\n",
      "The Prime Minister and the President of the European Commission had a broad, constructive exchange on current European and global challenges. They discussed their common interest in preserving the Iran nuclear deal and their work on strengthening the security of citizens in Europe, notably on the fight against terrorism. They also prepared for the European Council that will take place later this week. As regards the Article 50 negotiations, both sides agreed that these issues are being discussed in the framework agreed between the EU27 and the United Kingdom, as set out in Article 50 of the Treaty on European Union. The Prime Minister and the President of the European Commission reviewed the progress made in the Article 50 negotiations so far and agreed that these efforts should accelerate over the months to come. The working dinner took place in a constructive and friendly atmosphere.\n",
      "--------------------------------------------\n",
      "This Easter, millions of families and friends, of all faiths and none, will come together across Britain to enjoy the holiday period. For Christians, of course, Easter is one of the most important festivals of the year. Following Lent, it is a time to celebrate the resurrection of Jesus Christ and reflect upon his life and teachings. And whether you are Christian or not, I’m sure many people can relate to the messages of love, forgiveness and tolerance that Easter represents. I want to pay tribute to the millions of Christians in the UK who work so hard to put those values into action. What you do enriches our society in so many ways, whether through charity work at home and abroad or your dialogue and cooperation with other faiths across communities. And, to Christians and non-Christians alike, I hope you all get a chance to enjoy the break. Happy Easter.\n",
      "--------------------------------------------\n",
      "The NHS is facing its worst crisis since it was founded. The NHS will be over 2 billion in debt by the end of the year. The government is failing to meet its own targets: on A&E waiting times, cancelled operations, and cancer treatment times. Add in the impact of George Osborne’s social care cuts, which result in longer and needless stays in hospital, and the human consequences are all too clear. This week we’ve learned there are some hospitals that are so broke they are having to borrow money to buy medicines for patients and pay wages over Christmas. Through all this, NHS staff are doing a fantastic job and I want to thank them for their hard work, dedication and incredible professionalism. The Labour Party I lead will hold this government to account for their shocking failure to support and protect the world’s best health care service our NHS.\n",
      "--------------------------------------------\n",
      "Good afternoon. I am delighted that we are not going to have a prolonged Conservative leadership election campaign. I think Andrea Leadsom has made absolutely the right decision to stand aside and it is clear that Theresa May has the overwhelming support of the Conservative Parliamentary Party. I am also delighted that Theresa May will be the next Prime Minister. She is strong, she is competent, she is more than able to provide the leadership that our country is going to need in the years ahead and she will have my full support. Obviously with these changes we now don’t need to have a prolonged period of transition, and so tomorrow I will chair my last Cabinet meeting. On Wednesday, I will attend the House of Commons for Prime Minister’s Questions and then after that I expect to go to the Palace and offer my resignation so we’ll have a new Prime Minister by Wednesday evening. Thank you very much.\n",
      "--------------------------------------------\n",
      "The epitaph on Robin Cook’s headstone in the Grange cemetery in Edinburgh reads as follows: I may not have succeeded in halting the war, but I did secure the right of Parliament to decide on war. The Prime Minister is right in saying that, in these circumstances, Parliament cannot be involved in the decision and then simply try to duck responsibility for the ramifications of that decision. Does he agree that the main element in the debate in which Parliament decided, on 13 March 2003, was not the 45-minute claim, which was not mentioned anywhere in those hours of debate, but the fact that Saddam Hussein and his murderous sons had spent 13 years running rings around the United Nations, ignoring 17 UN resolutions, including resolutions calling for all necessary means to stop him? Was that not the main issue in that debate? Has the Prime Minister found any evidence whatever of any lies told to Parliament on that day?\n",
      "--------------------------------------------\n",
      "Ramadan is a unique and special time for Muslims in Britain and around the world. It is a time for them to renew their faith in God and increase their devotion and spirituality. A time when, despite the long summer days, Muslims across Britain will find strength through devotion to fulfil one of the five pillars of their religion. Ramadan fosters a strong sense of community spirit, reflected in the way mosques open their doors and welcome people of all faiths and none to share in the Iftar meal something I have experienced in my own constituency of Maidenhead. It is an important chance for people from all walks of life to meet together, discuss and share experiences with their neighbours, and to increase familiarity and foster friendships. This Ramadan, let us celebrate the way in which this festival of peace, reflection and religious devotion brings people closer together. And let us say to Muslims here in Britain and across the world, Ramadan Kareem.\n",
      "--------------------------------------------\n",
      "On behalf of the United Kingdom of Great Britain and Northern Ireland, I wish the people of Pakistan the very best on the occasion of the 70th anniversary of independence. Muhammad Jinnah’s founding vision of a progressive, inclusive Pakistan is still something worth cherishing and celebrating, and Pakistan should be rightly proud of its culture and history over the last 70 years. The United Kingdom and Pakistan enjoy a close friendship thanks to the links between our people particularly the 1.2 million British people who are of Pakistani origin. Whether on the cricket field, at Pakistani celebrations in the UK or though our strong education cooperation and support, the links between our two countries keep getting stronger. In 2017, the UK is celebrating these connections with a year-long programme of cultural events, exhibitions and visits. As we celebrate our shared history together, and look forward to a future with more links, more trade and more cooperation between the UK and Pakistan, I wish the people of Pakistan Jashan e Azaadi Mubarak.\n",
      "--------------------------------------------\n",
      "It seems to me, without any access to closed information, that the use of this particularly bizarre and dreadful way of killing an individual is a deliberate choice by the Russian Government to put their signature on a particular killing so that other defectors are left in no doubt that it is the Russian Government who will act if they are disappointed in any way by those people’s actions. In the light of that, the only sensible question the Leader of the Opposition asked was what consultation we propose to have with NATO, other European countries and the American Government about positive action that could be taken to prevent this continuing defiance of international law, and the defiance of all rules on the testing and possession of chemical weapons. This is not just a question of expressing our anger about Salisbury. This is actually a serious threat to the safety of the western world unless and until we all do something together to get the Russians to do something, as opposed to simply ignoring us.\n",
      "--------------------------------------------\n",
      "The wheels of justice, they say, turn slowly. Well, not this morning. Between the Royal Courts of Justice, the Supreme Court and Westminster Abbey, we have dealt with a very full caseload and it’s still only breakfast time. As well as opening a new legal year, we have welcomed two exceptional leaders for the senior judiciary. A new Lord Chief Justice, Sir Ian Burnett, and a new President of the Supreme Court, Lady Hale. We must also say our farewells, to Lord Thomas and Lord Neuberger. They have served the justice system with distinction, dignity and energy. We have many challenges ahead but I am confident that we have a judiciary eminently well equipped to deal with them. They are fearsomely experienced and rightly independent of the executive but like all of us here they still need a good breakfast. So will you please join me in raising a glass in a toast: To the future and to the past. And now, as Shakespeare recommended, let us: Do as adversaries in law strive mightily, but eat and drink as friends .\n",
      "--------------------------------------------\n",
      "I thank the Prime Minister for her statement and for early sight of it. I also thank her for her words from the steps of 10 Downing Street last night, which were both unifying and defiant, and in which she really did speak for us all. We always know that the police keep us safe, but yesterday, in the most shocking of ways, we saw how true that really is. In my prayers are Keith Palmer, his family and all the victims of yesterday’s outrage, and they will continue to be there. I am, and we are, beyond thankful to the police, the NHS, the emergency services and the staff of this House for keeping us safe and being so utterly dedicated to their roles. Those who attack us hate our freedom, our peaceful democracy, our love of country, our tolerance, our openness and our unity. As we work to unravel how this unspeakable attack happened, will the Prime Minister agree with me that we must not, either in our laws or by our actions, curtail these values? Indeed, we should have more of them.\n",
      "--------------------------------------------\n"
     ]
    }
   ],
   "source": [
    "for speech in uk_pol_final.iloc[length_check.sort_values()[:20].index,4]:\n",
    "    print(speech)\n",
    "    print('--------------------------------------------')"
   ]
  },
  {
   "cell_type": "markdown",
   "metadata": {},
   "source": [
    "Final check for duplicates:"
   ]
  },
  {
   "cell_type": "code",
   "execution_count": 54,
   "metadata": {},
   "outputs": [
    {
     "data": {
      "text/html": [
       "<div>\n",
       "<style scoped>\n",
       "    .dataframe tbody tr th:only-of-type {\n",
       "        vertical-align: middle;\n",
       "    }\n",
       "\n",
       "    .dataframe tbody tr th {\n",
       "        vertical-align: top;\n",
       "    }\n",
       "\n",
       "    .dataframe thead th {\n",
       "        text-align: right;\n",
       "    }\n",
       "</style>\n",
       "<table border=\"1\" class=\"dataframe\">\n",
       "  <thead>\n",
       "    <tr style=\"text-align: right;\">\n",
       "      <th></th>\n",
       "      <th>speaker</th>\n",
       "      <th>party</th>\n",
       "      <th>date</th>\n",
       "      <th>subject</th>\n",
       "      <th>text</th>\n",
       "    </tr>\n",
       "  </thead>\n",
       "  <tbody>\n",
       "    <tr>\n",
       "      <th>count</th>\n",
       "      <td>2603</td>\n",
       "      <td>2603</td>\n",
       "      <td>2603</td>\n",
       "      <td>2603</td>\n",
       "      <td>2603</td>\n",
       "    </tr>\n",
       "    <tr>\n",
       "      <th>unique</th>\n",
       "      <td>439</td>\n",
       "      <td>10</td>\n",
       "      <td>1525</td>\n",
       "      <td>1883</td>\n",
       "      <td>2600</td>\n",
       "    </tr>\n",
       "    <tr>\n",
       "      <th>top</th>\n",
       "      <td>David Cameron</td>\n",
       "      <td>Conservative</td>\n",
       "      <td>2015-12-02</td>\n",
       "      <td>Maiden Speech</td>\n",
       "      <td>Ladies and Gentlemen, Thank you for the opport...</td>\n",
       "    </tr>\n",
       "    <tr>\n",
       "      <th>freq</th>\n",
       "      <td>178</td>\n",
       "      <td>1723</td>\n",
       "      <td>22</td>\n",
       "      <td>135</td>\n",
       "      <td>2</td>\n",
       "    </tr>\n",
       "  </tbody>\n",
       "</table>\n",
       "</div>"
      ],
      "text/plain": [
       "              speaker         party        date        subject  \\\n",
       "count            2603          2603        2603           2603   \n",
       "unique            439            10        1525           1883   \n",
       "top     David Cameron  Conservative  2015-12-02  Maiden Speech   \n",
       "freq              178          1723          22            135   \n",
       "\n",
       "                                                     text  \n",
       "count                                                2603  \n",
       "unique                                               2600  \n",
       "top     Ladies and Gentlemen, Thank you for the opport...  \n",
       "freq                                                    2  "
      ]
     },
     "execution_count": 54,
     "metadata": {},
     "output_type": "execute_result"
    }
   ],
   "source": [
    "uk_pol_final.describe(include='all')"
   ]
  },
  {
   "cell_type": "markdown",
   "metadata": {},
   "source": [
    "Turns out we've got a few duplicated speeches. Will drop these:"
   ]
  },
  {
   "cell_type": "code",
   "execution_count": 62,
   "metadata": {},
   "outputs": [
    {
     "data": {
      "text/plain": [
       "Int64Index([   0,    1,    2,    3,    4,    5,    6,    7,    8,    9,\n",
       "            ...\n",
       "            2593, 2594, 2595, 2596, 2597, 2598, 2599, 2600, 2601, 2602],\n",
       "           dtype='int64', length=2600)"
      ]
     },
     "execution_count": 62,
     "metadata": {},
     "output_type": "execute_result"
    }
   ],
   "source": [
    "uk_pol_final[['text']].drop_duplicates().index"
   ]
  },
  {
   "cell_type": "code",
   "execution_count": 64,
   "metadata": {},
   "outputs": [],
   "source": [
    "uk_pol_final = uk_pol_final.iloc[uk_pol_final[['text']].drop_duplicates().index]"
   ]
  },
  {
   "cell_type": "code",
   "execution_count": 65,
   "metadata": {},
   "outputs": [],
   "source": [
    "uk_pol_final.to_csv('uk_pol_final.csv', index=False)"
   ]
  }
 ],
 "metadata": {
  "kernelspec": {
   "display_name": "Python 3",
   "language": "python",
   "name": "python3"
  },
  "language_info": {
   "codemirror_mode": {
    "name": "ipython",
    "version": 3
   },
   "file_extension": ".py",
   "mimetype": "text/x-python",
   "name": "python",
   "nbconvert_exporter": "python",
   "pygments_lexer": "ipython3",
   "version": "3.6.5"
  }
 },
 "nbformat": 4,
 "nbformat_minor": 2
}
