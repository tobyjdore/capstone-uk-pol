{
 "cells": [
  {
   "cell_type": "code",
   "execution_count": 1,
   "metadata": {},
   "outputs": [],
   "source": [
    "import requests\n",
    "import bs4\n",
    "from bs4 import BeautifulSoup\n",
    "from tqdm import tqdm_notebook\n",
    "import pandas as pd\n",
    "import multiprocessing as mp\n",
    "import sys\n",
    "import threading\n",
    "import re\n",
    "import numpy as np"
   ]
  },
  {
   "cell_type": "code",
   "execution_count": 67,
   "metadata": {},
   "outputs": [],
   "source": [
    "def get_speeches(url1, url2, letter, return_dict):\n",
    "    if letter == 'c':\n",
    "        r = requests.get(url2.format(letter))\n",
    "        soup = BeautifulSoup(r.text, 'html.parser')\n",
    "        content_list = soup.find('div', attrs={'class':'site-content'})\n",
    "    else:\n",
    "        r = requests.get(url1.format(letter))\n",
    "        soup = BeautifulSoup(r.text, 'html.parser')\n",
    "        content_list = soup.find('div', attrs={'class':'entry-content'})\n",
    "    speeches = []\n",
    "    for result in tqdm_notebook(content_list.findAll('a', href=True)):\n",
    "        if result.text != 'Speeches Index':\n",
    "            try:\n",
    "                speech_url = result.get('href')\n",
    "                speech_r = requests.get(speech_url)\n",
    "                speech_soup = BeautifulSoup(speech_r.text, 'html.parser')\n",
    "                speech_text = speech_soup.find('div', attrs={'class':'entry-content'}).text\n",
    "                speeches.append([result.text,speech_text])\n",
    "            except:\n",
    "                try:\n",
    "                    speeches.append([result.text,'unable to scrape'])\n",
    "                except:\n",
    "                    pass\n",
    "    return_dict[letter]=speeches\n",
    "\n",
    "    \n",
    "def request_thread(url1, url2, letters):\n",
    "    manager = mp.Manager()\n",
    "    return_dict = manager.dict()\n",
    "    threads = []\n",
    "    for letter in tqdm_notebook(letters):\n",
    "        thread = threading.Thread(name=letter, \n",
    "                                  target=get_speeches, \n",
    "                                  args=(url1, url2, letter, return_dict))\n",
    "        thread.start()\n",
    "        threads.append(thread)\n",
    "\n",
    "    for t in threads:\n",
    "        t.join()\n",
    "\n",
    "    return return_dict"
   ]
  },
  {
   "cell_type": "code",
   "execution_count": 14,
   "metadata": {},
   "outputs": [],
   "source": [
    "from string import ascii_lowercase"
   ]
  },
  {
   "cell_type": "code",
   "execution_count": 57,
   "metadata": {},
   "outputs": [],
   "source": [
    "url1 = \"http://www.ukpol.co.uk/speeches/speeches-{}/\"\n",
    "url2 = \"http://www.ukpol.co.uk/speeches/{}/\""
   ]
  },
  {
   "cell_type": "code",
   "execution_count": 27,
   "metadata": {},
   "outputs": [],
   "source": [
    "my_letters = ascii_lowercase\n",
    "for letter in my_letters:\n",
    "    if letter == 'x':\n",
    "        my_letters = my_letters.replace(letter,'')"
   ]
  },
  {
   "cell_type": "code",
   "execution_count": 68,
   "metadata": {},
   "outputs": [
    {
     "data": {
      "application/vnd.jupyter.widget-view+json": {
       "model_id": "bdbb93efbc8245de9706647493856af1",
       "version_major": 2,
       "version_minor": 0
      },
      "text/plain": [
       "HBox(children=(IntProgress(value=0, max=25), HTML(value='')))"
      ]
     },
     "metadata": {},
     "output_type": "display_data"
    },
    {
     "data": {
      "application/vnd.jupyter.widget-view+json": {
       "model_id": "0d5b1776c5a84ab6bd98803e1ae11236",
       "version_major": 2,
       "version_minor": 0
      },
      "text/plain": [
       "HBox(children=(IntProgress(value=0, max=93), HTML(value='')))"
      ]
     },
     "metadata": {},
     "output_type": "display_data"
    },
    {
     "data": {
      "application/vnd.jupyter.widget-view+json": {
       "model_id": "7842a69faa6e46a48d53b0cb079a4494",
       "version_major": 2,
       "version_minor": 0
      },
      "text/plain": [
       "HBox(children=(IntProgress(value=0, max=66), HTML(value='')))"
      ]
     },
     "metadata": {},
     "output_type": "display_data"
    },
    {
     "data": {
      "application/vnd.jupyter.widget-view+json": {
       "model_id": "f16ff0735a724834960d96a39aff237a",
       "version_major": 2,
       "version_minor": 0
      },
      "text/plain": [
       "HBox(children=(IntProgress(value=0, max=6), HTML(value='')))"
      ]
     },
     "metadata": {},
     "output_type": "display_data"
    },
    {
     "data": {
      "application/vnd.jupyter.widget-view+json": {
       "model_id": "932d6ab3c5c14f05ad10dbe476f648f1",
       "version_major": 2,
       "version_minor": 0
      },
      "text/plain": [
       "HBox(children=(IntProgress(value=0, max=97), HTML(value='')))"
      ]
     },
     "metadata": {},
     "output_type": "display_data"
    },
    {
     "data": {
      "application/vnd.jupyter.widget-view+json": {
       "model_id": "4f35c92e451243d49bf5d2aa8100ee73",
       "version_major": 2,
       "version_minor": 0
      },
      "text/plain": [
       "HBox(children=(IntProgress(value=0, max=35), HTML(value='')))"
      ]
     },
     "metadata": {},
     "output_type": "display_data"
    },
    {
     "data": {
      "application/vnd.jupyter.widget-view+json": {
       "model_id": "c89f1b8d344a4b9b89a5b239428c6430",
       "version_major": 2,
       "version_minor": 0
      },
      "text/plain": [
       "HBox(children=(IntProgress(value=0, max=56), HTML(value='')))"
      ]
     },
     "metadata": {},
     "output_type": "display_data"
    },
    {
     "data": {
      "application/vnd.jupyter.widget-view+json": {
       "model_id": "1332299c447a470183cb489c32e7f79b",
       "version_major": 2,
       "version_minor": 0
      },
      "text/plain": [
       "HBox(children=(IntProgress(value=0, max=12), HTML(value='')))"
      ]
     },
     "metadata": {},
     "output_type": "display_data"
    },
    {
     "data": {
      "application/vnd.jupyter.widget-view+json": {
       "model_id": "37046592ffef4d269fda0adf91626871",
       "version_major": 2,
       "version_minor": 0
      },
      "text/plain": [
       "HBox(children=(IntProgress(value=0, max=7), HTML(value='')))"
      ]
     },
     "metadata": {},
     "output_type": "display_data"
    },
    {
     "data": {
      "application/vnd.jupyter.widget-view+json": {
       "model_id": "9faff6ce2c444cf8bb186db0947774c5",
       "version_major": 2,
       "version_minor": 0
      },
      "text/plain": [
       "HBox(children=(IntProgress(value=0, max=90), HTML(value='')))"
      ]
     },
     "metadata": {},
     "output_type": "display_data"
    },
    {
     "data": {
      "application/vnd.jupyter.widget-view+json": {
       "model_id": "03e3eb7f355f485aa4157e69dae72e56",
       "version_major": 2,
       "version_minor": 0
      },
      "text/plain": [
       "HBox(children=(IntProgress(value=0, max=7), HTML(value='')))"
      ]
     },
     "metadata": {},
     "output_type": "display_data"
    },
    {
     "data": {
      "application/vnd.jupyter.widget-view+json": {
       "model_id": "1bdc87d70af3435fa75371b7a065c8c7",
       "version_major": 2,
       "version_minor": 0
      },
      "text/plain": [
       "HBox(children=(IntProgress(value=0, max=488), HTML(value='')))"
      ]
     },
     "metadata": {},
     "output_type": "display_data"
    },
    {
     "data": {
      "application/vnd.jupyter.widget-view+json": {
       "model_id": "b656d6c45e3b47be9aef1ca4424279db",
       "version_major": 2,
       "version_minor": 0
      },
      "text/plain": [
       "HBox(children=(IntProgress(value=0, max=319), HTML(value='')))"
      ]
     },
     "metadata": {},
     "output_type": "display_data"
    },
    {
     "data": {
      "application/vnd.jupyter.widget-view+json": {
       "model_id": "35819e24e5c84353abc23f6d25f104fd",
       "version_major": 2,
       "version_minor": 0
      },
      "text/plain": [
       "HBox(children=(IntProgress(value=0, max=170), HTML(value='')))"
      ]
     },
     "metadata": {},
     "output_type": "display_data"
    },
    {
     "data": {
      "application/vnd.jupyter.widget-view+json": {
       "model_id": "8c65ad3c7ca947dd96791ec5879d48ab",
       "version_major": 2,
       "version_minor": 0
      },
      "text/plain": [
       "HBox(children=(IntProgress(value=0, max=90), HTML(value='')))"
      ]
     },
     "metadata": {},
     "output_type": "display_data"
    },
    {
     "data": {
      "application/vnd.jupyter.widget-view+json": {
       "model_id": "58183cd4bb364f91a154b5a9602a2351",
       "version_major": 2,
       "version_minor": 0
      },
      "text/plain": [
       "HBox(children=(IntProgress(value=0, max=119), HTML(value='')))"
      ]
     },
     "metadata": {},
     "output_type": "display_data"
    },
    {
     "data": {
      "application/vnd.jupyter.widget-view+json": {
       "model_id": "971d56d945ba458cb44836a6b4dc11fc",
       "version_major": 2,
       "version_minor": 0
      },
      "text/plain": [
       "HBox(children=(IntProgress(value=0, max=397), HTML(value='')))"
      ]
     },
     "metadata": {},
     "output_type": "display_data"
    },
    {
     "data": {
      "application/vnd.jupyter.widget-view+json": {
       "model_id": "e6303c10224f4f438a52fb29cac92ec6",
       "version_major": 2,
       "version_minor": 0
      },
      "text/plain": [
       "HBox(children=(IntProgress(value=0, max=23), HTML(value='')))"
      ]
     },
     "metadata": {},
     "output_type": "display_data"
    },
    {
     "data": {
      "application/vnd.jupyter.widget-view+json": {
       "model_id": "50382f9c11114713a011add8551df0f9",
       "version_major": 2,
       "version_minor": 0
      },
      "text/plain": [
       "HBox(children=(IntProgress(value=0, max=49), HTML(value='')))"
      ]
     },
     "metadata": {},
     "output_type": "display_data"
    },
    {
     "data": {
      "application/vnd.jupyter.widget-view+json": {
       "model_id": "6ad4c99f842c4cbcbd690e7978b0cce8",
       "version_major": 2,
       "version_minor": 0
      },
      "text/plain": [
       "HBox(children=(IntProgress(value=0, max=1), HTML(value='')))"
      ]
     },
     "metadata": {},
     "output_type": "display_data"
    },
    {
     "data": {
      "application/vnd.jupyter.widget-view+json": {
       "model_id": "eb75ad5411284d169c1a8e743f3595c8",
       "version_major": 2,
       "version_minor": 0
      },
      "text/plain": [
       "HBox(children=(IntProgress(value=0, max=55), HTML(value='')))"
      ]
     },
     "metadata": {},
     "output_type": "display_data"
    },
    {
     "data": {
      "application/vnd.jupyter.widget-view+json": {
       "model_id": "efcf9293726746918e9076bdb6266e06",
       "version_major": 2,
       "version_minor": 0
      },
      "text/plain": [
       "HBox(children=(IntProgress(value=0, max=74), HTML(value='')))"
      ]
     },
     "metadata": {},
     "output_type": "display_data"
    },
    {
     "data": {
      "application/vnd.jupyter.widget-view+json": {
       "model_id": "9d820677016a417e8b97cc2c79dcbcaa",
       "version_major": 2,
       "version_minor": 0
      },
      "text/plain": [
       "HBox(children=(IntProgress(value=0, max=102), HTML(value='')))"
      ]
     },
     "metadata": {},
     "output_type": "display_data"
    },
    {
     "data": {
      "application/vnd.jupyter.widget-view+json": {
       "model_id": "cc83a65a87404ff9b0af0f1e6daf70c6",
       "version_major": 2,
       "version_minor": 0
      },
      "text/plain": [
       "HBox(children=(IntProgress(value=0, max=139), HTML(value='')))"
      ]
     },
     "metadata": {},
     "output_type": "display_data"
    },
    {
     "data": {
      "application/vnd.jupyter.widget-view+json": {
       "model_id": "e91139747172411f9331c5b2cc2c335e",
       "version_major": 2,
       "version_minor": 0
      },
      "text/plain": [
       "HBox(children=(IntProgress(value=0, max=229), HTML(value='')))"
      ]
     },
     "metadata": {},
     "output_type": "display_data"
    },
    {
     "data": {
      "application/vnd.jupyter.widget-view+json": {
       "model_id": "61ed1f55403d4e5ba622b85725eee59e",
       "version_major": 2,
       "version_minor": 0
      },
      "text/plain": [
       "HBox(children=(IntProgress(value=0, max=357), HTML(value='')))"
      ]
     },
     "metadata": {},
     "output_type": "display_data"
    },
    {
     "name": "stderr",
     "output_type": "stream",
     "text": [
      "Exception in thread j:\n",
      "Traceback (most recent call last):\n",
      "  File \"/Library/Frameworks/Python.framework/Versions/3.6/lib/python3.6/multiprocessing/managers.py\", line 749, in _callmethod\n",
      "    conn = self._tls.connection\n",
      "AttributeError: 'ForkAwareLocal' object has no attribute 'connection'\n",
      "\n",
      "During handling of the above exception, another exception occurred:\n",
      "\n",
      "Traceback (most recent call last):\n",
      "  File \"/Library/Frameworks/Python.framework/Versions/3.6/lib/python3.6/threading.py\", line 916, in _bootstrap_inner\n",
      "    self.run()\n",
      "  File \"/Library/Frameworks/Python.framework/Versions/3.6/lib/python3.6/threading.py\", line 864, in run\n",
      "    self._target(*self._args, **self._kwargs)\n",
      "  File \"<ipython-input-35-00fe20fb9716>\", line 21, in get_speeches\n",
      "    return_dict[letter]=speeches\n",
      "  File \"<string>\", line 2, in __setitem__\n",
      "  File \"/Library/Frameworks/Python.framework/Versions/3.6/lib/python3.6/multiprocessing/managers.py\", line 753, in _callmethod\n",
      "    self._connect()\n",
      "  File \"/Library/Frameworks/Python.framework/Versions/3.6/lib/python3.6/multiprocessing/managers.py\", line 740, in _connect\n",
      "    conn = self._Client(self._token.address, authkey=self._authkey)\n",
      "  File \"/Library/Frameworks/Python.framework/Versions/3.6/lib/python3.6/multiprocessing/connection.py\", line 487, in Client\n",
      "    c = SocketClient(address)\n",
      "  File \"/Library/Frameworks/Python.framework/Versions/3.6/lib/python3.6/multiprocessing/connection.py\", line 614, in SocketClient\n",
      "    s.connect(address)\n",
      "FileNotFoundError: [Errno 2] No such file or directory\n",
      "\n",
      "Exception in thread s:\n",
      "Traceback (most recent call last):\n",
      "  File \"/Library/Frameworks/Python.framework/Versions/3.6/lib/python3.6/multiprocessing/managers.py\", line 749, in _callmethod\n",
      "    conn = self._tls.connection\n",
      "AttributeError: 'ForkAwareLocal' object has no attribute 'connection'\n",
      "\n",
      "During handling of the above exception, another exception occurred:\n",
      "\n",
      "Traceback (most recent call last):\n",
      "  File \"/Library/Frameworks/Python.framework/Versions/3.6/lib/python3.6/threading.py\", line 916, in _bootstrap_inner\n",
      "    self.run()\n",
      "  File \"/Library/Frameworks/Python.framework/Versions/3.6/lib/python3.6/threading.py\", line 864, in run\n",
      "    self._target(*self._args, **self._kwargs)\n",
      "  File \"<ipython-input-35-00fe20fb9716>\", line 21, in get_speeches\n",
      "    return_dict[letter]=speeches\n",
      "  File \"<string>\", line 2, in __setitem__\n",
      "  File \"/Library/Frameworks/Python.framework/Versions/3.6/lib/python3.6/multiprocessing/managers.py\", line 753, in _callmethod\n",
      "    self._connect()\n",
      "  File \"/Library/Frameworks/Python.framework/Versions/3.6/lib/python3.6/multiprocessing/managers.py\", line 740, in _connect\n",
      "    conn = self._Client(self._token.address, authkey=self._authkey)\n",
      "  File \"/Library/Frameworks/Python.framework/Versions/3.6/lib/python3.6/multiprocessing/connection.py\", line 487, in Client\n",
      "    c = SocketClient(address)\n",
      "  File \"/Library/Frameworks/Python.framework/Versions/3.6/lib/python3.6/multiprocessing/connection.py\", line 614, in SocketClient\n",
      "    s.connect(address)\n",
      "FileNotFoundError: [Errno 2] No such file or directory\n",
      "\n",
      "Exception in thread g:\n",
      "Traceback (most recent call last):\n",
      "  File \"/Library/Frameworks/Python.framework/Versions/3.6/lib/python3.6/multiprocessing/managers.py\", line 749, in _callmethod\n",
      "    conn = self._tls.connection\n",
      "AttributeError: 'ForkAwareLocal' object has no attribute 'connection'\n",
      "\n",
      "During handling of the above exception, another exception occurred:\n",
      "\n",
      "Traceback (most recent call last):\n",
      "  File \"/Library/Frameworks/Python.framework/Versions/3.6/lib/python3.6/threading.py\", line 916, in _bootstrap_inner\n",
      "    self.run()\n",
      "  File \"/Library/Frameworks/Python.framework/Versions/3.6/lib/python3.6/threading.py\", line 864, in run\n",
      "    self._target(*self._args, **self._kwargs)\n",
      "  File \"<ipython-input-35-00fe20fb9716>\", line 21, in get_speeches\n",
      "    return_dict[letter]=speeches\n",
      "  File \"<string>\", line 2, in __setitem__\n",
      "  File \"/Library/Frameworks/Python.framework/Versions/3.6/lib/python3.6/multiprocessing/managers.py\", line 753, in _callmethod\n",
      "    self._connect()\n",
      "  File \"/Library/Frameworks/Python.framework/Versions/3.6/lib/python3.6/multiprocessing/managers.py\", line 740, in _connect\n",
      "    conn = self._Client(self._token.address, authkey=self._authkey)\n",
      "  File \"/Library/Frameworks/Python.framework/Versions/3.6/lib/python3.6/multiprocessing/connection.py\", line 487, in Client\n",
      "    c = SocketClient(address)\n",
      "  File \"/Library/Frameworks/Python.framework/Versions/3.6/lib/python3.6/multiprocessing/connection.py\", line 614, in SocketClient\n",
      "    s.connect(address)\n",
      "FileNotFoundError: [Errno 2] No such file or directory\n",
      "\n",
      "Exception in thread b:\n",
      "Traceback (most recent call last):\n",
      "  File \"/Library/Frameworks/Python.framework/Versions/3.6/lib/python3.6/multiprocessing/managers.py\", line 749, in _callmethod\n",
      "    conn = self._tls.connection\n",
      "AttributeError: 'ForkAwareLocal' object has no attribute 'connection'\n",
      "\n",
      "During handling of the above exception, another exception occurred:\n",
      "\n",
      "Traceback (most recent call last):\n",
      "  File \"/Library/Frameworks/Python.framework/Versions/3.6/lib/python3.6/threading.py\", line 916, in _bootstrap_inner\n",
      "    self.run()\n",
      "  File \"/Library/Frameworks/Python.framework/Versions/3.6/lib/python3.6/threading.py\", line 864, in run\n",
      "    self._target(*self._args, **self._kwargs)\n",
      "  File \"<ipython-input-35-00fe20fb9716>\", line 21, in get_speeches\n",
      "    return_dict[letter]=speeches\n",
      "  File \"<string>\", line 2, in __setitem__\n",
      "  File \"/Library/Frameworks/Python.framework/Versions/3.6/lib/python3.6/multiprocessing/managers.py\", line 753, in _callmethod\n",
      "    self._connect()\n",
      "  File \"/Library/Frameworks/Python.framework/Versions/3.6/lib/python3.6/multiprocessing/managers.py\", line 740, in _connect\n",
      "    conn = self._Client(self._token.address, authkey=self._authkey)\n",
      "  File \"/Library/Frameworks/Python.framework/Versions/3.6/lib/python3.6/multiprocessing/connection.py\", line 487, in Client\n",
      "    c = SocketClient(address)\n",
      "  File \"/Library/Frameworks/Python.framework/Versions/3.6/lib/python3.6/multiprocessing/connection.py\", line 614, in SocketClient\n",
      "    s.connect(address)\n",
      "FileNotFoundError: [Errno 2] No such file or directory\n",
      "\n",
      "Exception in thread h:\n",
      "Traceback (most recent call last):\n",
      "  File \"/Library/Frameworks/Python.framework/Versions/3.6/lib/python3.6/multiprocessing/managers.py\", line 749, in _callmethod\n",
      "    conn = self._tls.connection\n",
      "AttributeError: 'ForkAwareLocal' object has no attribute 'connection'\n",
      "\n",
      "During handling of the above exception, another exception occurred:\n",
      "\n",
      "Traceback (most recent call last):\n",
      "  File \"/Library/Frameworks/Python.framework/Versions/3.6/lib/python3.6/threading.py\", line 916, in _bootstrap_inner\n",
      "    self.run()\n",
      "  File \"/Library/Frameworks/Python.framework/Versions/3.6/lib/python3.6/threading.py\", line 864, in run\n",
      "    self._target(*self._args, **self._kwargs)\n",
      "  File \"<ipython-input-35-00fe20fb9716>\", line 21, in get_speeches\n",
      "    return_dict[letter]=speeches\n",
      "  File \"<string>\", line 2, in __setitem__\n",
      "  File \"/Library/Frameworks/Python.framework/Versions/3.6/lib/python3.6/multiprocessing/managers.py\", line 753, in _callmethod\n",
      "    self._connect()\n",
      "  File \"/Library/Frameworks/Python.framework/Versions/3.6/lib/python3.6/multiprocessing/managers.py\", line 740, in _connect\n",
      "    conn = self._Client(self._token.address, authkey=self._authkey)\n",
      "  File \"/Library/Frameworks/Python.framework/Versions/3.6/lib/python3.6/multiprocessing/connection.py\", line 487, in Client\n",
      "    c = SocketClient(address)\n",
      "  File \"/Library/Frameworks/Python.framework/Versions/3.6/lib/python3.6/multiprocessing/connection.py\", line 614, in SocketClient\n",
      "    s.connect(address)\n",
      "FileNotFoundError: [Errno 2] No such file or directory\n",
      "\n",
      "Exception in thread c:\n",
      "Traceback (most recent call last):\n",
      "  File \"/Library/Frameworks/Python.framework/Versions/3.6/lib/python3.6/multiprocessing/managers.py\", line 749, in _callmethod\n",
      "    conn = self._tls.connection\n",
      "AttributeError: 'ForkAwareLocal' object has no attribute 'connection'\n",
      "\n",
      "During handling of the above exception, another exception occurred:\n",
      "\n",
      "Traceback (most recent call last):\n",
      "  File \"/Library/Frameworks/Python.framework/Versions/3.6/lib/python3.6/threading.py\", line 916, in _bootstrap_inner\n",
      "    self.run()\n",
      "  File \"/Library/Frameworks/Python.framework/Versions/3.6/lib/python3.6/threading.py\", line 864, in run\n",
      "    self._target(*self._args, **self._kwargs)\n",
      "  File \"<ipython-input-35-00fe20fb9716>\", line 21, in get_speeches\n",
      "    return_dict[letter]=speeches\n",
      "  File \"<string>\", line 2, in __setitem__\n",
      "  File \"/Library/Frameworks/Python.framework/Versions/3.6/lib/python3.6/multiprocessing/managers.py\", line 753, in _callmethod\n",
      "    self._connect()\n",
      "  File \"/Library/Frameworks/Python.framework/Versions/3.6/lib/python3.6/multiprocessing/managers.py\", line 740, in _connect\n",
      "    conn = self._Client(self._token.address, authkey=self._authkey)\n",
      "  File \"/Library/Frameworks/Python.framework/Versions/3.6/lib/python3.6/multiprocessing/connection.py\", line 487, in Client\n",
      "    c = SocketClient(address)\n",
      "  File \"/Library/Frameworks/Python.framework/Versions/3.6/lib/python3.6/multiprocessing/connection.py\", line 614, in SocketClient\n",
      "    s.connect(address)\n",
      "FileNotFoundError: [Errno 2] No such file or directory\n",
      "\n"
     ]
    },
    {
     "name": "stderr",
     "output_type": "stream",
     "text": [
      "Exception in thread m:\n",
      "Traceback (most recent call last):\n",
      "  File \"/Library/Frameworks/Python.framework/Versions/3.6/lib/python3.6/multiprocessing/managers.py\", line 749, in _callmethod\n",
      "    conn = self._tls.connection\n",
      "AttributeError: 'ForkAwareLocal' object has no attribute 'connection'\n",
      "\n",
      "During handling of the above exception, another exception occurred:\n",
      "\n",
      "Traceback (most recent call last):\n",
      "  File \"/Library/Frameworks/Python.framework/Versions/3.6/lib/python3.6/threading.py\", line 916, in _bootstrap_inner\n",
      "    self.run()\n",
      "  File \"/Library/Frameworks/Python.framework/Versions/3.6/lib/python3.6/threading.py\", line 864, in run\n",
      "    self._target(*self._args, **self._kwargs)\n",
      "  File \"<ipython-input-35-00fe20fb9716>\", line 21, in get_speeches\n",
      "    return_dict[letter]=speeches\n",
      "  File \"<string>\", line 2, in __setitem__\n",
      "  File \"/Library/Frameworks/Python.framework/Versions/3.6/lib/python3.6/multiprocessing/managers.py\", line 753, in _callmethod\n",
      "    self._connect()\n",
      "  File \"/Library/Frameworks/Python.framework/Versions/3.6/lib/python3.6/multiprocessing/managers.py\", line 740, in _connect\n",
      "    conn = self._Client(self._token.address, authkey=self._authkey)\n",
      "  File \"/Library/Frameworks/Python.framework/Versions/3.6/lib/python3.6/multiprocessing/connection.py\", line 487, in Client\n",
      "    c = SocketClient(address)\n",
      "  File \"/Library/Frameworks/Python.framework/Versions/3.6/lib/python3.6/multiprocessing/connection.py\", line 614, in SocketClient\n",
      "    s.connect(address)\n",
      "FileNotFoundError: [Errno 2] No such file or directory\n",
      "\n"
     ]
    }
   ],
   "source": [
    "speeches_dict = request_thread(url1, url2, my_letters)"
   ]
  },
  {
   "cell_type": "code",
   "execution_count": 60,
   "metadata": {},
   "outputs": [],
   "source": [
    "speeches1 = pd.DataFrame([x for letter in speeches_dict.values() for x in letter])"
   ]
  },
  {
   "cell_type": "code",
   "execution_count": 61,
   "metadata": {},
   "outputs": [],
   "source": [
    "speeches1.columns = ['title','speech']"
   ]
  },
  {
   "cell_type": "code",
   "execution_count": 62,
   "metadata": {},
   "outputs": [
    {
     "data": {
      "text/html": [
       "<div>\n",
       "<style scoped>\n",
       "    .dataframe tbody tr th:only-of-type {\n",
       "        vertical-align: middle;\n",
       "    }\n",
       "\n",
       "    .dataframe tbody tr th {\n",
       "        vertical-align: top;\n",
       "    }\n",
       "\n",
       "    .dataframe thead th {\n",
       "        text-align: right;\n",
       "    }\n",
       "</style>\n",
       "<table border=\"1\" class=\"dataframe\">\n",
       "  <thead>\n",
       "    <tr style=\"text-align: right;\">\n",
       "      <th></th>\n",
       "      <th>title</th>\n",
       "      <th>speech</th>\n",
       "    </tr>\n",
       "  </thead>\n",
       "  <tbody>\n",
       "    <tr>\n",
       "      <th>0</th>\n",
       "      <td>Isherwood, Mark – 2006 Speech on Fuel Poverty</td>\n",
       "      <td>\\nBelow is the text of the speech made by Mark...</td>\n",
       "    </tr>\n",
       "    <tr>\n",
       "      <th>1</th>\n",
       "      <td>Umunna, Chuka – 2011 Speech to Universities UK</td>\n",
       "      <td>\\nBelow is the text of the speech made by Chuk...</td>\n",
       "    </tr>\n",
       "    <tr>\n",
       "      <th>2</th>\n",
       "      <td>Umunna, Chuka – 2012 Speech to High Pay Commis...</td>\n",
       "      <td>\\nBelow is the text of the speech made by Chuk...</td>\n",
       "    </tr>\n",
       "    <tr>\n",
       "      <th>3</th>\n",
       "      <td>Umunna, Chuka – 2012 Speech to Hub Westminster</td>\n",
       "      <td>\\nBelow is the text of the speech made by Chuk...</td>\n",
       "    </tr>\n",
       "    <tr>\n",
       "      <th>4</th>\n",
       "      <td>Umunna, Chuka – 2012 Speech to UCATT Conference</td>\n",
       "      <td>\\nBelow is the text of the speech made by Chuk...</td>\n",
       "    </tr>\n",
       "  </tbody>\n",
       "</table>\n",
       "</div>"
      ],
      "text/plain": [
       "                                               title  \\\n",
       "0      Isherwood, Mark – 2006 Speech on Fuel Poverty   \n",
       "1     Umunna, Chuka – 2011 Speech to Universities UK   \n",
       "2  Umunna, Chuka – 2012 Speech to High Pay Commis...   \n",
       "3     Umunna, Chuka – 2012 Speech to Hub Westminster   \n",
       "4    Umunna, Chuka – 2012 Speech to UCATT Conference   \n",
       "\n",
       "                                              speech  \n",
       "0  \\nBelow is the text of the speech made by Mark...  \n",
       "1  \\nBelow is the text of the speech made by Chuk...  \n",
       "2  \\nBelow is the text of the speech made by Chuk...  \n",
       "3  \\nBelow is the text of the speech made by Chuk...  \n",
       "4  \\nBelow is the text of the speech made by Chuk...  "
      ]
     },
     "execution_count": 62,
     "metadata": {},
     "output_type": "execute_result"
    }
   ],
   "source": [
    "speeches1.head()"
   ]
  },
  {
   "cell_type": "code",
   "execution_count": 63,
   "metadata": {},
   "outputs": [
    {
     "data": {
      "text/plain": [
       "(3077, 2)"
      ]
     },
     "execution_count": 63,
     "metadata": {},
     "output_type": "execute_result"
    }
   ],
   "source": [
    "speeches1.shape"
   ]
  },
  {
   "cell_type": "code",
   "execution_count": 4,
   "metadata": {},
   "outputs": [],
   "source": [
    "speeches1.to_csv('speeches1.csv',index=False)"
   ]
  },
  {
   "cell_type": "code",
   "execution_count": 43,
   "metadata": {},
   "outputs": [],
   "source": [
    "speeches1 = pd.read_csv('speeches1.csv')"
   ]
  },
  {
   "cell_type": "markdown",
   "metadata": {},
   "source": [
    "Let's see if I can get anything more. Have updated the get_speeches function to return 'unable to scrape' when it errors."
   ]
  },
  {
   "cell_type": "code",
   "execution_count": 69,
   "metadata": {},
   "outputs": [],
   "source": [
    "speeches2 = pd.DataFrame([x for letter in speeches_dict.values() for x in letter])\n",
    "speeches2.columns = ['title','speech']"
   ]
  },
  {
   "cell_type": "code",
   "execution_count": 70,
   "metadata": {},
   "outputs": [
    {
     "data": {
      "text/plain": [
       "(3080, 2)"
      ]
     },
     "execution_count": 70,
     "metadata": {},
     "output_type": "execute_result"
    }
   ],
   "source": [
    "speeches2.shape"
   ]
  },
  {
   "cell_type": "code",
   "execution_count": 72,
   "metadata": {},
   "outputs": [
    {
     "data": {
      "text/html": [
       "<div>\n",
       "<style scoped>\n",
       "    .dataframe tbody tr th:only-of-type {\n",
       "        vertical-align: middle;\n",
       "    }\n",
       "\n",
       "    .dataframe tbody tr th {\n",
       "        vertical-align: top;\n",
       "    }\n",
       "\n",
       "    .dataframe thead th {\n",
       "        text-align: right;\n",
       "    }\n",
       "</style>\n",
       "<table border=\"1\" class=\"dataframe\">\n",
       "  <thead>\n",
       "    <tr style=\"text-align: right;\">\n",
       "      <th></th>\n",
       "      <th>title</th>\n",
       "      <th>speech</th>\n",
       "    </tr>\n",
       "  </thead>\n",
       "  <tbody>\n",
       "    <tr>\n",
       "      <th>1005</th>\n",
       "      <td>Javid, Sajid – 2017 Speech to the Anne Frank T...</td>\n",
       "      <td>unable to scrape</td>\n",
       "    </tr>\n",
       "    <tr>\n",
       "      <th>1502</th>\n",
       "      <td>Grieve, Dominic – 2017 Speech on Withdrawal fr...</td>\n",
       "      <td>unable to scrape</td>\n",
       "    </tr>\n",
       "    <tr>\n",
       "      <th>1652</th>\n",
       "      <td>Blunkett, David – 2001 Speech to Police Superi...</td>\n",
       "      <td>unable to scrape</td>\n",
       "    </tr>\n",
       "  </tbody>\n",
       "</table>\n",
       "</div>"
      ],
      "text/plain": [
       "                                                  title            speech\n",
       "1005  Javid, Sajid – 2017 Speech to the Anne Frank T...  unable to scrape\n",
       "1502  Grieve, Dominic – 2017 Speech on Withdrawal fr...  unable to scrape\n",
       "1652  Blunkett, David – 2001 Speech to Police Superi...  unable to scrape"
      ]
     },
     "execution_count": 72,
     "metadata": {},
     "output_type": "execute_result"
    }
   ],
   "source": [
    "speeches2[speeches2.speech=='unable to scrape']"
   ]
  },
  {
   "cell_type": "markdown",
   "metadata": {},
   "source": [
    "I looked up the three speeches that I couldn't scrape; the first two were broken links and the third was a pdf. I've got as much from this site as I can."
   ]
  },
  {
   "cell_type": "code",
   "execution_count": 44,
   "metadata": {},
   "outputs": [
    {
     "data": {
      "text/plain": [
       "'\\nBelow is the text of the speech made by Mark Isherwood on 10th January 2006 on fuel poverty.\\nThe Chartered Institute of Housing Cymru states that it is reasonable to expect everyone to live in a safe, warm, affordable, and comfortable home. However, there are growing signs that current housing policy is failing to deliver that.\\nWales has the oldest housing stock of any western European nation, with 8.5 per cent of the Welsh housing stock in home ownership classified as unfit. The Council of Mortgage Lenders reports that one in two of the poorest households live in their own homes and 72 per cent of Welsh properties that are officially designated as unfit are owner-occupied. The Joseph Rowntree Foundation tells us that three in five pensioners on low incomes in Wales are homeowners.\\nNational Energy Action states that, across north Wales, 34,000 pensioners are on low incomes or claiming pension credit and 13.8 per cent of households in Wales live in fuel poverty. Each year, there are over 400 excess winter deaths in north Wales and, last winter, the number of excess winter deaths was the highest for five years, with 90 per cent of these occurring in the pensioner population.\\nI was pleased to support the warm homes campaign and to visit a beneficiary of the home energy efficiency scheme in Kinmel Bay a few weeks ago. However, it is clear that much more needs to be done to target those most at risk from fuel poverty. Despite reports of a reduction in fuel poverty numbers since 1998, as we have heard, Energy Watch states that the true figure is likely to be significantly higher following the huge energy price hikes of the past two years.\\nRecent research carried out by National Energy Action Wales and the National Right to Fuel Campaign suggest that fuel poverty may have increased by some 80 per cent between 2003 and 2005, affecting up to 304,000 people in Wales.\\nFuel poverty is a major cause of illness. Cold, damp housing causes a wide range of circulatory and respiratory conditions and is a key factor in social isolation. Children living in fuel poverty are more likely to miss school as a result of cold-related illness and to have difficulty finding places to study.\\nThere is no better example of that than the Finnegan family in Flintshire. All those responsible, and all those who have looked the other way, should hang their heads in shame. Help the Aged in Wales says that that 1,800 older people died of cold-related illnesses last winter. That was the third year in a row of increases in winter deaths among the over-65s.\\nThese are all reasons for tabling amendment 1. A national strategy will be meaningless without measures for assisting the people identified, and that situation is so often the case with this Welsh Assembly Government. Motions without measures are like hot air balloons without tethers—floating off into the ether, never to be seen again. This is the Government of policy-led evidence—the Government that puts policy before planning, preparation and pricing; trying to please everyone, but delivering for no-one.\\nSuch measures should, therefore, acknowledge the call by Help the Aged in Wales for research into all the circumstances that could be contributing to premature winter deaths, including behaviour on cultural issues, availability of and access to heating grants and schemes, health and nutrition.\\nOnly then can we deliver a focused strategy to tackle fuel poverty. As Citizens Advice Cymru states, geographical factors must also be taken into account so that fuel poverty can be tackled evenly across Wales, and to ensure that people outside easily identifiable groups and Communities First areas are not the last ones to be helped.\\nThe Welsh housing quality standard states that all dwellings must be capable of being adequately heated at an affordable cost. However, as National Energy Action states, this commitment requires more than rhetoric.\\nIt requires adequate resources and effective enforcement. For that reason, amendment 2 expresses concern at the slow progress towards achieving the Welsh housing quality standard by 2012. As the Council of Mortgage Lenders Cymru has stated, sadly, to date, the politics and the process have got firmly in the way of reality. The question is: for how much longer will the council tenants of Wales get less than they deserve and need?\\nYou will recall that I spoke on the budget and severely criticised this very factor decisively and categorically. There is a housing crisis in Wales, and it has been engineered by you during your period in Government.\\nI will move on to amendments 3 and 4, which relate to progress on the Home Energy Conservation Act 1995 target, introduced on a voluntary basis by the last Conservative Government. In the last Labour Government, a Labour Member of Parliament tabled a backbench motion to introduce statutory targets, with all-party backing, but pressure from 10 Downing Street forced him to withdraw the motion.\\nHowever, in Scotland, statutory reporting has been introduced by threatening court action. I urge the Welsh Assembly Government to put its money where its mouth is and to use the powers that it has to implement similar measures here. Let us show that we really mean what we say.\\n\\xa0\\nMae Sefydliad Tai Siartredig Cymru’n datgan ei bod yn rhesymol disgwyl bod pawb yn gallu byw mewn cartref diogel, cynnes, fforddiadwy a chyfforddus. Fodd bynnag, gwelir arwyddion cynyddol nad yw’r polisi tai cyfredol yn llwyddo i gyflawni hynny. Mae stoc dai hynaf unrhyw genedl yng ngorllewin Ewrop i’w chael yng Nghymru, gydag 8.5 y cant o stoc dai Cymru sy’n gartrefi’n cael ei chyfrif yn anaddas i fyw ynddynt.\\nYn ôl Cyngor y Benthycwyr Morgais mae un o bob dau o’r teuluoedd tlotaf yn byw yn eu cartrefi eu hunain ac mae 72 y cant o eiddo Cymru sydd wedi eu dynodi’n anaddas i fyw ynddynt yn gartrefi i’w perchenogion. Dywed Sefydliad Joseph Rowntree wrthym fod tri o bob pum pensiynwr ar incwm isel yng Nghymru yn berchen ar eu cartref eu hunain.\\nYn ôl National Energy Action, ledled y Gogledd, mae 34,000 o bensiynwyr ar incwm isel neu’n hawlio credyd pensiwn ac mae 13.8 y cant o deuluoedd yng Nghymru’n byw mewn tlodi tanwydd. Bob blwyddyn, ceir dros 400 o farwolaethau gaeaf ychwanegol yn y Gogledd ac, yn ystod y gaeaf diwethaf, y ffigur ar gyfer marwolaethau gaeaf ychwanegol oedd yr uchaf a welwyd mewn pum mlynedd, gyda 90 y cant o’r rhain yn digwydd ymhlith pensiynwyr.\\nYr oeddwn yn falch o gael cefnogi’r ymgyrch cartrefi cynnes ac o ymweld ag un o fuddiolwyr y cynllun effeithlonrwydd ynni cartref ym Mae Cinmel ychydig wythnosau yn ôl. Fodd bynnag, mae’n amlwg bod llawer iawn o waith i’w wneud eto i dargedu’r rhai sydd yn y perygl mwyaf o dlodi tanwydd.\\nEr gwaethaf adroddiadau ar ostyngiad yn y nifer sy’n byw mewn tlodi tanwydd ers 1998, fel y clywsom, yn ôl Golwg ar Ynni mae’r gwir ffigur yn debygol o fod yn sylweddol uwch yn dilyn y cynnydd enfawr mewn pris tanwydd yn ystod y ddwy flynedd diwethaf.\\nMae ymchwil diweddar a gynhaliwyd gan National Energy Action Cymru a’r Ymgyrch Genedlaethol dros Hawl i Danwydd yn awgrymu y gall tlodi tanwydd fod wedi cynyddu oddeutu 80 y cant rhwng 2003 a 2005, gan effeithio ar hyd at 304,000 o bobl yng Nghymru.\\nTlodi tanwydd yw un o brif achosion salwch. Mae cartrefi oer a llaith yn achosi pob math o gyflyrau cylchredol a resbiradol ac mae’n un o ffactorau allweddol arwahanrwydd cymdeithasol. Mae plant sy’n byw mewn tlodi tanwydd yn fwy tebygol o golli ysgol o ganlyniad i salwch a achosir gan oerfel a’i chael yn anodd dod o hyd i rywle i astudio.\\nNi cheir enghraifft well o hyn na’r teulu Finnegan yn Sir y Fflint. Dylai pawb sy’n gyfrifol a phawb sydd wedi edrych i’r cyfeiriad arall, wrido gan gywilydd. Dywed Help the Aged yng Nghymru fod 1,800 o bobl hyn wedi marw o ganlyniad i salwch a achosir gan oerfel y gaeaf diwethaf. Dyna’r trydydd gaeaf yn olynol lle gwelwyd cynnydd mewn marwolaethau gaeaf ymhlith pobl dros 65 oed.\\nMae’r rhain i gyd yn rhesymau dros gynnig gwelliant 1. Bydd strategaeth genedlaethol yn ddiystyr heb fesurau i gynorthwyo’r bobl sydd mewn angen, a dyna’r sefyllfa’n aml yn achos Llywodraeth Cynulliad Cymru heddiw. Mae cynigion heb fesurau fel balwns awyr poeth heb dennyn—maent yn codi i’r entrychion, ac yn diflannu am byth.\\nDyma Lywodraeth y dystiolaeth a arweinir gan bolisi—y Llywodraeth sy’n rhoi polisi o flaen cynllunio, paratoi a phrisio; ceisio plesio pawb, ond yn cyflawni dim i neb.\\nDylai mesurau o’r fath, felly, gydnabod galwad Help the Aged yng Nghymru am ymchwil i’r holl amgylchiadau a all fod yn cyfrannu at farwolaethau gaeaf cynamserol, gan gynnwys ymddygiad yng nghyswllt materion diwylliannol, argaeledd a mynediad at grantiau a chynlluniau gwresogi, iechyd a maeth.\\nDim ond wedyn y gallwn ni gyflawni strategaeth sy’n canolbwyntio ar fynd i’r afael â thlodi tanwydd. Fel y dywed Cyngor ar Bopeth Cymru, rhaid hefyd ystyried ffactorau daearyddol i sicrhau bod modd mynd i’r afael â thlodi tanwydd yn yr un ffordd ledled Cymru, a sicrhau nad y bobl sydd y tu allan i grwpiau amlwg ac ardaloedd Cymunedau yn Gyntaf yw’r rhai olaf i dderbyn cymorth.\\nYn ôl safon ansawdd tai Cymru rhaid bod modd cynhesu pob annedd yn ddigonol a hynny am gost fforddiadwy. Fodd bynnag, dywed National Energy Action bod angen mwy na rhethreg i gyflawni’r ymrwymiad hwn.\\nMae’n gofyn am adnoddau digonol a gorfodi effeithiol. Oherwydd hynny, mae gwelliant 2 yn mynegi pryder ynghylch y cynnydd araf a wneir tuag at gyflawni safon ansawdd tai Cymru erbyn 2012. Fel y dywedodd Cyngor Benthycwyr Morgais Cymru, yn anffodus, hyd yma, mae gwleidyddiaeth a’r broses wedi sefyll yn ffordd realaeth. Y cwestiwn yw: am faint o amser eto y bydd tenantiaid cynghorau Cymru’n gorfod byw â llai na’u haeddiant a’u hangen?\\nByddwch yn cofio imi lefaru ar y gyllideb a beirniadu’n hallt yr union ffactor hwn yn bendant ac yn ddiamwys. Mae gennym argyfwng tai yng Nghymru, ac mae wedi’i achosi gennych chi yn ystod eich cyfnod mewn grym.\\nYr wyf am symud ymlaen at welliannau 3 a 4, sy’n cyfeirio at y cynnydd i gwrdd â tharged Deddf Cadwraeth Ynni Cartref 1995, a gyflwynwyd ar sail wirfoddol gan y Llywodraeth Geidwadol ddiwethaf. Yn ystod cyfnod y Llywodraeth Lafur ddiwethaf, cyflwynodd Aelod Seneddol Llafur fesur o’r meinciau cefn i gyflwyno targedau statudol, gyda chefnogaeth pob plaid, ond yn dilyn pwysau o gyfeiriad 10 Downing Street fe’i gorfodwyd i dynnu’r cynnig yn ôl. Fodd bynnag, yn yr Alban, bygythiwyd camau cyfreithiol er mwyn cyflwyno trefn adrodd statudol. Erfyniaf ar Lywodraeth Cynulliad Cymru i fod gystal â’i gair a defnyddio’r pwerau sydd ar gael iddi i gyflwyno mesurau tebyg yma. Gadewch inni ddangos ein bod o ddifrif ynglyn â’r hyn yr ydym yn ei ddweud.\\n'"
      ]
     },
     "execution_count": 44,
     "metadata": {},
     "output_type": "execute_result"
    }
   ],
   "source": [
    "speeches1.iloc[0,1]"
   ]
  },
  {
   "cell_type": "markdown",
   "metadata": {},
   "source": [
    "Okay, a few things here. Firstly, I need to remove the line end characters. Secondly, before I do that I can use it to split out the description at the top of the speech (assuming it's consistent, will look into that). Thirdly, this text includes the Welsh translation, didn't realise I was going to get that."
   ]
  },
  {
   "cell_type": "code",
   "execution_count": 45,
   "metadata": {},
   "outputs": [],
   "source": [
    "descriptions = pd.DataFrame()\n",
    "descriptions['description'] = speeches1.speech.map(lambda x: x.split('\\n')[1])"
   ]
  },
  {
   "cell_type": "code",
   "execution_count": 46,
   "metadata": {},
   "outputs": [],
   "source": [
    "descriptions['check'] = descriptions.description.map(lambda x: 1 if \"Below is the text\" in x else 0)"
   ]
  },
  {
   "cell_type": "code",
   "execution_count": 47,
   "metadata": {},
   "outputs": [
    {
     "data": {
      "text/html": [
       "<div>\n",
       "<style scoped>\n",
       "    .dataframe tbody tr th:only-of-type {\n",
       "        vertical-align: middle;\n",
       "    }\n",
       "\n",
       "    .dataframe tbody tr th {\n",
       "        vertical-align: top;\n",
       "    }\n",
       "\n",
       "    .dataframe thead th {\n",
       "        text-align: right;\n",
       "    }\n",
       "</style>\n",
       "<table border=\"1\" class=\"dataframe\">\n",
       "  <thead>\n",
       "    <tr style=\"text-align: right;\">\n",
       "      <th></th>\n",
       "      <th>title</th>\n",
       "      <th>speech</th>\n",
       "    </tr>\n",
       "  </thead>\n",
       "  <tbody>\n",
       "    <tr>\n",
       "      <th>7</th>\n",
       "      <td>Umunna, Chuka – 2016 Speech on Gangs and Serio...</td>\n",
       "      <td>\\nhttps://commons.wikimedia.org/w/index.php?cu...</td>\n",
       "    </tr>\n",
       "    <tr>\n",
       "      <th>8</th>\n",
       "      <td>Zahawi, Nadhim – 2018 Speech at National Learn...</td>\n",
       "      <td>\\n\\nBelow is the text of the speech made by Na...</td>\n",
       "    </tr>\n",
       "    <tr>\n",
       "      <th>9</th>\n",
       "      <td>Zahawi, Nadhim – 2018 Statement on Childcare</td>\n",
       "      <td>\\n\\nBelow is the text of the statement made by...</td>\n",
       "    </tr>\n",
       "    <tr>\n",
       "      <th>10</th>\n",
       "      <td>Zambellas, George – 2016 Speech on the Royal Navy</td>\n",
       "      <td>\\n\\nBelow is the text of the speech made by Si...</td>\n",
       "    </tr>\n",
       "    <tr>\n",
       "      <th>14</th>\n",
       "      <td>Yeo, Tim – 1983 Maiden Speech in the House of ...</td>\n",
       "      <td>\\n\\nBelow is the text of the maiden speech mad...</td>\n",
       "    </tr>\n",
       "    <tr>\n",
       "      <th>15</th>\n",
       "      <td>Yeo, Tim – 2000 Speech to Conservative Party C...</td>\n",
       "      <td>\\n\\nBelow is the text of the speech made by Ti...</td>\n",
       "    </tr>\n",
       "    <tr>\n",
       "      <th>16</th>\n",
       "      <td>Yeo, Tim – 2004 Speech on Patient Choice</td>\n",
       "      <td>\\n\\nBelow is the text of the speech by Tim Yeo...</td>\n",
       "    </tr>\n",
       "    <tr>\n",
       "      <th>22</th>\n",
       "      <td>Neave, Airey – 1953 Maiden Speech in the House...</td>\n",
       "      <td>\\n\\nBelow is the text of the maiden speech mad...</td>\n",
       "    </tr>\n",
       "    <tr>\n",
       "      <th>23</th>\n",
       "      <td>Neave, Airey – 1973 Speech on Science and Tech...</td>\n",
       "      <td>\\n\\nBelow is the text of the speech made by Ai...</td>\n",
       "    </tr>\n",
       "    <tr>\n",
       "      <th>24</th>\n",
       "      <td>Nesbitt, Mike – 2015 Speech in Fivemiletown</td>\n",
       "      <td>\\n\\nBelow is the text of the speech made by Mi...</td>\n",
       "    </tr>\n",
       "    <tr>\n",
       "      <th>26</th>\n",
       "      <td>Neville-Rolfe, Baroness – 2016 Speech on Black...</td>\n",
       "      <td>\\n\\nBelow is the text of the speech made by Ba...</td>\n",
       "    </tr>\n",
       "    <tr>\n",
       "      <th>27</th>\n",
       "      <td>Neville-Rolfe, Baroness – 2016 Speech on Intel...</td>\n",
       "      <td>\\n\\nBelow is the text of the speech made by Ba...</td>\n",
       "    </tr>\n",
       "    <tr>\n",
       "      <th>29</th>\n",
       "      <td>Newton, Sarah – 2017 Speech at Mental Health a...</td>\n",
       "      <td>\\n\\nBelow is the text of the speech made by Sa...</td>\n",
       "    </tr>\n",
       "    <tr>\n",
       "      <th>30</th>\n",
       "      <td>Newton, Sarah – 2018 Speech on the Employment ...</td>\n",
       "      <td>\\n\\nBelow is the text of the statement made by...</td>\n",
       "    </tr>\n",
       "    <tr>\n",
       "      <th>35</th>\n",
       "      <td>Eagle, Angela – 2016 Speech to London Stock Ex...</td>\n",
       "      <td>\\n\\nBelow is the text of the speech made by An...</td>\n",
       "    </tr>\n",
       "    <tr>\n",
       "      <th>36</th>\n",
       "      <td>Eagle, Angela – 2016 Speech on BHS</td>\n",
       "      <td>\\n\\nBelow is the text of the speech made by An...</td>\n",
       "    </tr>\n",
       "    <tr>\n",
       "      <th>37</th>\n",
       "      <td>Eagle, Maria – 1997 Maiden Speech in the House...</td>\n",
       "      <td>\\n\\nBelow is the text of the maiden speech mad...</td>\n",
       "    </tr>\n",
       "    <tr>\n",
       "      <th>38</th>\n",
       "      <td>Eagle, Maria – 2011 Speech to Labour Party Con...</td>\n",
       "      <td>\\n\\nBelow is the text of the speech made by Ma...</td>\n",
       "    </tr>\n",
       "    <tr>\n",
       "      <th>39</th>\n",
       "      <td>Eagle, Maria – 2012 Speech to Labour Party Con...</td>\n",
       "      <td>\\n\\nBelow is the text of the speech made by Ma...</td>\n",
       "    </tr>\n",
       "    <tr>\n",
       "      <th>40</th>\n",
       "      <td>Eagle, Maria – 2013 Speech to Labour Party Con...</td>\n",
       "      <td>\\n\\nBelow is the text of the speech made by Ma...</td>\n",
       "    </tr>\n",
       "    <tr>\n",
       "      <th>41</th>\n",
       "      <td>Eagle, Maria – 2016 Speech on the BBC</td>\n",
       "      <td>\\n\\nBelow is the text of the speech made by Ma...</td>\n",
       "    </tr>\n",
       "    <tr>\n",
       "      <th>42</th>\n",
       "      <td>Eden, Anthony – 1924 Maiden Speech in the Hous...</td>\n",
       "      <td>\\n\\nBelow is the text of the maiden speech in ...</td>\n",
       "    </tr>\n",
       "    <tr>\n",
       "      <th>43</th>\n",
       "      <td>Eden, Anthony – 1937 Statement on Foreign Affairs</td>\n",
       "      <td>\\n\\nBelow is the text of the speech made by An...</td>\n",
       "    </tr>\n",
       "    <tr>\n",
       "      <th>45</th>\n",
       "      <td>Eden, Anthony – 1955 Speech on Re-Election of ...</td>\n",
       "      <td>\\n\\nBelow is the text of the speech made by An...</td>\n",
       "    </tr>\n",
       "    <tr>\n",
       "      <th>46</th>\n",
       "      <td>Eden, Anthony – 1961 Maiden Speech in the Hous...</td>\n",
       "      <td>\\n\\nBelow is the text of the maiden speech mad...</td>\n",
       "    </tr>\n",
       "    <tr>\n",
       "      <th>48</th>\n",
       "      <td>Ellison, Jane – 2016 Speech on Infected Blood</td>\n",
       "      <td>\\n\\nBelow is the text of the speech made by Ja...</td>\n",
       "    </tr>\n",
       "    <tr>\n",
       "      <th>49</th>\n",
       "      <td>Ellwood, Tobias – 2016 Statement on Syria</td>\n",
       "      <td>\\n\\nBelow is the text of the statement made by...</td>\n",
       "    </tr>\n",
       "    <tr>\n",
       "      <th>50</th>\n",
       "      <td>Ellwood, Tobias – 2016 Statement on Aleppo</td>\n",
       "      <td>\\n\\nBelow is the text of the statement made by...</td>\n",
       "    </tr>\n",
       "    <tr>\n",
       "      <th>51</th>\n",
       "      <td>Ellwood, Tobias – 2017 Speech on Talent in the...</td>\n",
       "      <td>\\n\\nBelow is the text of the speech made by To...</td>\n",
       "    </tr>\n",
       "    <tr>\n",
       "      <th>52</th>\n",
       "      <td>Ellwood, Tobias – 2018 Statement on the Nation...</td>\n",
       "      <td>\\n\\nBelow is the text of the statement made by...</td>\n",
       "    </tr>\n",
       "    <tr>\n",
       "      <th>...</th>\n",
       "      <td>...</td>\n",
       "      <td>...</td>\n",
       "    </tr>\n",
       "    <tr>\n",
       "      <th>3030</th>\n",
       "      <td>Morgan, Nicky – 2016 Speech at Lord Glenamara ...</td>\n",
       "      <td>\\n\\nBelow is the text of the speech made by Ni...</td>\n",
       "    </tr>\n",
       "    <tr>\n",
       "      <th>3031</th>\n",
       "      <td>Morgan, Nicky – 2016 Speech on the Importance ...</td>\n",
       "      <td>\\n\\nBelow is the text of the speech made by Ni...</td>\n",
       "    </tr>\n",
       "    <tr>\n",
       "      <th>3032</th>\n",
       "      <td>Morgan, Nicky – 2016 Speech on the Gender Pay Gap</td>\n",
       "      <td>\\n\\nBelow is the text of the speech made by Ni...</td>\n",
       "    </tr>\n",
       "    <tr>\n",
       "      <th>3033</th>\n",
       "      <td>Morgan, Nicky – 2016 Speech on a World Class E...</td>\n",
       "      <td>\\n\\nBelow is the text of the speech made by Ni...</td>\n",
       "    </tr>\n",
       "    <tr>\n",
       "      <th>3034</th>\n",
       "      <td>Morgan, Nicky – 2016 Speech to the Association...</td>\n",
       "      <td>\\n\\nBelow is the text of the speech made by Ni...</td>\n",
       "    </tr>\n",
       "    <tr>\n",
       "      <th>3035</th>\n",
       "      <td>Morgan, Nicky – 2016 Speech at ASCL Conference</td>\n",
       "      <td>\\n\\nBelow is the text of the speech made by Ni...</td>\n",
       "    </tr>\n",
       "    <tr>\n",
       "      <th>3036</th>\n",
       "      <td>Morgan, Nicky – 2016 Speech on International W...</td>\n",
       "      <td>\\n\\nBelow is the text of the speech made by Ni...</td>\n",
       "    </tr>\n",
       "    <tr>\n",
       "      <th>3037</th>\n",
       "      <td>Morgan, Nicky – 2016 Speech on Educational Exc...</td>\n",
       "      <td>\\n\\nBelow is the text of the speech made by Ni...</td>\n",
       "    </tr>\n",
       "    <tr>\n",
       "      <th>3038</th>\n",
       "      <td>Morgan, Nicky – 2016 Speech to NASUWT Conference</td>\n",
       "      <td>\\n\\nBelow is the text of the speech made by Ni...</td>\n",
       "    </tr>\n",
       "    <tr>\n",
       "      <th>3039</th>\n",
       "      <td>Morgan, Nicky – 2016 Speech on the EU</td>\n",
       "      <td>\\n\\nBelow is the text of the speech made by Ni...</td>\n",
       "    </tr>\n",
       "    <tr>\n",
       "      <th>3040</th>\n",
       "      <td>Morgan, Nicky – 2016 Speech on Academies</td>\n",
       "      <td>\\n\\nBelow is the text of the speech made by Ni...</td>\n",
       "    </tr>\n",
       "    <tr>\n",
       "      <th>3041</th>\n",
       "      <td>Morgan, Nicky – 2016 Speech at Naz Legacy Foun...</td>\n",
       "      <td>\\n\\nBelow is the text of the speech made by Ni...</td>\n",
       "    </tr>\n",
       "    <tr>\n",
       "      <th>3042</th>\n",
       "      <td>Morgan, Nicky – 2016 Speech at NAHT Annual Con...</td>\n",
       "      <td>\\n\\nBelow is the text of the speech made by Ni...</td>\n",
       "    </tr>\n",
       "    <tr>\n",
       "      <th>3043</th>\n",
       "      <td>Morgan, Nicky – 2016 Speech in Leicester</td>\n",
       "      <td>\\n\\nBelow is the text of the speech made by Ni...</td>\n",
       "    </tr>\n",
       "    <tr>\n",
       "      <th>3044</th>\n",
       "      <td>Morgan, Nicky – 2016 Speech on Academies</td>\n",
       "      <td>\\n\\nBelow is the text of the speech made by Ni...</td>\n",
       "    </tr>\n",
       "    <tr>\n",
       "      <th>3045</th>\n",
       "      <td>Morgan, Nicky – 2016 Speech at the Careers and...</td>\n",
       "      <td>\\n\\nBelow is the text of the speech made by Ni...</td>\n",
       "    </tr>\n",
       "    <tr>\n",
       "      <th>3046</th>\n",
       "      <td>Morgan, Nicky – 2016 Speech to the Education B...</td>\n",
       "      <td>\\n\\nBelow is the text of the speech made by Ni...</td>\n",
       "    </tr>\n",
       "    <tr>\n",
       "      <th>3047</th>\n",
       "      <td>Morgan, Nicky – 2017 Speech on Budget</td>\n",
       "      <td>\\n\\nBelow is the text of the speech made by Ni...</td>\n",
       "    </tr>\n",
       "    <tr>\n",
       "      <th>3048</th>\n",
       "      <td>Morgan, Nicky – 2018 Speech on Customs and Bor...</td>\n",
       "      <td>\\n\\nBelow is the text of the speech made by Ni...</td>\n",
       "    </tr>\n",
       "    <tr>\n",
       "      <th>3063</th>\n",
       "      <td>Murphy, Jim – 2006 Speech on Homelessness</td>\n",
       "      <td>\\n\\nBelow is the text of the speech made by Ji...</td>\n",
       "    </tr>\n",
       "    <tr>\n",
       "      <th>3064</th>\n",
       "      <td>Murphy, Jim – 2006 Speech on Welfare Reform</td>\n",
       "      <td>\\n\\nBelow is the text of the speech made by Ji...</td>\n",
       "    </tr>\n",
       "    <tr>\n",
       "      <th>3065</th>\n",
       "      <td>Murphy, Jim – 2006 Speech on Child Poverty</td>\n",
       "      <td>\\n\\nBelow is the text of the speech made by Ji...</td>\n",
       "    </tr>\n",
       "    <tr>\n",
       "      <th>3066</th>\n",
       "      <td>Murphy, Jim – 2007 Speech on Welfare Reform</td>\n",
       "      <td>\\n\\nBelow is the text of the speech made by Ji...</td>\n",
       "    </tr>\n",
       "    <tr>\n",
       "      <th>3067</th>\n",
       "      <td>Murphy, Jim – 2007 Speech to the Work Foundation</td>\n",
       "      <td>\\n\\nBelow is the text of the speech made by Ji...</td>\n",
       "    </tr>\n",
       "    <tr>\n",
       "      <th>3068</th>\n",
       "      <td>Murphy, Jim – 2009 Speech to Labour Party Conf...</td>\n",
       "      <td>\\n\\nBelow is the text of the speech made by Ji...</td>\n",
       "    </tr>\n",
       "    <tr>\n",
       "      <th>3069</th>\n",
       "      <td>Murphy, Jim – 2010 Speech to Labour Party Conf...</td>\n",
       "      <td>\\n\\nBelow is the text of the speech made by Ji...</td>\n",
       "    </tr>\n",
       "    <tr>\n",
       "      <th>3070</th>\n",
       "      <td>Murphy, Jim – 2011 Speech to Labour Party Conf...</td>\n",
       "      <td>\\n\\nBelow is the text of the speech made by Ji...</td>\n",
       "    </tr>\n",
       "    <tr>\n",
       "      <th>3071</th>\n",
       "      <td>Murphy, Jim – 2012 Speech to Reform Conference</td>\n",
       "      <td>\\n\\nBelow is the text of the speech made by Ji...</td>\n",
       "    </tr>\n",
       "    <tr>\n",
       "      <th>3072</th>\n",
       "      <td>Murphy, Jim – 2012 Speech to Labour Party Conf...</td>\n",
       "      <td>\\n\\nBelow is the text of the speech made by Ji...</td>\n",
       "    </tr>\n",
       "    <tr>\n",
       "      <th>3073</th>\n",
       "      <td>Murphy, Paul – 2003 Speech to Labour Party Con...</td>\n",
       "      <td>\\n\\nBelow is the text of the speech made by th...</td>\n",
       "    </tr>\n",
       "  </tbody>\n",
       "</table>\n",
       "<p>2453 rows × 2 columns</p>\n",
       "</div>"
      ],
      "text/plain": [
       "                                                  title  \\\n",
       "7     Umunna, Chuka – 2016 Speech on Gangs and Serio...   \n",
       "8     Zahawi, Nadhim – 2018 Speech at National Learn...   \n",
       "9          Zahawi, Nadhim – 2018 Statement on Childcare   \n",
       "10    Zambellas, George – 2016 Speech on the Royal Navy   \n",
       "14    Yeo, Tim – 1983 Maiden Speech in the House of ...   \n",
       "15    Yeo, Tim – 2000 Speech to Conservative Party C...   \n",
       "16             Yeo, Tim – 2004 Speech on Patient Choice   \n",
       "22    Neave, Airey – 1953 Maiden Speech in the House...   \n",
       "23    Neave, Airey – 1973 Speech on Science and Tech...   \n",
       "24          Nesbitt, Mike – 2015 Speech in Fivemiletown   \n",
       "26    Neville-Rolfe, Baroness – 2016 Speech on Black...   \n",
       "27    Neville-Rolfe, Baroness – 2016 Speech on Intel...   \n",
       "29    Newton, Sarah – 2017 Speech at Mental Health a...   \n",
       "30    Newton, Sarah – 2018 Speech on the Employment ...   \n",
       "35    Eagle, Angela – 2016 Speech to London Stock Ex...   \n",
       "36                   Eagle, Angela – 2016 Speech on BHS   \n",
       "37    Eagle, Maria – 1997 Maiden Speech in the House...   \n",
       "38    Eagle, Maria – 2011 Speech to Labour Party Con...   \n",
       "39    Eagle, Maria – 2012 Speech to Labour Party Con...   \n",
       "40    Eagle, Maria – 2013 Speech to Labour Party Con...   \n",
       "41                Eagle, Maria – 2016 Speech on the BBC   \n",
       "42    Eden, Anthony – 1924 Maiden Speech in the Hous...   \n",
       "43    Eden, Anthony – 1937 Statement on Foreign Affairs   \n",
       "45    Eden, Anthony – 1955 Speech on Re-Election of ...   \n",
       "46    Eden, Anthony – 1961 Maiden Speech in the Hous...   \n",
       "48        Ellison, Jane – 2016 Speech on Infected Blood   \n",
       "49            Ellwood, Tobias – 2016 Statement on Syria   \n",
       "50           Ellwood, Tobias – 2016 Statement on Aleppo   \n",
       "51    Ellwood, Tobias – 2017 Speech on Talent in the...   \n",
       "52    Ellwood, Tobias – 2018 Statement on the Nation...   \n",
       "...                                                 ...   \n",
       "3030  Morgan, Nicky – 2016 Speech at Lord Glenamara ...   \n",
       "3031  Morgan, Nicky – 2016 Speech on the Importance ...   \n",
       "3032  Morgan, Nicky – 2016 Speech on the Gender Pay Gap   \n",
       "3033  Morgan, Nicky – 2016 Speech on a World Class E...   \n",
       "3034  Morgan, Nicky – 2016 Speech to the Association...   \n",
       "3035     Morgan, Nicky – 2016 Speech at ASCL Conference   \n",
       "3036  Morgan, Nicky – 2016 Speech on International W...   \n",
       "3037  Morgan, Nicky – 2016 Speech on Educational Exc...   \n",
       "3038   Morgan, Nicky – 2016 Speech to NASUWT Conference   \n",
       "3039              Morgan, Nicky – 2016 Speech on the EU   \n",
       "3040           Morgan, Nicky – 2016 Speech on Academies   \n",
       "3041  Morgan, Nicky – 2016 Speech at Naz Legacy Foun...   \n",
       "3042  Morgan, Nicky – 2016 Speech at NAHT Annual Con...   \n",
       "3043           Morgan, Nicky – 2016 Speech in Leicester   \n",
       "3044           Morgan, Nicky – 2016 Speech on Academies   \n",
       "3045  Morgan, Nicky – 2016 Speech at the Careers and...   \n",
       "3046  Morgan, Nicky – 2016 Speech to the Education B...   \n",
       "3047              Morgan, Nicky – 2017 Speech on Budget   \n",
       "3048  Morgan, Nicky – 2018 Speech on Customs and Bor...   \n",
       "3063          Murphy, Jim – 2006 Speech on Homelessness   \n",
       "3064        Murphy, Jim – 2006 Speech on Welfare Reform   \n",
       "3065         Murphy, Jim – 2006 Speech on Child Poverty   \n",
       "3066        Murphy, Jim – 2007 Speech on Welfare Reform   \n",
       "3067   Murphy, Jim – 2007 Speech to the Work Foundation   \n",
       "3068  Murphy, Jim – 2009 Speech to Labour Party Conf...   \n",
       "3069  Murphy, Jim – 2010 Speech to Labour Party Conf...   \n",
       "3070  Murphy, Jim – 2011 Speech to Labour Party Conf...   \n",
       "3071     Murphy, Jim – 2012 Speech to Reform Conference   \n",
       "3072  Murphy, Jim – 2012 Speech to Labour Party Conf...   \n",
       "3073  Murphy, Paul – 2003 Speech to Labour Party Con...   \n",
       "\n",
       "                                                 speech  \n",
       "7     \\nhttps://commons.wikimedia.org/w/index.php?cu...  \n",
       "8     \\n\\nBelow is the text of the speech made by Na...  \n",
       "9     \\n\\nBelow is the text of the statement made by...  \n",
       "10    \\n\\nBelow is the text of the speech made by Si...  \n",
       "14    \\n\\nBelow is the text of the maiden speech mad...  \n",
       "15    \\n\\nBelow is the text of the speech made by Ti...  \n",
       "16    \\n\\nBelow is the text of the speech by Tim Yeo...  \n",
       "22    \\n\\nBelow is the text of the maiden speech mad...  \n",
       "23    \\n\\nBelow is the text of the speech made by Ai...  \n",
       "24    \\n\\nBelow is the text of the speech made by Mi...  \n",
       "26    \\n\\nBelow is the text of the speech made by Ba...  \n",
       "27    \\n\\nBelow is the text of the speech made by Ba...  \n",
       "29    \\n\\nBelow is the text of the speech made by Sa...  \n",
       "30    \\n\\nBelow is the text of the statement made by...  \n",
       "35    \\n\\nBelow is the text of the speech made by An...  \n",
       "36    \\n\\nBelow is the text of the speech made by An...  \n",
       "37    \\n\\nBelow is the text of the maiden speech mad...  \n",
       "38    \\n\\nBelow is the text of the speech made by Ma...  \n",
       "39    \\n\\nBelow is the text of the speech made by Ma...  \n",
       "40    \\n\\nBelow is the text of the speech made by Ma...  \n",
       "41    \\n\\nBelow is the text of the speech made by Ma...  \n",
       "42    \\n\\nBelow is the text of the maiden speech in ...  \n",
       "43    \\n\\nBelow is the text of the speech made by An...  \n",
       "45    \\n\\nBelow is the text of the speech made by An...  \n",
       "46    \\n\\nBelow is the text of the maiden speech mad...  \n",
       "48    \\n\\nBelow is the text of the speech made by Ja...  \n",
       "49    \\n\\nBelow is the text of the statement made by...  \n",
       "50    \\n\\nBelow is the text of the statement made by...  \n",
       "51    \\n\\nBelow is the text of the speech made by To...  \n",
       "52    \\n\\nBelow is the text of the statement made by...  \n",
       "...                                                 ...  \n",
       "3030  \\n\\nBelow is the text of the speech made by Ni...  \n",
       "3031  \\n\\nBelow is the text of the speech made by Ni...  \n",
       "3032  \\n\\nBelow is the text of the speech made by Ni...  \n",
       "3033  \\n\\nBelow is the text of the speech made by Ni...  \n",
       "3034  \\n\\nBelow is the text of the speech made by Ni...  \n",
       "3035  \\n\\nBelow is the text of the speech made by Ni...  \n",
       "3036  \\n\\nBelow is the text of the speech made by Ni...  \n",
       "3037  \\n\\nBelow is the text of the speech made by Ni...  \n",
       "3038  \\n\\nBelow is the text of the speech made by Ni...  \n",
       "3039  \\n\\nBelow is the text of the speech made by Ni...  \n",
       "3040  \\n\\nBelow is the text of the speech made by Ni...  \n",
       "3041  \\n\\nBelow is the text of the speech made by Ni...  \n",
       "3042  \\n\\nBelow is the text of the speech made by Ni...  \n",
       "3043  \\n\\nBelow is the text of the speech made by Ni...  \n",
       "3044  \\n\\nBelow is the text of the speech made by Ni...  \n",
       "3045  \\n\\nBelow is the text of the speech made by Ni...  \n",
       "3046  \\n\\nBelow is the text of the speech made by Ni...  \n",
       "3047  \\n\\nBelow is the text of the speech made by Ni...  \n",
       "3048  \\n\\nBelow is the text of the speech made by Ni...  \n",
       "3063  \\n\\nBelow is the text of the speech made by Ji...  \n",
       "3064  \\n\\nBelow is the text of the speech made by Ji...  \n",
       "3065  \\n\\nBelow is the text of the speech made by Ji...  \n",
       "3066  \\n\\nBelow is the text of the speech made by Ji...  \n",
       "3067  \\n\\nBelow is the text of the speech made by Ji...  \n",
       "3068  \\n\\nBelow is the text of the speech made by Ji...  \n",
       "3069  \\n\\nBelow is the text of the speech made by Ji...  \n",
       "3070  \\n\\nBelow is the text of the speech made by Ji...  \n",
       "3071  \\n\\nBelow is the text of the speech made by Ji...  \n",
       "3072  \\n\\nBelow is the text of the speech made by Ji...  \n",
       "3073  \\n\\nBelow is the text of the speech made by th...  \n",
       "\n",
       "[2453 rows x 2 columns]"
      ]
     },
     "execution_count": 47,
     "metadata": {},
     "output_type": "execute_result"
    }
   ],
   "source": [
    "speeches1[descriptions.check==0]"
   ]
  },
  {
   "cell_type": "markdown",
   "metadata": {},
   "source": [
    "Turns out a lot of the descriptions have two line breaks before them, not one. Will update the map."
   ]
  },
  {
   "cell_type": "code",
   "execution_count": 48,
   "metadata": {},
   "outputs": [],
   "source": [
    "descriptions2 = pd.DataFrame()\n",
    "descriptions2['description'] = speeches1.speech.map(lambda x: x.split('\\n')[1] if x.split('\\n')[1] else x.split('\\n')[2])\n",
    "descriptions2['check'] = descriptions2.description.map(lambda x: 1 if \"Below is the text\" in x else 0)"
   ]
  },
  {
   "cell_type": "code",
   "execution_count": 49,
   "metadata": {},
   "outputs": [
    {
     "data": {
      "text/html": [
       "<div>\n",
       "<style scoped>\n",
       "    .dataframe tbody tr th:only-of-type {\n",
       "        vertical-align: middle;\n",
       "    }\n",
       "\n",
       "    .dataframe tbody tr th {\n",
       "        vertical-align: top;\n",
       "    }\n",
       "\n",
       "    .dataframe thead th {\n",
       "        text-align: right;\n",
       "    }\n",
       "</style>\n",
       "<table border=\"1\" class=\"dataframe\">\n",
       "  <thead>\n",
       "    <tr style=\"text-align: right;\">\n",
       "      <th></th>\n",
       "      <th>title</th>\n",
       "      <th>speech</th>\n",
       "    </tr>\n",
       "  </thead>\n",
       "  <tbody>\n",
       "    <tr>\n",
       "      <th>7</th>\n",
       "      <td>Umunna, Chuka – 2016 Speech on Gangs and Serio...</td>\n",
       "      <td>\\nhttps://commons.wikimedia.org/w/index.php?cu...</td>\n",
       "    </tr>\n",
       "    <tr>\n",
       "      <th>59</th>\n",
       "      <td>Vaizey, Ed – 2013 Speech to the Oxford Media C...</td>\n",
       "      <td>\\n\\nThe below speech was made by Ed Vaizey on ...</td>\n",
       "    </tr>\n",
       "    <tr>\n",
       "      <th>60</th>\n",
       "      <td>Vaizey, Ed – 2013 Speech to Cable Congress</td>\n",
       "      <td>\\n\\nThe below speech was made by the Parliamen...</td>\n",
       "    </tr>\n",
       "    <tr>\n",
       "      <th>70</th>\n",
       "      <td>Villiers, Theresa – 2010 Speech on the Railways</td>\n",
       "      <td>\\nTheresa Villiers\\nBelow is the text of the s...</td>\n",
       "    </tr>\n",
       "    <tr>\n",
       "      <th>71</th>\n",
       "      <td>Villiers, Theresa – 2011 Speech to Westminster...</td>\n",
       "      <td>\\nTheresa Villiers\\nBelow is the text of the s...</td>\n",
       "    </tr>\n",
       "    <tr>\n",
       "      <th>72</th>\n",
       "      <td>Villiers, Theresa – 2013 Speech to Alliance Pa...</td>\n",
       "      <td>\\nTheresa Villiers\\nBelow is the text of the s...</td>\n",
       "    </tr>\n",
       "    <tr>\n",
       "      <th>73</th>\n",
       "      <td>Villiers, Theresa – 2013 Speech to the British...</td>\n",
       "      <td>\\nTheresa Villiers\\nBelow is the text of the s...</td>\n",
       "    </tr>\n",
       "    <tr>\n",
       "      <th>74</th>\n",
       "      <td>Villiers, Theresa – 2013 Speech to the Spirit ...</td>\n",
       "      <td>\\nTheresa Villiers\\nBelow is the text of the s...</td>\n",
       "    </tr>\n",
       "    <tr>\n",
       "      <th>75</th>\n",
       "      <td>Villiers, Theresa – 2013 Speech on Investing i...</td>\n",
       "      <td>\\nTheresa Villiers\\nBelow is the text of the s...</td>\n",
       "    </tr>\n",
       "    <tr>\n",
       "      <th>76</th>\n",
       "      <td>Villiers, Theresa – 2013 Speech on Keeping Nor...</td>\n",
       "      <td>\\nTheresa Villiers\\nBelow is the text of the s...</td>\n",
       "    </tr>\n",
       "    <tr>\n",
       "      <th>77</th>\n",
       "      <td>Villiers, Theresa – 2013 Speech on 75th Annive...</td>\n",
       "      <td>\\nTheresa Villiers\\nBelow is the text of the s...</td>\n",
       "    </tr>\n",
       "    <tr>\n",
       "      <th>78</th>\n",
       "      <td>Villiers, Theresa – 2013 Speech on Peace and P...</td>\n",
       "      <td>\\nTheresa Villiers\\nBelow is the text of the s...</td>\n",
       "    </tr>\n",
       "    <tr>\n",
       "      <th>79</th>\n",
       "      <td>Villiers, Theresa – 2013 Speech to the QUB’s L...</td>\n",
       "      <td>\\nTheresa Villiers\\nBelow is the text of the s...</td>\n",
       "    </tr>\n",
       "    <tr>\n",
       "      <th>80</th>\n",
       "      <td>Villiers, Theresa – 2014 Speech at British-Iri...</td>\n",
       "      <td>\\nTheresa Villiers\\nBelow is the text of the s...</td>\n",
       "    </tr>\n",
       "    <tr>\n",
       "      <th>81</th>\n",
       "      <td>Villiers, Theresa – 2014 Speech on Moving Poli...</td>\n",
       "      <td>\\nTheresa Villiers\\nBelow is the text of the s...</td>\n",
       "    </tr>\n",
       "    <tr>\n",
       "      <th>83</th>\n",
       "      <td>Villiers, Theresa – 2014 Speech to Police Fede...</td>\n",
       "      <td>\\nTheresa Villiers\\nBelow is the text of the s...</td>\n",
       "    </tr>\n",
       "    <tr>\n",
       "      <th>84</th>\n",
       "      <td>Villiers, Theresa – 2015 Speech to Conservativ...</td>\n",
       "      <td>\\nTheresa Villiers\\nBelow is the text of the s...</td>\n",
       "    </tr>\n",
       "    <tr>\n",
       "      <th>85</th>\n",
       "      <td>Villiers, Theresa – 2015 Speech to British-Iri...</td>\n",
       "      <td>\\nTheresa Villiers\\nBelow is the text of the s...</td>\n",
       "    </tr>\n",
       "    <tr>\n",
       "      <th>147</th>\n",
       "      <td>Redwood, John – 2007 Bruges Group Speech</td>\n",
       "      <td>\\nThe below speech was made by John Redwood at...</td>\n",
       "    </tr>\n",
       "    <tr>\n",
       "      <th>155</th>\n",
       "      <td>Reid, John – 2003 Speech to NHS Chief Executiv...</td>\n",
       "      <td>\\nBelow is the speech made by the then Secreta...</td>\n",
       "    </tr>\n",
       "    <tr>\n",
       "      <th>217</th>\n",
       "      <td>Queen Elizabeth II – 1977 Silver Jubilee Speec...</td>\n",
       "      <td>\\n\\nMy Lords and Members of the House of Commo...</td>\n",
       "    </tr>\n",
       "    <tr>\n",
       "      <th>232</th>\n",
       "      <td>Queen Elizabeth II – 2007 Christmas Broadcast</td>\n",
       "      <td>\\nOne of the features of growing old is a heig...</td>\n",
       "    </tr>\n",
       "    <tr>\n",
       "      <th>260</th>\n",
       "      <td>Thatcher, Margaret – 1984 Speech to Conservati...</td>\n",
       "      <td>\\n\\nThis speech was given by the Conservative ...</td>\n",
       "    </tr>\n",
       "    <tr>\n",
       "      <th>277</th>\n",
       "      <td>Timpson, Edward – 2013 Speech at Sexual Exploi...</td>\n",
       "      <td>\\nEd Timpson\\nBelow is the text of the speech ...</td>\n",
       "    </tr>\n",
       "    <tr>\n",
       "      <th>279</th>\n",
       "      <td>Timpson, Edward – 2014 Speech on Young People ...</td>\n",
       "      <td>\\nEd Timpson\\nBelow is the text of the speech ...</td>\n",
       "    </tr>\n",
       "    <tr>\n",
       "      <th>282</th>\n",
       "      <td>Timpson, Edward – 2014 Speech at Council for D...</td>\n",
       "      <td>\\nEd Timpson\\nBelow is the text of the speech ...</td>\n",
       "    </tr>\n",
       "    <tr>\n",
       "      <th>287</th>\n",
       "      <td>Trimble, David – 1990 Maiden Speech in the Hou...</td>\n",
       "      <td>\\nBy https://www.flickr.com/photos/altogetherf...</td>\n",
       "    </tr>\n",
       "    <tr>\n",
       "      <th>288</th>\n",
       "      <td>Truss, Elizabeth – 2013 Speech on Childcare</td>\n",
       "      <td>\\nLiz Truss\\nBelow is the text of a speech mad...</td>\n",
       "    </tr>\n",
       "    <tr>\n",
       "      <th>289</th>\n",
       "      <td>Truss, Elizabeth – 2013 Speech on School Reform</td>\n",
       "      <td>\\nLiz Truss\\nBelow is the text of the speech m...</td>\n",
       "    </tr>\n",
       "    <tr>\n",
       "      <th>290</th>\n",
       "      <td>Truss, Elizabeth – 2013 Speech at the Institut...</td>\n",
       "      <td>\\nLiz Truss\\nBelow is the text of the speech m...</td>\n",
       "    </tr>\n",
       "    <tr>\n",
       "      <th>...</th>\n",
       "      <td>...</td>\n",
       "      <td>...</td>\n",
       "    </tr>\n",
       "    <tr>\n",
       "      <th>2666</th>\n",
       "      <td>Maude, Francis – 2014 Speech at Cyber Security...</td>\n",
       "      <td>\\nFrancis Maude\\nBelow is the text of the spee...</td>\n",
       "    </tr>\n",
       "    <tr>\n",
       "      <th>2667</th>\n",
       "      <td>Maude, Francis – 2014 Speech at Oakeshott Memo...</td>\n",
       "      <td>\\nFrancis Maude\\nBelow is the text of the spee...</td>\n",
       "    </tr>\n",
       "    <tr>\n",
       "      <th>2668</th>\n",
       "      <td>Maude, Francis – 2014 Speech in France</td>\n",
       "      <td>\\nFrancis Maude\\nBelow is the text of the spee...</td>\n",
       "    </tr>\n",
       "    <tr>\n",
       "      <th>2669</th>\n",
       "      <td>Maude, Francis – 2015 Speech on the UK Social ...</td>\n",
       "      <td>\\nFrancis Maude\\nBelow is the text of the spee...</td>\n",
       "    </tr>\n",
       "    <tr>\n",
       "      <th>2678</th>\n",
       "      <td>May, Theresa – 2008 Speech to Conservative Par...</td>\n",
       "      <td>\\n\\nThank you Michael for that kind introducti...</td>\n",
       "    </tr>\n",
       "    <tr>\n",
       "      <th>2727</th>\n",
       "      <td>May, Theresa – 2017 Speech on Exiting the Euro...</td>\n",
       "      <td>\\nrnjmcc5y6s\\n</td>\n",
       "    </tr>\n",
       "    <tr>\n",
       "      <th>2784</th>\n",
       "      <td>May, Theresa – 2018 Chinese New Year Speech</td>\n",
       "      <td>\\n\\nBelow is the speech made by Theresa May, t...</td>\n",
       "    </tr>\n",
       "    <tr>\n",
       "      <th>2789</th>\n",
       "      <td>May, Theresa – 2018 Statement on Salisbury Attack</td>\n",
       "      <td>\\n\\nBelow is the statement made by Theresa May...</td>\n",
       "    </tr>\n",
       "    <tr>\n",
       "      <th>2793</th>\n",
       "      <td>May, Theresa – 2018 Passover Message</td>\n",
       "      <td>\\n\\nBelow is the Passover message issued by Th...</td>\n",
       "    </tr>\n",
       "    <tr>\n",
       "      <th>2823</th>\n",
       "      <td>May, Theresa – 2018 Speech on Brexit</td>\n",
       "      <td>\\n\\nMr Speaker, before I turn to the European ...</td>\n",
       "    </tr>\n",
       "    <tr>\n",
       "      <th>2837</th>\n",
       "      <td>McDonnell, John – 2015 Speech at Imperial College</td>\n",
       "      <td>\\nJohn McDonnell\\nBelow is the text of the spe...</td>\n",
       "    </tr>\n",
       "    <tr>\n",
       "      <th>2838</th>\n",
       "      <td>McDonnell, John – 2015 Speech to London Chambe...</td>\n",
       "      <td>\\nJohn McDonnell\\nBelow is the text of the spe...</td>\n",
       "    </tr>\n",
       "    <tr>\n",
       "      <th>2839</th>\n",
       "      <td>McDonnell, John – 2015 Speech to Labour Party ...</td>\n",
       "      <td>\\nJohn McDonnell\\nBelow is the text of the spe...</td>\n",
       "    </tr>\n",
       "    <tr>\n",
       "      <th>2851</th>\n",
       "      <td>McLoughlin, Patrick – 2013 Speech on Rail Priv...</td>\n",
       "      <td>\\nPatrick McLoughlin\\nBelow is the text of the...</td>\n",
       "    </tr>\n",
       "    <tr>\n",
       "      <th>2852</th>\n",
       "      <td>McLoughlin, Patrick – 2013 Speech on Local Ent...</td>\n",
       "      <td>\\nPatrick McLoughlin\\nBelow is the text of the...</td>\n",
       "    </tr>\n",
       "    <tr>\n",
       "      <th>2853</th>\n",
       "      <td>McLoughlin, Patrick – 2014 Speech on HS2</td>\n",
       "      <td>\\nPatrick McLoughlin\\nBelow is the text of the...</td>\n",
       "    </tr>\n",
       "    <tr>\n",
       "      <th>2854</th>\n",
       "      <td>McLoughlin, Patrick – 2014 Speech on Rail Inve...</td>\n",
       "      <td>\\nPatrick McLoughlin\\nBelow is the text of the...</td>\n",
       "    </tr>\n",
       "    <tr>\n",
       "      <th>2855</th>\n",
       "      <td>McLoughlin, Patrick – 2014 Speech on Rail Indu...</td>\n",
       "      <td>\\nPatrick McLoughlin\\nBelow is the text of the...</td>\n",
       "    </tr>\n",
       "    <tr>\n",
       "      <th>2856</th>\n",
       "      <td>McLoughlin, Patrick – 2014 Speech on HS2</td>\n",
       "      <td>\\nPatrick McLoughlin\\nBelow is the text of the...</td>\n",
       "    </tr>\n",
       "    <tr>\n",
       "      <th>2857</th>\n",
       "      <td>McLoughlin, Patrick – 2015 Speech on Shipping</td>\n",
       "      <td>\\nPatrick McLoughlin\\nBelow is the text of the...</td>\n",
       "    </tr>\n",
       "    <tr>\n",
       "      <th>2858</th>\n",
       "      <td>McLoughlin, Patrick – 2015 Speech on the Midlands</td>\n",
       "      <td>\\nPatrick McLoughlin\\nBelow is the text of the...</td>\n",
       "    </tr>\n",
       "    <tr>\n",
       "      <th>2865</th>\n",
       "      <td>McLoughlin, Patrick – 2016 Speech on Aviation ...</td>\n",
       "      <td>\\nPatrick McLoughlin\\nBelow is the text of the...</td>\n",
       "    </tr>\n",
       "    <tr>\n",
       "      <th>2866</th>\n",
       "      <td>McLoughlin, Patrick – 2016 Speech on the Rail ...</td>\n",
       "      <td>\\nPatrick McLoughlin\\nBelow is the text of the...</td>\n",
       "    </tr>\n",
       "    <tr>\n",
       "      <th>2867</th>\n",
       "      <td>McLoughlin, Patrick – 2016 Speech to Rail Deli...</td>\n",
       "      <td>\\nPatrick McLoughlin\\nBelow is the text of the...</td>\n",
       "    </tr>\n",
       "    <tr>\n",
       "      <th>2871</th>\n",
       "      <td>McLoughlin, Patrick – 2016 Statement on Transp...</td>\n",
       "      <td>\\nPatrick McLoughlin\\nBelow is the text of the...</td>\n",
       "    </tr>\n",
       "    <tr>\n",
       "      <th>2872</th>\n",
       "      <td>McLoughlin, Patrick – 2016 Speech on Infra-Str...</td>\n",
       "      <td>\\nPatrick McLoughlin\\nBelow is the text of the...</td>\n",
       "    </tr>\n",
       "    <tr>\n",
       "      <th>2877</th>\n",
       "      <td>McVey, Esther – 2013 Speech on Measuring Child...</td>\n",
       "      <td>\\nThe below speech was made by the Minister fo...</td>\n",
       "    </tr>\n",
       "    <tr>\n",
       "      <th>2953</th>\n",
       "      <td>Miliband, Ed – 2012 Speech on Living Wage</td>\n",
       "      <td>\\n\\nThe below speech was made by the Leader of...</td>\n",
       "    </tr>\n",
       "    <tr>\n",
       "      <th>2963</th>\n",
       "      <td>Miliband, Ed – 2012 Speech to the CBI Annual C...</td>\n",
       "      <td>\\n\\nBelow is the speech made by the Leader of ...</td>\n",
       "    </tr>\n",
       "    <tr>\n",
       "      <th>2983</th>\n",
       "      <td>Miller, Maria – 2013 Speech to the Advertising...</td>\n",
       "      <td>\\n\\nThe below speech was made by the Culture S...</td>\n",
       "    </tr>\n",
       "  </tbody>\n",
       "</table>\n",
       "<p>270 rows × 2 columns</p>\n",
       "</div>"
      ],
      "text/plain": [
       "                                                  title  \\\n",
       "7     Umunna, Chuka – 2016 Speech on Gangs and Serio...   \n",
       "59    Vaizey, Ed – 2013 Speech to the Oxford Media C...   \n",
       "60           Vaizey, Ed – 2013 Speech to Cable Congress   \n",
       "70      Villiers, Theresa – 2010 Speech on the Railways   \n",
       "71    Villiers, Theresa – 2011 Speech to Westminster...   \n",
       "72    Villiers, Theresa – 2013 Speech to Alliance Pa...   \n",
       "73    Villiers, Theresa – 2013 Speech to the British...   \n",
       "74    Villiers, Theresa – 2013 Speech to the Spirit ...   \n",
       "75    Villiers, Theresa – 2013 Speech on Investing i...   \n",
       "76    Villiers, Theresa – 2013 Speech on Keeping Nor...   \n",
       "77    Villiers, Theresa – 2013 Speech on 75th Annive...   \n",
       "78    Villiers, Theresa – 2013 Speech on Peace and P...   \n",
       "79    Villiers, Theresa – 2013 Speech to the QUB’s L...   \n",
       "80    Villiers, Theresa – 2014 Speech at British-Iri...   \n",
       "81    Villiers, Theresa – 2014 Speech on Moving Poli...   \n",
       "83    Villiers, Theresa – 2014 Speech to Police Fede...   \n",
       "84    Villiers, Theresa – 2015 Speech to Conservativ...   \n",
       "85    Villiers, Theresa – 2015 Speech to British-Iri...   \n",
       "147            Redwood, John – 2007 Bruges Group Speech   \n",
       "155   Reid, John – 2003 Speech to NHS Chief Executiv...   \n",
       "217   Queen Elizabeth II – 1977 Silver Jubilee Speec...   \n",
       "232       Queen Elizabeth II – 2007 Christmas Broadcast   \n",
       "260   Thatcher, Margaret – 1984 Speech to Conservati...   \n",
       "277   Timpson, Edward – 2013 Speech at Sexual Exploi...   \n",
       "279   Timpson, Edward – 2014 Speech on Young People ...   \n",
       "282   Timpson, Edward – 2014 Speech at Council for D...   \n",
       "287   Trimble, David – 1990 Maiden Speech in the Hou...   \n",
       "288         Truss, Elizabeth – 2013 Speech on Childcare   \n",
       "289     Truss, Elizabeth – 2013 Speech on School Reform   \n",
       "290   Truss, Elizabeth – 2013 Speech at the Institut...   \n",
       "...                                                 ...   \n",
       "2666  Maude, Francis – 2014 Speech at Cyber Security...   \n",
       "2667  Maude, Francis – 2014 Speech at Oakeshott Memo...   \n",
       "2668             Maude, Francis – 2014 Speech in France   \n",
       "2669  Maude, Francis – 2015 Speech on the UK Social ...   \n",
       "2678  May, Theresa – 2008 Speech to Conservative Par...   \n",
       "2727  May, Theresa – 2017 Speech on Exiting the Euro...   \n",
       "2784        May, Theresa – 2018 Chinese New Year Speech   \n",
       "2789  May, Theresa – 2018 Statement on Salisbury Attack   \n",
       "2793               May, Theresa – 2018 Passover Message   \n",
       "2823               May, Theresa – 2018 Speech on Brexit   \n",
       "2837  McDonnell, John – 2015 Speech at Imperial College   \n",
       "2838  McDonnell, John – 2015 Speech to London Chambe...   \n",
       "2839  McDonnell, John – 2015 Speech to Labour Party ...   \n",
       "2851  McLoughlin, Patrick – 2013 Speech on Rail Priv...   \n",
       "2852  McLoughlin, Patrick – 2013 Speech on Local Ent...   \n",
       "2853           McLoughlin, Patrick – 2014 Speech on HS2   \n",
       "2854  McLoughlin, Patrick – 2014 Speech on Rail Inve...   \n",
       "2855  McLoughlin, Patrick – 2014 Speech on Rail Indu...   \n",
       "2856           McLoughlin, Patrick – 2014 Speech on HS2   \n",
       "2857      McLoughlin, Patrick – 2015 Speech on Shipping   \n",
       "2858  McLoughlin, Patrick – 2015 Speech on the Midlands   \n",
       "2865  McLoughlin, Patrick – 2016 Speech on Aviation ...   \n",
       "2866  McLoughlin, Patrick – 2016 Speech on the Rail ...   \n",
       "2867  McLoughlin, Patrick – 2016 Speech to Rail Deli...   \n",
       "2871  McLoughlin, Patrick – 2016 Statement on Transp...   \n",
       "2872  McLoughlin, Patrick – 2016 Speech on Infra-Str...   \n",
       "2877  McVey, Esther – 2013 Speech on Measuring Child...   \n",
       "2953          Miliband, Ed – 2012 Speech on Living Wage   \n",
       "2963  Miliband, Ed – 2012 Speech to the CBI Annual C...   \n",
       "2983  Miller, Maria – 2013 Speech to the Advertising...   \n",
       "\n",
       "                                                 speech  \n",
       "7     \\nhttps://commons.wikimedia.org/w/index.php?cu...  \n",
       "59    \\n\\nThe below speech was made by Ed Vaizey on ...  \n",
       "60    \\n\\nThe below speech was made by the Parliamen...  \n",
       "70    \\nTheresa Villiers\\nBelow is the text of the s...  \n",
       "71    \\nTheresa Villiers\\nBelow is the text of the s...  \n",
       "72    \\nTheresa Villiers\\nBelow is the text of the s...  \n",
       "73    \\nTheresa Villiers\\nBelow is the text of the s...  \n",
       "74    \\nTheresa Villiers\\nBelow is the text of the s...  \n",
       "75    \\nTheresa Villiers\\nBelow is the text of the s...  \n",
       "76    \\nTheresa Villiers\\nBelow is the text of the s...  \n",
       "77    \\nTheresa Villiers\\nBelow is the text of the s...  \n",
       "78    \\nTheresa Villiers\\nBelow is the text of the s...  \n",
       "79    \\nTheresa Villiers\\nBelow is the text of the s...  \n",
       "80    \\nTheresa Villiers\\nBelow is the text of the s...  \n",
       "81    \\nTheresa Villiers\\nBelow is the text of the s...  \n",
       "83    \\nTheresa Villiers\\nBelow is the text of the s...  \n",
       "84    \\nTheresa Villiers\\nBelow is the text of the s...  \n",
       "85    \\nTheresa Villiers\\nBelow is the text of the s...  \n",
       "147   \\nThe below speech was made by John Redwood at...  \n",
       "155   \\nBelow is the speech made by the then Secreta...  \n",
       "217   \\n\\nMy Lords and Members of the House of Commo...  \n",
       "232   \\nOne of the features of growing old is a heig...  \n",
       "260   \\n\\nThis speech was given by the Conservative ...  \n",
       "277   \\nEd Timpson\\nBelow is the text of the speech ...  \n",
       "279   \\nEd Timpson\\nBelow is the text of the speech ...  \n",
       "282   \\nEd Timpson\\nBelow is the text of the speech ...  \n",
       "287   \\nBy https://www.flickr.com/photos/altogetherf...  \n",
       "288   \\nLiz Truss\\nBelow is the text of a speech mad...  \n",
       "289   \\nLiz Truss\\nBelow is the text of the speech m...  \n",
       "290   \\nLiz Truss\\nBelow is the text of the speech m...  \n",
       "...                                                 ...  \n",
       "2666  \\nFrancis Maude\\nBelow is the text of the spee...  \n",
       "2667  \\nFrancis Maude\\nBelow is the text of the spee...  \n",
       "2668  \\nFrancis Maude\\nBelow is the text of the spee...  \n",
       "2669  \\nFrancis Maude\\nBelow is the text of the spee...  \n",
       "2678  \\n\\nThank you Michael for that kind introducti...  \n",
       "2727                                     \\nrnjmcc5y6s\\n  \n",
       "2784  \\n\\nBelow is the speech made by Theresa May, t...  \n",
       "2789  \\n\\nBelow is the statement made by Theresa May...  \n",
       "2793  \\n\\nBelow is the Passover message issued by Th...  \n",
       "2823  \\n\\nMr Speaker, before I turn to the European ...  \n",
       "2837  \\nJohn McDonnell\\nBelow is the text of the spe...  \n",
       "2838  \\nJohn McDonnell\\nBelow is the text of the spe...  \n",
       "2839  \\nJohn McDonnell\\nBelow is the text of the spe...  \n",
       "2851  \\nPatrick McLoughlin\\nBelow is the text of the...  \n",
       "2852  \\nPatrick McLoughlin\\nBelow is the text of the...  \n",
       "2853  \\nPatrick McLoughlin\\nBelow is the text of the...  \n",
       "2854  \\nPatrick McLoughlin\\nBelow is the text of the...  \n",
       "2855  \\nPatrick McLoughlin\\nBelow is the text of the...  \n",
       "2856  \\nPatrick McLoughlin\\nBelow is the text of the...  \n",
       "2857  \\nPatrick McLoughlin\\nBelow is the text of the...  \n",
       "2858  \\nPatrick McLoughlin\\nBelow is the text of the...  \n",
       "2865  \\nPatrick McLoughlin\\nBelow is the text of the...  \n",
       "2866  \\nPatrick McLoughlin\\nBelow is the text of the...  \n",
       "2867  \\nPatrick McLoughlin\\nBelow is the text of the...  \n",
       "2871  \\nPatrick McLoughlin\\nBelow is the text of the...  \n",
       "2872  \\nPatrick McLoughlin\\nBelow is the text of the...  \n",
       "2877  \\nThe below speech was made by the Minister fo...  \n",
       "2953  \\n\\nThe below speech was made by the Leader of...  \n",
       "2963  \\n\\nBelow is the speech made by the Leader of ...  \n",
       "2983  \\n\\nThe below speech was made by the Culture S...  \n",
       "\n",
       "[270 rows x 2 columns]"
      ]
     },
     "execution_count": 49,
     "metadata": {},
     "output_type": "execute_result"
    }
   ],
   "source": [
    "speeches1[descriptions2.check==0]"
   ]
  },
  {
   "cell_type": "markdown",
   "metadata": {},
   "source": [
    "This isn't as clear cut as I thought. What I'll do is split the text then find the index where it says \"Below is the text\" or \"Below is the speech\" or \"The below speech\" and split at that point."
   ]
  },
  {
   "cell_type": "code",
   "execution_count": 50,
   "metadata": {},
   "outputs": [],
   "source": [
    "indicators = ['Below is the text',\n",
    "              'Below is the speech',\n",
    "              'The below speech',\n",
    "              'The speech below',\n",
    "              'Below is the Hansard record',\n",
    "              'Below is a part of the speech',\n",
    "              'This is the text',\n",
    "              'This speech was made',\n",
    "              'Speech made',\n",
    "              'Speech given',\n",
    "              'Below is the statement',\n",
    "              'Below is the transcript',\n",
    "              'Below is a transcript',\n",
    "              'Below is a text',\n",
    "              'Below is the Q&A',\n",
    "              'Below is the Passover message',\n",
    "              'Below is the Christmas message',\n",
    "              'Below is the 2013 Christmas message',\n",
    "              'This speech was given',\n",
    "              'Transcript of speech',\n",
    "              'Transcript of press conference']\n",
    "\n",
    "def find_header(text):\n",
    "    text_split = text.split('\\n')\n",
    "    for indicator in indicators:\n",
    "        for i, subtext in enumerate(text_split):\n",
    "            if indicator in subtext:\n",
    "                return i\n",
    "    return -1\n",
    "\n",
    "def get_header(text):\n",
    "    header_index = find_header(text)\n",
    "    if  header_index > -1:\n",
    "        return text.split('\\n')[header_index]\n",
    "    else:\n",
    "        return 'No header'\n",
    "\n",
    "def get_text(text):\n",
    "    header_index = find_header(text)\n",
    "#     I'm going to return the speech still separated by \\n so that I can split out further features later.\n",
    "    return '\\n'.join(text.split('\\n')[header_index+1:])\n",
    "    "
   ]
  },
  {
   "cell_type": "code",
   "execution_count": 51,
   "metadata": {},
   "outputs": [],
   "source": [
    "descriptions3 = pd.DataFrame()\n",
    "descriptions3['description'] = speeches1.speech.map(lambda x: get_header(x))\n",
    "descriptions3['text'] = speeches1.speech.map(lambda x: get_text(x))"
   ]
  },
  {
   "cell_type": "code",
   "execution_count": 52,
   "metadata": {},
   "outputs": [
    {
     "data": {
      "text/html": [
       "<div>\n",
       "<style scoped>\n",
       "    .dataframe tbody tr th:only-of-type {\n",
       "        vertical-align: middle;\n",
       "    }\n",
       "\n",
       "    .dataframe tbody tr th {\n",
       "        vertical-align: top;\n",
       "    }\n",
       "\n",
       "    .dataframe thead th {\n",
       "        text-align: right;\n",
       "    }\n",
       "</style>\n",
       "<table border=\"1\" class=\"dataframe\">\n",
       "  <thead>\n",
       "    <tr style=\"text-align: right;\">\n",
       "      <th></th>\n",
       "      <th>description</th>\n",
       "      <th>text</th>\n",
       "    </tr>\n",
       "  </thead>\n",
       "  <tbody>\n",
       "    <tr>\n",
       "      <th>217</th>\n",
       "      <td>No header</td>\n",
       "      <td>\\n\\nMy Lords and Members of the House of Commo...</td>\n",
       "    </tr>\n",
       "    <tr>\n",
       "      <th>232</th>\n",
       "      <td>No header</td>\n",
       "      <td>\\nOne of the features of growing old is a heig...</td>\n",
       "    </tr>\n",
       "    <tr>\n",
       "      <th>424</th>\n",
       "      <td>No header</td>\n",
       "      <td>\\n\\nI’d like to thank Jill Kirby and the Centr...</td>\n",
       "    </tr>\n",
       "    <tr>\n",
       "      <th>485</th>\n",
       "      <td>No header</td>\n",
       "      <td>\\n\\nMr Deputy Speaker, the core purpose of thi...</td>\n",
       "    </tr>\n",
       "    <tr>\n",
       "      <th>646</th>\n",
       "      <td>No header</td>\n",
       "      <td>\\nEnoch Powell, referring to the comments made...</td>\n",
       "    </tr>\n",
       "    <tr>\n",
       "      <th>686</th>\n",
       "      <td>No header</td>\n",
       "      <td>\\nThis session is about the local environment,...</td>\n",
       "    </tr>\n",
       "    <tr>\n",
       "      <th>1121</th>\n",
       "      <td>No header</td>\n",
       "      <td>\\n\\nConvener – fellow Scots.\\nThis is a speech...</td>\n",
       "    </tr>\n",
       "    <tr>\n",
       "      <th>1128</th>\n",
       "      <td>No header</td>\n",
       "      <td>\\nMy Lords, I trust that your Lordships will a...</td>\n",
       "    </tr>\n",
       "    <tr>\n",
       "      <th>1149</th>\n",
       "      <td>No header</td>\n",
       "      <td>\\nWith permission, Mr Speaker, I would like to...</td>\n",
       "    </tr>\n",
       "    <tr>\n",
       "      <th>1187</th>\n",
       "      <td>No header</td>\n",
       "      <td>\\nIain Duncan Smith\\nAs I said last night, out...</td>\n",
       "    </tr>\n",
       "    <tr>\n",
       "      <th>1210</th>\n",
       "      <td>No header</td>\n",
       "      <td>\\nI am very glad to be able to speak at the co...</td>\n",
       "    </tr>\n",
       "    <tr>\n",
       "      <th>1539</th>\n",
       "      <td>No header</td>\n",
       "      <td>\\n\\nMade on the 14th October by the Secretary ...</td>\n",
       "    </tr>\n",
       "    <tr>\n",
       "      <th>1698</th>\n",
       "      <td>No header</td>\n",
       "      <td>\\n\\nBelow is the PDF of the speech made by Ale...</td>\n",
       "    </tr>\n",
       "    <tr>\n",
       "      <th>1760</th>\n",
       "      <td>No header</td>\n",
       "      <td>\\n\\nI am honoured and delighted to be here thi...</td>\n",
       "    </tr>\n",
       "    <tr>\n",
       "      <th>1853</th>\n",
       "      <td>No header</td>\n",
       "      <td>\\n\\nI begin by thanking the Prime Minister of ...</td>\n",
       "    </tr>\n",
       "    <tr>\n",
       "      <th>2003</th>\n",
       "      <td>No header</td>\n",
       "      <td>\\n\\nI’m delighted to be here in Wales with so ...</td>\n",
       "    </tr>\n",
       "    <tr>\n",
       "      <th>2095</th>\n",
       "      <td>No header</td>\n",
       "      <td>\\nOn the 30th January 2007 there was a Westmin...</td>\n",
       "    </tr>\n",
       "    <tr>\n",
       "      <th>2105</th>\n",
       "      <td>No header</td>\n",
       "      <td>\\nConference, it is a pleasure and a privilege...</td>\n",
       "    </tr>\n",
       "    <tr>\n",
       "      <th>2126</th>\n",
       "      <td>No header</td>\n",
       "      <td>\\n\\nBelow is the Christmas Message made by Jer...</td>\n",
       "    </tr>\n",
       "    <tr>\n",
       "      <th>2153</th>\n",
       "      <td>No header</td>\n",
       "      <td>\\nIt is a great honour to catch your eye, Mr. ...</td>\n",
       "    </tr>\n",
       "    <tr>\n",
       "      <th>2287</th>\n",
       "      <td>No header</td>\n",
       "      <td>\\n\\nQuestion\\nGood afternoon, Prime Minister. ...</td>\n",
       "    </tr>\n",
       "    <tr>\n",
       "      <th>2412</th>\n",
       "      <td>No header</td>\n",
       "      <td>\\nText of speech\\nAbove is a PDF of the speech...</td>\n",
       "    </tr>\n",
       "    <tr>\n",
       "      <th>2413</th>\n",
       "      <td>No header</td>\n",
       "      <td>\\n\\nBelow is a statement published by Douglas ...</td>\n",
       "    </tr>\n",
       "    <tr>\n",
       "      <th>2429</th>\n",
       "      <td>No header</td>\n",
       "      <td>\\n\\nAs soon as I heard, last night, that Japan...</td>\n",
       "    </tr>\n",
       "    <tr>\n",
       "      <th>2462</th>\n",
       "      <td>No header</td>\n",
       "      <td>\\n\\nNick Clegg made his first leader’s speech ...</td>\n",
       "    </tr>\n",
       "    <tr>\n",
       "      <th>2608</th>\n",
       "      <td>No header</td>\n",
       "      <td>\\n\\nEarlier this week this Conference welcomed...</td>\n",
       "    </tr>\n",
       "    <tr>\n",
       "      <th>2612</th>\n",
       "      <td>No header</td>\n",
       "      <td>\\n\\nWell it hasn’t exactly been a dull week ha...</td>\n",
       "    </tr>\n",
       "    <tr>\n",
       "      <th>2615</th>\n",
       "      <td>No header</td>\n",
       "      <td>\\n\\nMadam President, as I walked through the W...</td>\n",
       "    </tr>\n",
       "    <tr>\n",
       "      <th>2617</th>\n",
       "      <td>No header</td>\n",
       "      <td>\\n\\nMr. President, the political landscape has...</td>\n",
       "    </tr>\n",
       "    <tr>\n",
       "      <th>2625</th>\n",
       "      <td>No header</td>\n",
       "      <td>\\n\\nIntroduction\\nToday is Friday the Thirteen...</td>\n",
       "    </tr>\n",
       "    <tr>\n",
       "      <th>2627</th>\n",
       "      <td>No header</td>\n",
       "      <td>\\n\\nMadam Chairman, we’ve had a good week.\\nIt...</td>\n",
       "    </tr>\n",
       "    <tr>\n",
       "      <th>2678</th>\n",
       "      <td>No header</td>\n",
       "      <td>\\n\\nThank you Michael for that kind introducti...</td>\n",
       "    </tr>\n",
       "    <tr>\n",
       "      <th>2727</th>\n",
       "      <td>No header</td>\n",
       "      <td>\\nrnjmcc5y6s\\n</td>\n",
       "    </tr>\n",
       "    <tr>\n",
       "      <th>2823</th>\n",
       "      <td>No header</td>\n",
       "      <td>\\n\\nMr Speaker, before I turn to the European ...</td>\n",
       "    </tr>\n",
       "  </tbody>\n",
       "</table>\n",
       "</div>"
      ],
      "text/plain": [
       "     description                                               text\n",
       "217    No header  \\n\\nMy Lords and Members of the House of Commo...\n",
       "232    No header  \\nOne of the features of growing old is a heig...\n",
       "424    No header  \\n\\nI’d like to thank Jill Kirby and the Centr...\n",
       "485    No header  \\n\\nMr Deputy Speaker, the core purpose of thi...\n",
       "646    No header  \\nEnoch Powell, referring to the comments made...\n",
       "686    No header  \\nThis session is about the local environment,...\n",
       "1121   No header  \\n\\nConvener – fellow Scots.\\nThis is a speech...\n",
       "1128   No header  \\nMy Lords, I trust that your Lordships will a...\n",
       "1149   No header  \\nWith permission, Mr Speaker, I would like to...\n",
       "1187   No header  \\nIain Duncan Smith\\nAs I said last night, out...\n",
       "1210   No header  \\nI am very glad to be able to speak at the co...\n",
       "1539   No header  \\n\\nMade on the 14th October by the Secretary ...\n",
       "1698   No header  \\n\\nBelow is the PDF of the speech made by Ale...\n",
       "1760   No header  \\n\\nI am honoured and delighted to be here thi...\n",
       "1853   No header  \\n\\nI begin by thanking the Prime Minister of ...\n",
       "2003   No header  \\n\\nI’m delighted to be here in Wales with so ...\n",
       "2095   No header  \\nOn the 30th January 2007 there was a Westmin...\n",
       "2105   No header  \\nConference, it is a pleasure and a privilege...\n",
       "2126   No header  \\n\\nBelow is the Christmas Message made by Jer...\n",
       "2153   No header  \\nIt is a great honour to catch your eye, Mr. ...\n",
       "2287   No header  \\n\\nQuestion\\nGood afternoon, Prime Minister. ...\n",
       "2412   No header  \\nText of speech\\nAbove is a PDF of the speech...\n",
       "2413   No header  \\n\\nBelow is a statement published by Douglas ...\n",
       "2429   No header  \\n\\nAs soon as I heard, last night, that Japan...\n",
       "2462   No header  \\n\\nNick Clegg made his first leader’s speech ...\n",
       "2608   No header  \\n\\nEarlier this week this Conference welcomed...\n",
       "2612   No header  \\n\\nWell it hasn’t exactly been a dull week ha...\n",
       "2615   No header  \\n\\nMadam President, as I walked through the W...\n",
       "2617   No header  \\n\\nMr. President, the political landscape has...\n",
       "2625   No header  \\n\\nIntroduction\\nToday is Friday the Thirteen...\n",
       "2627   No header  \\n\\nMadam Chairman, we’ve had a good week.\\nIt...\n",
       "2678   No header  \\n\\nThank you Michael for that kind introducti...\n",
       "2727   No header                                     \\nrnjmcc5y6s\\n\n",
       "2823   No header  \\n\\nMr Speaker, before I turn to the European ..."
      ]
     },
     "execution_count": 52,
     "metadata": {},
     "output_type": "execute_result"
    }
   ],
   "source": [
    "descriptions3[descriptions3.description=='No header']"
   ]
  },
  {
   "cell_type": "markdown",
   "metadata": {},
   "source": [
    "That worked well, only about 30 of ~3000 don't have headers. I'll keep the function and apply it directly to the dataframe later. I'll probably use a similar approach to take out Welsh words at the same time; I can remove them when vectorising for the NLP, but if I'm going to do a unique word count then I'll have to do it separately.<p>"
   ]
  },
  {
   "cell_type": "code",
   "execution_count": 53,
   "metadata": {},
   "outputs": [],
   "source": [
    "unique_welsh = [' yn ',\n",
    "                ' yr ',\n",
    "                ' ydym ']\n",
    "\n",
    "def find_welsh(text):\n",
    "    text_split = text.split('\\n')\n",
    "    for word in unique_welsh:\n",
    "        for i, subtext in enumerate(text_split):\n",
    "            if word in subtext:\n",
    "                return i\n",
    "    return -1"
   ]
  },
  {
   "cell_type": "code",
   "execution_count": 54,
   "metadata": {},
   "outputs": [],
   "source": [
    "welsh_speeches = speeches1[(speeches1.speech.str.contains(' yn '))|\n",
    "                           (speeches1.speech.str.contains(' yr '))|\n",
    "                           (speeches1.speech.str.contains(' ydym '))]"
   ]
  },
  {
   "cell_type": "code",
   "execution_count": 55,
   "metadata": {},
   "outputs": [
    {
     "name": "stderr",
     "output_type": "stream",
     "text": [
      "/Library/Frameworks/Python.framework/Versions/3.6/lib/python3.6/site-packages/ipykernel_launcher.py:1: SettingWithCopyWarning: \n",
      "A value is trying to be set on a copy of a slice from a DataFrame.\n",
      "Try using .loc[row_indexer,col_indexer] = value instead\n",
      "\n",
      "See the caveats in the documentation: http://pandas.pydata.org/pandas-docs/stable/indexing.html#indexing-view-versus-copy\n",
      "  \"\"\"Entry point for launching an IPython kernel.\n"
     ]
    }
   ],
   "source": [
    "welsh_speeches['welsh_start'] = welsh_speeches.speech.map(lambda x: find_welsh(x))"
   ]
  },
  {
   "cell_type": "code",
   "execution_count": 56,
   "metadata": {},
   "outputs": [
    {
     "data": {
      "text/html": [
       "<div>\n",
       "<style scoped>\n",
       "    .dataframe tbody tr th:only-of-type {\n",
       "        vertical-align: middle;\n",
       "    }\n",
       "\n",
       "    .dataframe tbody tr th {\n",
       "        vertical-align: top;\n",
       "    }\n",
       "\n",
       "    .dataframe thead th {\n",
       "        text-align: right;\n",
       "    }\n",
       "</style>\n",
       "<table border=\"1\" class=\"dataframe\">\n",
       "  <thead>\n",
       "    <tr style=\"text-align: right;\">\n",
       "      <th></th>\n",
       "      <th>index</th>\n",
       "      <th>title</th>\n",
       "      <th>speech</th>\n",
       "      <th>welsh_start</th>\n",
       "    </tr>\n",
       "  </thead>\n",
       "  <tbody>\n",
       "    <tr>\n",
       "      <th>0</th>\n",
       "      <td>0</td>\n",
       "      <td>Isherwood, Mark – 2006 Speech on Fuel Poverty</td>\n",
       "      <td>\\nBelow is the text of the speech made by Mark...</td>\n",
       "      <td>18</td>\n",
       "    </tr>\n",
       "    <tr>\n",
       "      <th>1</th>\n",
       "      <td>144</td>\n",
       "      <td>Ramsay, Nick – 2008 Speech on Local Government...</td>\n",
       "      <td>\\nBelow is the text of a speech made by Nick R...</td>\n",
       "      <td>17</td>\n",
       "    </tr>\n",
       "    <tr>\n",
       "      <th>2</th>\n",
       "      <td>393</td>\n",
       "      <td>Wood, Leanne – 2013 Speech to Plaid Cymru Conf...</td>\n",
       "      <td>\\nBelow is the text of the speech made by the ...</td>\n",
       "      <td>36</td>\n",
       "    </tr>\n",
       "    <tr>\n",
       "      <th>3</th>\n",
       "      <td>762</td>\n",
       "      <td>Lake, Ben – 2017 Maiden Speech in the House of...</td>\n",
       "      <td>\\nBelow is the text of the maiden speech made ...</td>\n",
       "      <td>23</td>\n",
       "    </tr>\n",
       "    <tr>\n",
       "      <th>4</th>\n",
       "      <td>807</td>\n",
       "      <td>Lewis, Brandon – 2017 Speech to CBI Wales</td>\n",
       "      <td>\\n\\nBelow is the text of the speech made by Br...</td>\n",
       "      <td>88</td>\n",
       "    </tr>\n",
       "    <tr>\n",
       "      <th>5</th>\n",
       "      <td>1102</td>\n",
       "      <td>Jones, Carwyn – 2013 Speech to Labour Party Co...</td>\n",
       "      <td>\\nBelow is the text of the speech made by Carw...</td>\n",
       "      <td>81</td>\n",
       "    </tr>\n",
       "    <tr>\n",
       "      <th>6</th>\n",
       "      <td>2205</td>\n",
       "      <td>Cairns, Alun – 2015 Speech on the Welsh Language</td>\n",
       "      <td>\\n\\nBelow is the text of the speech made by Al...</td>\n",
       "      <td>46</td>\n",
       "    </tr>\n",
       "    <tr>\n",
       "      <th>7</th>\n",
       "      <td>2208</td>\n",
       "      <td>Cairns, Alun – 2016 Speech to National Assembl...</td>\n",
       "      <td>\\n\\nBelow is the text of the speech made by Al...</td>\n",
       "      <td>3</td>\n",
       "    </tr>\n",
       "    <tr>\n",
       "      <th>8</th>\n",
       "      <td>2504</td>\n",
       "      <td>Clwyd, Ann – 2018 Speech on the NHS Complaints...</td>\n",
       "      <td>\\nBelow is the text of the speech made by Ann ...</td>\n",
       "      <td>7</td>\n",
       "    </tr>\n",
       "    <tr>\n",
       "      <th>9</th>\n",
       "      <td>2571</td>\n",
       "      <td>Crabb, Stephen – 2015 Speech on Wales in a Cha...</td>\n",
       "      <td>\\nStephen Crabb\\nBelow is the text of the spee...</td>\n",
       "      <td>4</td>\n",
       "    </tr>\n",
       "    <tr>\n",
       "      <th>10</th>\n",
       "      <td>2572</td>\n",
       "      <td>Crabb, Stephen – 2015 Speech to National Assem...</td>\n",
       "      <td>\\nStephen Crabb\\nBelow is the text of the spee...</td>\n",
       "      <td>3</td>\n",
       "    </tr>\n",
       "    <tr>\n",
       "      <th>11</th>\n",
       "      <td>2880</td>\n",
       "      <td>Melding, David – 2006 Speech on Local Governme...</td>\n",
       "      <td>\\nBelow is the text of a speech made by David ...</td>\n",
       "      <td>21</td>\n",
       "    </tr>\n",
       "    <tr>\n",
       "      <th>12</th>\n",
       "      <td>3050</td>\n",
       "      <td>Morgan, Rhodri – 2009 Speech to Labour Party C...</td>\n",
       "      <td>\\nBelow is the text of the speech made by Rhod...</td>\n",
       "      <td>53</td>\n",
       "    </tr>\n",
       "  </tbody>\n",
       "</table>\n",
       "</div>"
      ],
      "text/plain": [
       "    index                                              title  \\\n",
       "0       0      Isherwood, Mark – 2006 Speech on Fuel Poverty   \n",
       "1     144  Ramsay, Nick – 2008 Speech on Local Government...   \n",
       "2     393  Wood, Leanne – 2013 Speech to Plaid Cymru Conf...   \n",
       "3     762  Lake, Ben – 2017 Maiden Speech in the House of...   \n",
       "4     807          Lewis, Brandon – 2017 Speech to CBI Wales   \n",
       "5    1102  Jones, Carwyn – 2013 Speech to Labour Party Co...   \n",
       "6    2205   Cairns, Alun – 2015 Speech on the Welsh Language   \n",
       "7    2208  Cairns, Alun – 2016 Speech to National Assembl...   \n",
       "8    2504  Clwyd, Ann – 2018 Speech on the NHS Complaints...   \n",
       "9    2571  Crabb, Stephen – 2015 Speech on Wales in a Cha...   \n",
       "10   2572  Crabb, Stephen – 2015 Speech to National Assem...   \n",
       "11   2880  Melding, David – 2006 Speech on Local Governme...   \n",
       "12   3050  Morgan, Rhodri – 2009 Speech to Labour Party C...   \n",
       "\n",
       "                                               speech  welsh_start  \n",
       "0   \\nBelow is the text of the speech made by Mark...           18  \n",
       "1   \\nBelow is the text of a speech made by Nick R...           17  \n",
       "2   \\nBelow is the text of the speech made by the ...           36  \n",
       "3   \\nBelow is the text of the maiden speech made ...           23  \n",
       "4   \\n\\nBelow is the text of the speech made by Br...           88  \n",
       "5   \\nBelow is the text of the speech made by Carw...           81  \n",
       "6   \\n\\nBelow is the text of the speech made by Al...           46  \n",
       "7   \\n\\nBelow is the text of the speech made by Al...            3  \n",
       "8   \\nBelow is the text of the speech made by Ann ...            7  \n",
       "9   \\nStephen Crabb\\nBelow is the text of the spee...            4  \n",
       "10  \\nStephen Crabb\\nBelow is the text of the spee...            3  \n",
       "11  \\nBelow is the text of a speech made by David ...           21  \n",
       "12  \\nBelow is the text of the speech made by Rhod...           53  "
      ]
     },
     "execution_count": 56,
     "metadata": {},
     "output_type": "execute_result"
    }
   ],
   "source": [
    "welsh_speeches.reset_index()"
   ]
  },
  {
   "cell_type": "code",
   "execution_count": 57,
   "metadata": {},
   "outputs": [
    {
     "data": {
      "text/plain": [
       "'\\nBelow is the text of the speech made by the Leader of Plaid Cymru, Leanne Wood, made to the party’s annual conference on 4th March 2013.\\nConference,\\nIt was a pleasure to travel through Wales yesterday to reach Ynys Mon, to cross the bridge to reach the apex of our country ready for this most auspicious day, the 1st of March.\\nYnys Mon, Mam Cymru – is special to Wales.\\nThis is the county of so many Welsh firsts –\\n– the first comprehensive school was set up here, a great symbol of the best in our creative tradition,\\n– our first woman MP in Megan Lloyd George,\\n– the first branch of the Women’s Institute.\\nIt is a fitting place for the first woman leader of Plaid Cymru to pay tribute to the first Plaid Cymru minister in the history of our party.\\nI want to say Thank you to Ieuan for his tremendous service to Ynys Mon and to Wales for more than a quarter of a century.\\nIn 1987, his victory here as an MP will be remembered as a ray of light in a dismal decade for Plaid Cymru.\\nA breakthrough that gave this party heart and confidence for the years ahead.\\nIn 1997, it was Ieuan’s tele-canvassers that helped this nation win the greatest prize. By winning the referendum which gave birth to our democracy.\\nIt was in 1997 that we won our dignity.\\nThe icing on the cake came in 2011, when Welsh public opinion crystallised in favour of Wales.\\nThose referendum results will be your most precious legacy, Ieuan.\\nIn 2007 you took us into Government.\\nAnd let us be clear, that is the ultimate goal of a political party like ours.\\nYour shining example in that government will continue to provide us with inspiration for the years ahead.\\nSo it is fitting that, here on your territory, I say thank you Ieuan – from me personally and on behalf of this party.\\nDiolch o galon.\\nYnys Ieuan – sorry I mean Ynys Mon – represents our nation’s northernmost point.\\nIt’s a perfect place to get a perspective on where Wales has been and where we are heading as a nation.\\nSince the financial crash of 2008, a lot has changed.\\nYet we have a government in London ploughing ahead with its failed incompetent policies of austerity.\\nAt the same time we have a ‘Welsh’ government in Cardiff happy to carry on with a mentality of ‘nothing to do with us Gov’.\\nThinking about where we are and where we are going doesn’t mean looking back and dwelling on the past – although of course it’s vital to have an understanding of our history.\\nIt is more important to look forward.\\nYmlaen, as we say!\\nI say it’s time for us to chart our own course. We are Wales’ only national party.\\nWhy? For one simple reason.\\nWe want to build this country.\\nWe want to unlock our people’s full potential.\\nWe want to build a path of human progress.– not in the abstract, not in the comfortable and complacent corridors of power – but in the streets of every community, in the villages and in the valleys, where we live.\\nOur communities are important to Plaid Cymru.\\nMae ymgyrch dwy fil ac un deg chwech yn dechrau nawr.\\nHeddiw. Yma. Gyda ni. Gyda chi.\\nPam ydyn ni eisiau ennill yn dwy fil ac un deg chwech?\\nAchos dydy Cymru gwell ddim yn gallu aros.\\nMae’r problemau yn ein cymunedau yng Nghymru yn ddwfn, yn ddwys ac yn mynd nol yn bell.\\nMae rhaid i ni roi hwb i ein economi a chreu cymunedau sy’n ffit i wynebu heriau’r presennol a’r dyfodol.\\nMae rhaid I ni roi ein holl ymdrech mewn i greu swyddi.\\nGyda swyddi, daw hyder\\nGyda hyder, mae popeth yn bosib\\nFel rhywun sy’n ceisio dysgu Cymraeg, dwi’n deall pa mor bwysig yw hyder!\\nMae’r iaith yn bwysig iawn i fi, a dwi eisiau gweld Cymru, yn y dyfodol, yn genedl ble mae Cymraeg yn un o ieithoedd y stryd ym mhob rhan o Gymru.\\nMae’r Cyfrifiad wedi dod gyda newyddion ddrwg I ni\\nMae’r ffigyrau yn dangos bod y nifer o siaradwyr Cymraeg yn mynd lawr.\\nRydyn ni’n colli tua dwy fil o siaradwyr Gymraeg bob blwyddyn.\\nA beth mae’r llywodraeth Cymru yn gwneud am hyn?\\nDim byd. Dim ond oedi.\\nDim ond wythnos yma, gwnaeth Llafur atal cyflwyno safonau iaith.\\nPAUSE\\nMae’r iaith, a’r economi yn holl bwysig yn ardaloedd fel fan hyn yn Sir Fon.\\nAc ar hyd a lled y wlad, mae rhaid i ni cynnig cyfleoedd i bobl aros, byw a gweithio yn eu cymunedau.\\nMae rhaid i ni creu dyfodol i’n pobl ifanc – gobaith i’r cenedl nesaf.\\nAnd that is why I have insisted on the economy and job creation being our number one priority since my election as Plaid Cymru leader nearly a year ago.\\nFor thirty years Wales has had a poor deal from a succession of UK governments.\\nWe’ve seen factories come and go, inward investment peaks and troughs.\\nAnd the gap between the rich and the poor has grown and grown.\\nBroken dreams.\\nBroken lives.\\nBroken families.\\nIt’s time this finally stopped\\nIt is time to put government back on the side of the people\\nTo have a government working to make sure people have the basics.\\nA decent home, with decent healthcare within a reasonable travel distance.\\nA job with decent pay so that the bills are affordable\\nIt’s not difficult – with people in work on decent wages they pay into the tax pot\\nThe more that goes into that tax pot, the more and better quality public services and social protection we can afford.\\nThe current austerity drive has failed;\\n– the projections for economic growth have failed;\\n– the efforts to maintain the UK’s triple A credit status has failed;\\n– attempts to cut unemployment in Wales have failed.\\nFailure has been the hallmark of this discredited UK government.\\nAnd where is the opposition? It was up to Plaid Cymru MPs to lead the charge the bedroom tax this week on the floor of the House of Commons.\\nAnd it’s a good job that the Tories in the Assembly have their fingers on the pulse. Just this week, they’ve popped up to promise tax cuts for the better off!\\nPlaid Cymru wants to see policies that will help more businesses to start up– how will cutting taxes for those on the 40% rate help that?\\nTackling business rates and a fairer capital gains tax system – these are the kinds of things that would make a difference.\\nMeasures that would allow our wealth creators to flourish.\\nMeasures that could be taken now if the Tories were really interested in helping business.\\nThese are the priorities of Plaid Cymru and we will earn the right to govern our country by presenting a responsible, competent and business-friendly plan for boosting the Welsh economy.\\nWe must make the most of the resources that we have. Our most precious resource is our people.\\nThe road to our future will be built by people here.\\nIf we as Welsh people don’t build it, it won’t be built.\\nWe know we need better infrastructure, better communication links throughout our country.\\nTake a look at our rail. Why has it taken a century to electrify a single mile of our railways?\\nFor one reason alone – because the switch that needed to be flicked lay idle in London.\\nWe know that we cannot look to London to provide the answers.\\nThat has been tried and failed. Friends, we’ve been a long time waiting.\\nThat switch or the spark to power up our nation has to be in our hands.\\nWe can achieve anything if we have the determination to shape and craft for ourselves as Idris Davies put it: “a future that is better than the past.”\\nAnd we can. We must.\\nWe will create a future that is better than the past.\\nAfter all, what is this Welsh democracy for if not the possibility to do things differently?\\nWe’ve worked hard for our democracy. Let’s use it.\\nIt is a capacity that the Wales of our fore-mothers and fathers did not have.\\nWe have the chance to make the most of our lives, to do the best we can do, to be the best that we can be.That was the spirit that inspired miners and quarry workers to build libraries and universities the length and breadth of Wales.\\nIt is what inspired them to provide scholarships for thousands, so those who otherwise could not, should have a better future.\\nOur history will be what we make it.\\nAnd we can start today by imagining and believing in a different future.\\nI have led this party for almost a year.\\nIt has been a proud and exhilarating experience and I am privileged to lead the only party which puts Wales first each and every time – without question.\\nWhat have I learned over the last year?\\nI’ve learned that people the length and breadth of Wales have an unquenchable hope, a huge appetite for a different course – an acceptance that we cannot continue as we are.\\nOur country contains an enormous well-spring of positive, creative, almost limitless social energy.\\nI have been inspired by the people I have met who want to make a difference to their world and their Wales.\\nWe only need to look at our country’s success in sport. we are punching well above our weight on a world scale, in a wide variety of sports from cycling to rugby, football to tae kwondo.\\nAnd I pay tribute to those who made last weekend such a fantastic weekend of sport in Wales\\n– Becky James and Elinor Barker in the cycling\\n– The women’s and men’s teams in the rugby\\n– Swansea City winning the League Cup\\n– Wrexham at Wembley later this month\\n– And Cardiff City on the brink of the Premiership\\nWell done to all of you for doing our nation proud.\\nWelsh sports women and men give us a lot to be proud of, but also a lot to aspire to.\\nThey have shown us what can be achieved with confidence, self-belief and the right opportunities.\\nTranslate that for our nation, for our economy. With that right combination, there is no reason why Wales can’t be as or more successful than the scores of nations of a roughly similar size.\\nAs in team sports, if we all pull together as a team this small nation can and will do great things.\\nPeople are calling out for a vision.\\nYes, there is scepticism; that is hardly surprising. The old models of our economy, our politics, our environment are broken.\\nPeople are looking for new direction.\\nA new start.\\nNew leadership.\\nI am determined to make sure they find it here, in the only party that this country of ours can rightly call its own. The Party of Wales.\\nFor a vision to work it must be credible. It must set out where we want to go, but it must also set out the first steps on the journey.\\nOur vision is of an independent Wales – independent in spirit and in reality, not dependent on handouts from Brussels or from London, a country fuelled, not by charity, but by our own success. The question is how do we get there from here?\\nWe live in the present and it’s in the present tense that we make ourselves relevant to people’s daily lives.\\nOur first steps will be outlined in our programme.\\nAnd it is with a relevant programme combined with a determination to fight for our communities, that we will make Anglesey proud again when Plaid Cymru wins here in May.\\nThe work of building the new Wales starts here and it starts now.\\nAnd there is so much to be done.\\nThis party has a raft of good policies which are ripe for the times in which we find ourselves.\\nSo ripe in fact that the Welsh Government has had to adopt our ideas in the absence of their own\\nOur plan to take control of the national airport\\nOur plan to tackle the Council Tax benefit gap\\nOur plan for a public investment vehicle that we called “Build for Wales”\\nOur plan for a conversation on the Welsh language\\nOur plan for a science park on the Menai Straits\\nThese are all policies pushed by the Party of Wales then adopted by the Welsh Government.\\nWe are working hard, coming up with solutions that can be put in place now, to the problems that people face in their everyday lives.\\nAnd I am talking about these policies and discussing them in the public meetings I am holding with people up and down the land.\\nPlaid Cymru intends to talk to people in every single nook, cranny and corner of Wales.\\nAnd the more we talk with people in our communities and listen – the more we will get our policies and our programme of government right\\nI have set this party a big challenge.\\nBetween now and 2016 I want us to have a million conversations with the people of Wales.\\nThat’s a two-way conversation where we listen and take note of what people say\\nAnd during those conversations we will be positive, we will promote optimism for the future and hope\\nAnd we will offer practical solutions to the problems people are facing every day\\nOur campaign for the 2016 Assembly election has already begun.\\nOur campaign will have the energy and the excitement and the integrity to offer a real alternative.\\nIt will be rooted in the participation of people in every city, in every town, in every county and in every village.\\nA campaign that will restore people’s faith in politics.\\nPlaid Cymru, the party of Wales must win that election.\\nWe must win for the children of Wales.\\nOne-quarter of the children in this country are growing up poor.\\nWhen they grow up, one-quarter of them will be unemployed.\\n40% of them will leave primary school not able to read and write to the standard expected of their age.\\nThousands will be in schools in the quarter of all local education authorities that are currently in special measures.\\nWe can do so much better than this.\\nWhere is the sense of urgency we need in Welsh politics now?\\nWe can’t afford to wait any longer before we see an improvement in standards within our education system.\\nThere will be teenagers doing their GCSEs this Summer who have spent the whole of their education under devolution.\\nThere can be no excuses, education is devolved in full.\\nThese young people have watched as Wales; in the past a watchword for educational excellence, has slipped further and further behind – not just England, but behind 36 other countries in reading and 38 in maths.\\nAnd it is our boys who are falling behind the furthest. We must teach our boys the basics.\\nUnless the basics are right, we won’t get the rest right.\\nPlaid Cymru will implement a comprehensive literacy and numeracy programme with early intervention to specifically target boys, but aiming to make sure all children are performing to the best standard for them by the age of 11.\\nWe want to see if we can utilise willing volunteers like retired teachers and other professionals in this work.\\nWe want to extend the principles of the foundation phase to offer a much wider range of out of school and weekend activities which promote and support classroom based learning.\\nAnd we want to offer more vocational opportunities to young people to try a range of ‘trades’ before committing to an apprenticeship or college course.\\nMaking sure trades are taught alongside business skills and/or co- operative skills will help to train the next generation to do the jobs we will need doing.\\nThe government’s approach to education has shown nothing less than a shocking dereliction of duty, an absolute travesty.\\nFor Wales – a country where in the past, great store was placed on the value of education it is extraordinary that it has now become one of our great failures.\\nThe Welsh education system has become the graveyard of ambition.\\nWhen a child fails their education, the consequences stay with them for life.\\nAsk anyone who didn’t sit or who didn’t pass the 11 plus.\\nBut when our education system fails our children, who takes responsibility? To date, no one.\\nNot one education minister has ever been sacked for poor results.\\nAll too often, failure is rewarded with promotion.\\nMy view is that the time has passed where we in Wales can blame all and sundry for our problems.\\nRegardless of our history, we are where we are. We have what we have. Let’s make the most with what we’ve got.\\nNo more blaming others – let’s take the responsibility for putting it right ourselves. Now.\\nWales needs leadership.\\nWales needs a leader who has the energy as well as the determination to fulfil the great responsibility that leading a country like ours involves.\\nIn health, in education and in the economy – our country needs to be doing so much better.\\nWe need someone who will work every hour and leave no stone unturned to make Wales a better place.\\nSomeone who can see the future and is prepared to champion Wales at every opportunity.\\nSelling our strengths not bemoaning our weaknesses.\\nWales needs real leadership.\\nI pledge to you that when I am returned as First Minister in 2016, I will make sure standards are raised in education.\\nA Plaid Cymru government will work to provide opportunities for all to reach their best potential and we will make sure the brightest children are able to excel.\\nSo far in the fourth Assembly there have been 59 task and finish groups set up by the government.\\nThat is almost as many reviews announced in under two years, as in the whole history of devolution.\\nWhy so many reviews when the few targets that have been set have been badly missed?\\n90% of UK GVA by 2010? Missed. Badly.\\n25% of people Welsh-speaking by 2010? Missed. Badly.\\nWelsh Ambulances arriving within eight minutes of an incident in 65% of cases.\\nMissed month after month after month.\\nOur Assembly is meant to fill the accountability gap.\\nWe shouldn’t have to be caught in a one party state of denial, immune from criticism, refusing to take responsibility.\\n59 task and finish groups since May 2011 can only mean one thing – a government devoid of ideas.\\nWell I know the source of the problem and I have a simple solution\\nIt’s time this government was task and finished off\\nPlaid Cymru wants a Wales which takes control of its own decisions.\\nA Wales which has control over its own affairs so that we can implement our comprehensive economic plan.\\nAs we stated in our evidence to the Silk Commission this week, the criminal justice system, the police, broadcasting, energy and one of our most precious resources – water – should all be in Welsh hands.\\nTransfer these responsibilities now.\\nNo hesitation. No excuses. No exceptions and No delay.\\nGiven the failure of its ideology driven austerity politics, Wales should not be prepared to trust the UK Government with any powers.\\nIt is time now to do things differently, for ourselves.\\nIt is time for Wales to have the tools to do the job of turning around our economy.\\nTo be in better shape for business, the Party of Wales wants a connected country.\\nAn improved transport and IT network, making use of rail electrification to build a Valleys Metro and to significantly reduce Cardiff to Bangor rail times.\\nBeing better connected means creative investment in our ports and airports to connect Wales to the world.\\nAnd it means high speed broadband connection for all – not just the lucky few.\\nI want a country where people have opportunities to do well.\\nPlaid Cymru wants to see improvements in the skills of our people so that we can build a new sustainable, manufacturing economy.\\nWe want to push green engineering skills, and that is why we focused on apprenticeships in our budget negotiations and it is why we have proposed a green skills construction college.\\nWe want to train people in Wales and we want to incentivise them to stay.\\nAnd we want to encourage the best innovation in our public sector with additional training for workers so that we can develop the best quality public services.\\nI want to see more of the Welsh pound invested in Welsh companies and better local procurement to lock that money into our local communities, to help to create more opportunities for people to do well.\\nThis is just a flavour of the policies Wales needs to succeed and flourish.\\nWe are an ancient country with a young democracy.\\nProud of its past and deeply frustrated by its present.\\nFortunately this old country has a young party, whose members are brimming with ideas, with enthusiasm, with hope and with confidence for a future that is better than its past.\\nIt is a future we have yet to shape.\\nThe shape is up to us.\\nPolitical parties are sometimes blunt instruments.\\nThey are far from perfect.\\nBut in a democracy political parties are the only way we have so far invented to create policies to improve our lives and the lives of our communities.\\nWe ask the people of Wales not to put their faith in us, but to invest their faith collectively together with our own.\\nTo become co-creators, co-producers, co-builders of our country.\\nI ask you to imagine, just for a moment.\\nSuspend reality.\\nPicture in your mind a different future.\\nCan you visualise a successful Wales, a strong economy and a public service infrastructure that people are not dependent on, but one which enables them instead to flourish?\\nCan you imagine, with us a different future?\\nCan you believe that achieving that different, successful future is possible?\\nCan you see it in your own mind?\\nCan you imagine what that success might feel like?\\nI know it is possible. It’s why I do what I do.\\nBut we need more people to see this vision.\\nCome with us, the party of Wales.\\nThe only party that puts this country first without fail…\\nJoin with Plaid Cymru on this journey….\\nHelp us build our country up.\\nIf, together, we want that vision enough, we can make that future our own.\\n'"
      ]
     },
     "execution_count": 57,
     "metadata": {},
     "output_type": "execute_result"
    }
   ],
   "source": [
    "welsh_speeches.iloc[2,1]"
   ]
  },
  {
   "cell_type": "markdown",
   "metadata": {},
   "source": [
    "I thought that what we'd get would be speeches with the English version first and the Welsh version after, but actually we've got Welsh paragraphs embedded in English ones. I'll write a function that splits by \\n then identifies any paragraphs with words starting 'yn', 'yd', 'ym', 'yw', or 'yr', the word 'ni', and words starting 'mwy' or 'hwy' and returns a string of just the other paragraphs. This might not be exhaustive but I think it will do enough of a job to remove most of the Welsh paragraphs without touching the English ones."
   ]
  },
  {
   "cell_type": "code",
   "execution_count": 58,
   "metadata": {},
   "outputs": [],
   "source": [
    "welsh_ident = re.compile(r\"( y[ndmwr]| y | ni[^A-Za-z]| mwy| hwy)\")\n",
    "\n",
    "def return_english(text):\n",
    "    text_split = text.split('\\n')\n",
    "    welsh_paras = []\n",
    "    for i, para in enumerate(text_split):\n",
    "        if re.findall(welsh_ident, para): welsh_paras.append(i)\n",
    "    english_paras = [para for i,para in enumerate(text_split) if i not in welsh_paras]\n",
    "#     for consistency still return joined by \\n\n",
    "    return '\\n'.join(english_paras)"
   ]
  },
  {
   "cell_type": "code",
   "execution_count": 59,
   "metadata": {},
   "outputs": [
    {
     "data": {
      "text/plain": [
       "'\\nBelow is the text of the speech made by the Leader of Plaid Cymru, Leanne Wood, made to the party’s annual conference on 4th March 2013.\\nConference,\\nIt was a pleasure to travel through Wales yesterday to reach Ynys Mon, to cross the bridge to reach the apex of our country ready for this most auspicious day, the 1st of March.\\nYnys Mon, Mam Cymru – is special to Wales.\\nThis is the county of so many Welsh firsts –\\n– the first comprehensive school was set up here, a great symbol of the best in our creative tradition,\\n– our first woman MP in Megan Lloyd George,\\n– the first branch of the Women’s Institute.\\nIt is a fitting place for the first woman leader of Plaid Cymru to pay tribute to the first Plaid Cymru minister in the history of our party.\\nI want to say Thank you to Ieuan for his tremendous service to Ynys Mon and to Wales for more than a quarter of a century.\\nIn 1987, his victory here as an MP will be remembered as a ray of light in a dismal decade for Plaid Cymru.\\nA breakthrough that gave this party heart and confidence for the years ahead.\\nIn 1997, it was Ieuan’s tele-canvassers that helped this nation win the greatest prize. By winning the referendum which gave birth to our democracy.\\nIt was in 1997 that we won our dignity.\\nThe icing on the cake came in 2011, when Welsh public opinion crystallised in favour of Wales.\\nThose referendum results will be your most precious legacy, Ieuan.\\nIn 2007 you took us into Government.\\nAnd let us be clear, that is the ultimate goal of a political party like ours.\\nYour shining example in that government will continue to provide us with inspiration for the years ahead.\\nSo it is fitting that, here on your territory, I say thank you Ieuan – from me personally and on behalf of this party.\\nDiolch o galon.\\nYnys Ieuan – sorry I mean Ynys Mon – represents our nation’s northernmost point.\\nIt’s a perfect place to get a perspective on where Wales has been and where we are heading as a nation.\\nSince the financial crash of 2008, a lot has changed.\\nYet we have a government in London ploughing ahead with its failed incompetent policies of austerity.\\nAt the same time we have a ‘Welsh’ government in Cardiff happy to carry on with a mentality of ‘nothing to do with us Gov’.\\nThinking about where we are and where we are going doesn’t mean looking back and dwelling on the past – although of course it’s vital to have an understanding of our history.\\nIt is more important to look forward.\\nYmlaen, as we say!\\nI say it’s time for us to chart our own course. We are Wales’ only national party.\\nWhy? For one simple reason.\\nWe want to build this country.\\nWe want to unlock our people’s full potential.\\nWe want to build a path of human progress.– not in the abstract, not in the comfortable and complacent corridors of power – but in the streets of every community, in the villages and in the valleys, where we live.\\nOur communities are important to Plaid Cymru.\\nGyda swyddi, daw hyder\\nMae’r Cyfrifiad wedi dod gyda newyddion ddrwg I ni\\nDim byd. Dim ond oedi.\\nPAUSE\\nAnd that is why I have insisted on the economy and job creation being our number one priority since my election as Plaid Cymru leader nearly a year ago.\\nFor thirty years Wales has had a poor deal from a succession of UK governments.\\nWe’ve seen factories come and go, inward investment peaks and troughs.\\nAnd the gap between the rich and the poor has grown and grown.\\nBroken dreams.\\nBroken lives.\\nBroken families.\\nIt’s time this finally stopped\\nIt is time to put government back on the side of the people\\nTo have a government working to make sure people have the basics.\\nA decent home, with decent healthcare within a reasonable travel distance.\\nA job with decent pay so that the bills are affordable\\nIt’s not difficult – with people in work on decent wages they pay into the tax pot\\nThe more that goes into that tax pot, the more and better quality public services and social protection we can afford.\\nThe current austerity drive has failed;\\n– the projections for economic growth have failed;\\n– the efforts to maintain the UK’s triple A credit status has failed;\\n– attempts to cut unemployment in Wales have failed.\\nFailure has been the hallmark of this discredited UK government.\\nAnd where is the opposition? It was up to Plaid Cymru MPs to lead the charge the bedroom tax this week on the floor of the House of Commons.\\nAnd it’s a good job that the Tories in the Assembly have their fingers on the pulse. Just this week, they’ve popped up to promise tax cuts for the better off!\\nPlaid Cymru wants to see policies that will help more businesses to start up– how will cutting taxes for those on the 40% rate help that?\\nTackling business rates and a fairer capital gains tax system – these are the kinds of things that would make a difference.\\nMeasures that would allow our wealth creators to flourish.\\nMeasures that could be taken now if the Tories were really interested in helping business.\\nThese are the priorities of Plaid Cymru and we will earn the right to govern our country by presenting a responsible, competent and business-friendly plan for boosting the Welsh economy.\\nWe must make the most of the resources that we have. Our most precious resource is our people.\\nThe road to our future will be built by people here.\\nIf we as Welsh people don’t build it, it won’t be built.\\nWe know we need better infrastructure, better communication links throughout our country.\\nTake a look at our rail. Why has it taken a century to electrify a single mile of our railways?\\nFor one reason alone – because the switch that needed to be flicked lay idle in London.\\nWe know that we cannot look to London to provide the answers.\\nThat has been tried and failed. Friends, we’ve been a long time waiting.\\nThat switch or the spark to power up our nation has to be in our hands.\\nWe can achieve anything if we have the determination to shape and craft for ourselves as Idris Davies put it: “a future that is better than the past.”\\nAnd we can. We must.\\nWe will create a future that is better than the past.\\nAfter all, what is this Welsh democracy for if not the possibility to do things differently?\\nWe’ve worked hard for our democracy. Let’s use it.\\nIt is a capacity that the Wales of our fore-mothers and fathers did not have.\\nWe have the chance to make the most of our lives, to do the best we can do, to be the best that we can be.That was the spirit that inspired miners and quarry workers to build libraries and universities the length and breadth of Wales.\\nIt is what inspired them to provide scholarships for thousands, so those who otherwise could not, should have a better future.\\nOur history will be what we make it.\\nAnd we can start today by imagining and believing in a different future.\\nI have led this party for almost a year.\\nIt has been a proud and exhilarating experience and I am privileged to lead the only party which puts Wales first each and every time – without question.\\nWhat have I learned over the last year?\\nI’ve learned that people the length and breadth of Wales have an unquenchable hope, a huge appetite for a different course – an acceptance that we cannot continue as we are.\\nOur country contains an enormous well-spring of positive, creative, almost limitless social energy.\\nI have been inspired by the people I have met who want to make a difference to their world and their Wales.\\nWe only need to look at our country’s success in sport. we are punching well above our weight on a world scale, in a wide variety of sports from cycling to rugby, football to tae kwondo.\\nAnd I pay tribute to those who made last weekend such a fantastic weekend of sport in Wales\\n– Becky James and Elinor Barker in the cycling\\n– The women’s and men’s teams in the rugby\\n– Swansea City winning the League Cup\\n– Wrexham at Wembley later this month\\n– And Cardiff City on the brink of the Premiership\\nWell done to all of you for doing our nation proud.\\nWelsh sports women and men give us a lot to be proud of, but also a lot to aspire to.\\nThey have shown us what can be achieved with confidence, self-belief and the right opportunities.\\nTranslate that for our nation, for our economy. With that right combination, there is no reason why Wales can’t be as or more successful than the scores of nations of a roughly similar size.\\nAs in team sports, if we all pull together as a team this small nation can and will do great things.\\nPeople are calling out for a vision.\\nYes, there is scepticism; that is hardly surprising. The old models of our economy, our politics, our environment are broken.\\nPeople are looking for new direction.\\nA new start.\\nNew leadership.\\nI am determined to make sure they find it here, in the only party that this country of ours can rightly call its own. The Party of Wales.\\nFor a vision to work it must be credible. It must set out where we want to go, but it must also set out the first steps on the journey.\\nOur vision is of an independent Wales – independent in spirit and in reality, not dependent on handouts from Brussels or from London, a country fuelled, not by charity, but by our own success. The question is how do we get there from here?\\nWe live in the present and it’s in the present tense that we make ourselves relevant to people’s daily lives.\\nOur first steps will be outlined in our programme.\\nAnd it is with a relevant programme combined with a determination to fight for our communities, that we will make Anglesey proud again when Plaid Cymru wins here in May.\\nThe work of building the new Wales starts here and it starts now.\\nAnd there is so much to be done.\\nThis party has a raft of good policies which are ripe for the times in which we find ourselves.\\nSo ripe in fact that the Welsh Government has had to adopt our ideas in the absence of their own\\nOur plan to take control of the national airport\\nOur plan to tackle the Council Tax benefit gap\\nOur plan for a public investment vehicle that we called “Build for Wales”\\nOur plan for a conversation on the Welsh language\\nOur plan for a science park on the Menai Straits\\nThese are all policies pushed by the Party of Wales then adopted by the Welsh Government.\\nWe are working hard, coming up with solutions that can be put in place now, to the problems that people face in their everyday lives.\\nAnd I am talking about these policies and discussing them in the public meetings I am holding with people up and down the land.\\nPlaid Cymru intends to talk to people in every single nook, cranny and corner of Wales.\\nAnd the more we talk with people in our communities and listen – the more we will get our policies and our programme of government right\\nI have set this party a big challenge.\\nBetween now and 2016 I want us to have a million conversations with the people of Wales.\\nThat’s a two-way conversation where we listen and take note of what people say\\nAnd during those conversations we will be positive, we will promote optimism for the future and hope\\nAnd we will offer practical solutions to the problems people are facing every day\\nOur campaign for the 2016 Assembly election has already begun.\\nOur campaign will have the energy and the excitement and the integrity to offer a real alternative.\\nIt will be rooted in the participation of people in every city, in every town, in every county and in every village.\\nA campaign that will restore people’s faith in politics.\\nPlaid Cymru, the party of Wales must win that election.\\nWe must win for the children of Wales.\\nOne-quarter of the children in this country are growing up poor.\\nWhen they grow up, one-quarter of them will be unemployed.\\n40% of them will leave primary school not able to read and write to the standard expected of their age.\\nThousands will be in schools in the quarter of all local education authorities that are currently in special measures.\\nWe can do so much better than this.\\nWhere is the sense of urgency we need in Welsh politics now?\\nWe can’t afford to wait any longer before we see an improvement in standards within our education system.\\nThere will be teenagers doing their GCSEs this Summer who have spent the whole of their education under devolution.\\nThere can be no excuses, education is devolved in full.\\nThese young people have watched as Wales; in the past a watchword for educational excellence, has slipped further and further behind – not just England, but behind 36 other countries in reading and 38 in maths.\\nAnd it is our boys who are falling behind the furthest. We must teach our boys the basics.\\nUnless the basics are right, we won’t get the rest right.\\nPlaid Cymru will implement a comprehensive literacy and numeracy programme with early intervention to specifically target boys, but aiming to make sure all children are performing to the best standard for them by the age of 11.\\nWe want to see if we can utilise willing volunteers like retired teachers and other professionals in this work.\\nWe want to extend the principles of the foundation phase to offer a much wider range of out of school and weekend activities which promote and support classroom based learning.\\nAnd we want to offer more vocational opportunities to young people to try a range of ‘trades’ before committing to an apprenticeship or college course.\\nMaking sure trades are taught alongside business skills and/or co- operative skills will help to train the next generation to do the jobs we will need doing.\\nThe government’s approach to education has shown nothing less than a shocking dereliction of duty, an absolute travesty.\\nFor Wales – a country where in the past, great store was placed on the value of education it is extraordinary that it has now become one of our great failures.\\nThe Welsh education system has become the graveyard of ambition.\\nWhen a child fails their education, the consequences stay with them for life.\\nAsk anyone who didn’t sit or who didn’t pass the 11 plus.\\nBut when our education system fails our children, who takes responsibility? To date, no one.\\nNot one education minister has ever been sacked for poor results.\\nAll too often, failure is rewarded with promotion.\\nMy view is that the time has passed where we in Wales can blame all and sundry for our problems.\\nRegardless of our history, we are where we are. We have what we have. Let’s make the most with what we’ve got.\\nNo more blaming others – let’s take the responsibility for putting it right ourselves. Now.\\nWales needs leadership.\\nWales needs a leader who has the energy as well as the determination to fulfil the great responsibility that leading a country like ours involves.\\nIn health, in education and in the economy – our country needs to be doing so much better.\\nWe need someone who will work every hour and leave no stone unturned to make Wales a better place.\\nSomeone who can see the future and is prepared to champion Wales at every opportunity.\\nSelling our strengths not bemoaning our weaknesses.\\nWales needs real leadership.\\nI pledge to you that when I am returned as First Minister in 2016, I will make sure standards are raised in education.\\nA Plaid Cymru government will work to provide opportunities for all to reach their best potential and we will make sure the brightest children are able to excel.\\nSo far in the fourth Assembly there have been 59 task and finish groups set up by the government.\\nThat is almost as many reviews announced in under two years, as in the whole history of devolution.\\nWhy so many reviews when the few targets that have been set have been badly missed?\\n90% of UK GVA by 2010? Missed. Badly.\\n25% of people Welsh-speaking by 2010? Missed. Badly.\\nWelsh Ambulances arriving within eight minutes of an incident in 65% of cases.\\nMissed month after month after month.\\nOur Assembly is meant to fill the accountability gap.\\nWe shouldn’t have to be caught in a one party state of denial, immune from criticism, refusing to take responsibility.\\n59 task and finish groups since May 2011 can only mean one thing – a government devoid of ideas.\\nWell I know the source of the problem and I have a simple solution\\nIt’s time this government was task and finished off\\nPlaid Cymru wants a Wales which takes control of its own decisions.\\nA Wales which has control over its own affairs so that we can implement our comprehensive economic plan.\\nAs we stated in our evidence to the Silk Commission this week, the criminal justice system, the police, broadcasting, energy and one of our most precious resources – water – should all be in Welsh hands.\\nTransfer these responsibilities now.\\nNo hesitation. No excuses. No exceptions and No delay.\\nGiven the failure of its ideology driven austerity politics, Wales should not be prepared to trust the UK Government with any powers.\\nIt is time now to do things differently, for ourselves.\\nIt is time for Wales to have the tools to do the job of turning around our economy.\\nTo be in better shape for business, the Party of Wales wants a connected country.\\nAn improved transport and IT network, making use of rail electrification to build a Valleys Metro and to significantly reduce Cardiff to Bangor rail times.\\nBeing better connected means creative investment in our ports and airports to connect Wales to the world.\\nAnd it means high speed broadband connection for all – not just the lucky few.\\nI want a country where people have opportunities to do well.\\nPlaid Cymru wants to see improvements in the skills of our people so that we can build a new sustainable, manufacturing economy.\\nWe want to push green engineering skills, and that is why we focused on apprenticeships in our budget negotiations and it is why we have proposed a green skills construction college.\\nWe want to train people in Wales and we want to incentivise them to stay.\\nAnd we want to encourage the best innovation in our public sector with additional training for workers so that we can develop the best quality public services.\\nI want to see more of the Welsh pound invested in Welsh companies and better local procurement to lock that money into our local communities, to help to create more opportunities for people to do well.\\nThis is just a flavour of the policies Wales needs to succeed and flourish.\\nWe are an ancient country with a young democracy.\\nProud of its past and deeply frustrated by its present.\\nFortunately this old country has a young party, whose members are brimming with ideas, with enthusiasm, with hope and with confidence for a future that is better than its past.\\nIt is a future we have yet to shape.\\nThe shape is up to us.\\nPolitical parties are sometimes blunt instruments.\\nThey are far from perfect.\\nBut in a democracy political parties are the only way we have so far invented to create policies to improve our lives and the lives of our communities.\\nWe ask the people of Wales not to put their faith in us, but to invest their faith collectively together with our own.\\nTo become co-creators, co-producers, co-builders of our country.\\nI ask you to imagine, just for a moment.\\nSuspend reality.\\nPicture in your mind a different future.\\nCan you visualise a successful Wales, a strong economy and a public service infrastructure that people are not dependent on, but one which enables them instead to flourish?\\nCan you imagine, with us a different future?\\nCan you believe that achieving that different, successful future is possible?\\nCan you see it in your own mind?\\nCan you imagine what that success might feel like?\\nI know it is possible. It’s why I do what I do.\\nBut we need more people to see this vision.\\nCome with us, the party of Wales.\\nThe only party that puts this country first without fail…\\nJoin with Plaid Cymru on this journey….\\nHelp us build our country up.\\nIf, together, we want that vision enough, we can make that future our own.\\n'"
      ]
     },
     "execution_count": 59,
     "metadata": {},
     "output_type": "execute_result"
    }
   ],
   "source": [
    "return_english(welsh_speeches.iloc[2,1])"
   ]
  },
  {
   "cell_type": "code",
   "execution_count": 60,
   "metadata": {},
   "outputs": [
    {
     "data": {
      "text/plain": [
       "'\\nBelow is the text of the maiden speech made by Ben Lake, the Plaid Cymru MP for Ceredigion, in the House of Commons on 13 July 2017.\\nDiolch, Madam Deputy Speaker. Thank you for affording me the opportunity to make my maiden speech this afternoon.\\nIt is a pleasure to follow the hon. Member for Heywood and Middleton (Liz McInnes) and, in particular, the hon. Members for Glasgow North East (Mr Sweeney) and for Bedford (Mohammad Yasin), who both made excellent maiden speeches. Indeed, they set an exacting standard. They spoke from the heart and I have no doubt that they will be a credit to their party, their constituencies and this House.\\nI welcome the opportunity to remember the third battle of Ypres in the House and to commemorate the first world war. As the years go by, it becomes increasingly important that we remember the conflict and especially the sacrifice of all those who lost their lives. We must ensure that we learn the lessons of the past and strive never again to subject people to such suffering and horror. While visiting one of the many Commonwealth war cemeteries that pepper the Flemish countryside, it was heartbreaking to stumble across seemingly never-ending rows of young lives cut short by the conflict.\\nAs has already been mentioned this afternoon, perhaps the most famous of the casualties from Wales was Ellis Humphrey Evans, or Hedd Wyn, a son of Trawsfynydd, in the neighbouring constituency of my hon. Friend the Member for Dwyfor Meirionnydd (Liz Saville Roberts). Hedd Wyn was a talented poet who, tragically, was killed before learning of his greatest literary triumph. Just a few weeks before winning the most prestigious prize for poetry at the National Eisteddfod, the bardic chair, he was killed at the battle of Passchendaele at the young age of 30.\\nA manuscript of the winning ode, “Yr Arwr”, or “The Hero”, in Hedd Wyn’s own hand, is one of the many precious treasures housed at the National Library of Wales in Aberystwyth. This sentinel of our nation’s heritage is perched on Penglais hill, overlooking Cardigan bay, a jewel of the Welsh coast, which I now have the privilege of representing as the Member for Ceredigion. I am truly humbled that the people of this great constituency have put their faith in me to speak for them in this place. I am looking forward to working hard on their behalf and serving them well, and I will strive to be worthy of this trust.\\nMy immediate predecessor, Mark Williams, was elected in 2005. He gained the respect of this House and the affection of the constituency, thanks to over 12 years of tireless service. Thousands of people from across the county have benefited from his advice and assistance, and I hope to continue with his good work. I wish him and his family the very best for the future.\\u200b\\nCeredigion is my home. From the peak of Pen Pumlumon Fawr to the tranquillity of the Teifi estuary, its hills and valleys rarely fail to speak to its sons and daughters. It is no surprise that hiraeth should be such a common affliction of Cardis who find themselves absent from the county for too long. As the second most sparsely populated county in Wales, Ceredigion is largely a rural area. Agriculture is the backbone of many of our communities. Farming not only supports a significant proportion of the workforce, but also sustains a range of social activities and events that are the lifeblood of the county.\\nCeredigion stretches from the banks of the Dyfi in the north to Cardigan Island in the south. It is bounded in the east by the magnificent hills of the Elenydd, and flanked to the west by spectacular coastline. Indeed, this year blue flags proudly fly above the pristine beaches at Aberporth, Aberystwyth, Borth, Llangrannog, New Quay and Tresaith. Tourism plays a vital economic role in the area, which is unsurprising given that Ceredigion is widely acknowledged to be the most beautiful constituency in Wales.\\nCeredigion’s natural beauty is complemented by the diverse nature of her settlements, from the picturesque Georgian harbour town of Aberaeron to the historic mustering point of the drovers at Tregaron, which continues to hold a thriving livestock market to this day.\\nAlthough predominantly a rural constituency, we boast two university towns. The university at Aberystwyth was established in 1872, thanks to the pennies of the people—thousands of individual donations from across Wales; and Lampeter is home to the oldest degree-awarding institution in Wales, founded in 1822.\\nWe can also justifiably claim to be the capital of Welsh culture. In addition to housing the National Library of Wales and two universities, Ceredigion has two thriving publishing houses in Talybont and Llandysul, and the recently restored castle in Cardigan played host to the first National Eisteddfod in 1176. The most famous of Welsh bard, Dafydd ap Gwilym, was born in Penrhyncoch, and my hometown of Lampeter is the birthplace of Welsh rugby, with the first recorded match being played there in 1866.\\nThat rich mix of rural and urban defines Ceredigion—a tapestry of communities woven tightly by the emphatic landscape and the famous quick-witted humour of the Cardi.\\nAlthough we must speak to our strengths, we cannot be blind to the reality that the uncertainty surrounding our departure from the European Union poses a daunting challenge to the very fabric of our community. During my time in this place, I will strive to ensure that the best interests of the rural economy and higher education are at the forefront of the minds of Government Ministers as they conduct Brexit negotiations.\\nMadam Deputy Speaker, we cannot allow ourselves to be forgotten. Decisions taken in London have long overlooked the rural economy, with public investment too often bypassing the hinterland. For too long, amenities considered essential to the urban economy are dismissed as mere luxuries in more rural areas.\\nSeveral of my predecessors in this House have pointed to the tragic irony that Ceredigion bestows upon its youth an unrivalled education, but offers them a paucity of job opportunities and affordable housing. For decades, \\u200bour county has lost the potential and the vitality of her youth. Around half her young people leave the county by the time they reach 25 years of age.\\nMany of the young who have left are Welsh speakers, which has meant that in my lifetime—which, I am sure hon. and right hon. Members will agree, is not particularly long—the percentage of people living in Ceredigion that can speak the language has declined from around 60% to just 47%. This steady, silent haemorrhage saps the life of nearly every town and village the length and breadth of the county.\\nDuring my time in this place, I look forward to working with those across the political divide to refocus the Government’s attention on the challenges facing rural areas, and to encourage greater efforts at developing our economy.\\nMadam Deputy Speaker, we are a proud people in Ceredigion, and we possess an historic resolve to buck national trends. We are also of independent spirit—over the years we have seen fit to elect Members to this House from across the political spectrum. I am particularly proud to follow in the footsteps of my distinguished Plaid Cymru predecessors, Simon Thomas and Cynog Dafis. They worked tirelessly for Ceredigion and were passionate about guarding rural areas from the negligence of a remote Government. Twenty-five years after the election of the first Plaid Cymru MP for Ceredigion, I am committed to building on this legacy. It is the greatest of honours to have been entrusted by the people of our county during this critical time. As we come together today to remember the sacrifice of those who gave their lives during the first world war, we can all be inspired by their deep sense of duty. It is that sense of duty and service that I will seek to embrace.\\nI would like to finish by quoting one of Ceredigion’s greatest sons and a founding member of Plaid Cymru, Prosser Rhys. He wrote:\\n'"
      ]
     },
     "execution_count": 60,
     "metadata": {},
     "output_type": "execute_result"
    }
   ],
   "source": [
    "return_english(welsh_speeches.iloc[3,1])"
   ]
  },
  {
   "cell_type": "markdown",
   "metadata": {},
   "source": [
    "Next I need to identify any special characters:\n"
   ]
  },
  {
   "cell_type": "code",
   "execution_count": 61,
   "metadata": {},
   "outputs": [],
   "source": [
    "# use the fact that regex is based on ascii characters to pull out everything that's not betwwen 32 (space) and 122 (z)\n",
    "special_ident = re.compile(r\"[^ -z]\")\n",
    "special_chars=[]\n",
    "for i, row in speeches1.iterrows():\n",
    "    results = re.findall(special_ident,row['speech'])\n",
    "    if results: special_chars.append(results)"
   ]
  },
  {
   "cell_type": "code",
   "execution_count": 62,
   "metadata": {},
   "outputs": [
    {
     "data": {
      "text/plain": [
       "['\\n',\n",
       " '—',\n",
       " '\\xa0',\n",
       " '’',\n",
       " 'ô',\n",
       " 'â',\n",
       " '–',\n",
       " '£',\n",
       " '‘',\n",
       " '“',\n",
       " '”',\n",
       " 'é',\n",
       " '\\u200b',\n",
       " '…',\n",
       " '½',\n",
       " '°',\n",
       " 'á',\n",
       " 'í',\n",
       " '\\u2003',\n",
       " '\\u200e',\n",
       " 'ï',\n",
       " '₂',\n",
       " 'ê',\n",
       " 'û',\n",
       " 'è',\n",
       " 'ü',\n",
       " 'Æ',\n",
       " '\\xad',\n",
       " '~',\n",
       " '•',\n",
       " '·',\n",
       " '−',\n",
       " '⅓',\n",
       " '¼',\n",
       " '€',\n",
       " 'ã',\n",
       " 'ö',\n",
       " '¾',\n",
       " 'Ç',\n",
       " '§',\n",
       " '\\x9d',\n",
       " 'Ã',\n",
       " '±',\n",
       " '|',\n",
       " '\\x80',\n",
       " '\\x94',\n",
       " '\\x9c',\n",
       " '\\x99',\n",
       " 'œ',\n",
       " 'ß',\n",
       " 'ä',\n",
       " 'ç',\n",
       " 'ﬁ',\n",
       " '‑',\n",
       " 'ó',\n",
       " '´',\n",
       " '\\u200a',\n",
       " 'ë',\n",
       " 'à',\n",
       " '�',\n",
       " 'ñ',\n",
       " '˚',\n",
       " '‐',\n",
       " '\\ufdd3',\n",
       " 'Â',\n",
       " '\\u202f',\n",
       " '′',\n",
       " '尊',\n",
       " '敬',\n",
       " '的',\n",
       " '刘',\n",
       " '晓',\n",
       " '明',\n",
       " '大',\n",
       " '使',\n",
       " '各',\n",
       " '位',\n",
       " '来',\n",
       " '宾',\n",
       " '家',\n",
       " '晚',\n",
       " '上',\n",
       " '好',\n",
       " '！',\n",
       " '恭',\n",
       " '祝',\n",
       " '中',\n",
       " '国',\n",
       " '朋',\n",
       " '友',\n",
       " '狗',\n",
       " '年',\n",
       " '吉',\n",
       " '‒',\n",
       " 'ń',\n",
       " 'В',\n",
       " 'м',\n",
       " 'е',\n",
       " 'с',\n",
       " 'т',\n",
       " 'ы',\n",
       " 'и',\n",
       " 'л',\n",
       " 'ь',\n",
       " 'н',\n",
       " 'ŵ',\n",
       " 'ă',\n",
       " '\\x96',\n",
       " 'É',\n",
       " 'ğ',\n",
       " '\\x13',\n",
       " '‟',\n",
       " 'ō',\n",
       " 'ı',\n",
       " 'î',\n",
       " '″',\n",
       " '\\x91',\n",
       " '\\x92',\n",
       " 'å',\n",
       " 'Ü']"
      ]
     },
     "execution_count": 62,
     "metadata": {},
     "output_type": "execute_result"
    }
   ],
   "source": [
    "unique_chars = []\n",
    "for chars in special_chars:\n",
    "    for char in chars:\n",
    "        if char not in unique_chars:\n",
    "            unique_chars.append(char)\n",
    "unique_chars"
   ]
  },
  {
   "cell_type": "markdown",
   "metadata": {},
   "source": [
    "If we remove all of these characters we're going to lose words with accented vowels. I think this is worth doing to ensure we've got clean data; it doesn't matter if a few words get mangled if it means we can strip out all of the weird characters. Also I think a few of them will be Welsh so will be removed anyway. Need a function to replace all of these characters with a space as the most common occurance will be the \\n."
   ]
  },
  {
   "cell_type": "code",
   "execution_count": 63,
   "metadata": {},
   "outputs": [],
   "source": [
    "special_ident = re.compile(r\"[^ -z’]\")\n",
    "\n",
    "def remove_specials(text):\n",
    "    clean_text = re.sub(special_ident, ' ', text).strip()\n",
    "    while '  ' in clean_text:\n",
    "        clean_text = clean_text.replace('  ',' ')\n",
    "    return clean_text"
   ]
  },
  {
   "cell_type": "code",
   "execution_count": 64,
   "metadata": {},
   "outputs": [],
   "source": [
    "test_text = \"don't (say) hi\""
   ]
  },
  {
   "cell_type": "code",
   "execution_count": 65,
   "metadata": {},
   "outputs": [
    {
     "data": {
      "text/plain": [
       "\"don't (say) hi\""
      ]
     },
     "execution_count": 65,
     "metadata": {},
     "output_type": "execute_result"
    }
   ],
   "source": [
    "remove_specials(test_text)"
   ]
  },
  {
   "cell_type": "code",
   "execution_count": 66,
   "metadata": {},
   "outputs": [
    {
     "data": {
      "text/plain": [
       "'\\nBelow is the text of the speech made by Mark Isherwood on 10th January 2006 on fuel poverty.\\nThe Chartered Institute of Housing Cymru states that it is reasonable to expect everyone to live in a safe, warm, affordable, and comfortable home. However, there are growing signs that current housing policy is failing to deliver that.\\nWales has the oldest housing stock of any western European nation, with 8.5 per cent of the Welsh housing stock in home ownership classified as unfit. The Council of Mortgage Lenders reports that one in two of the poorest households live in their own homes and 72 per cent of Welsh properties that are officially designated as unfit are owner-occupied. The Joseph Rowntree Foundation tells us that three in five pensioners on low incomes in Wales are homeowners.\\nNational Energy Action states that, across north Wales, 34,000 pensioners are on low incomes or claiming pension credit and 13.8 per cent of households in Wales live in fuel poverty. Each year, there are over 400 excess winter deaths in north Wales and, last winter, the number of excess winter deaths was the highest for five years, with 90 per cent of these occurring in the pensioner population.\\nI was pleased to support the warm homes campaign and to visit a beneficiary of the home energy efficiency scheme in Kinmel Bay a few weeks ago. However, it is clear that much more needs to be done to target those most at risk from fuel poverty. Despite reports of a reduction in fuel poverty numbers since 1998, as we have heard, Energy Watch states that the true figure is likely to be significantly higher following the huge energy price hikes of the past two years.\\nRecent research carried out by National Energy Action Wales and the National Right to Fuel Campaign suggest that fuel poverty may have increased by some 80 per cent between 2003 and 2005, affecting up to 304,000 people in Wales.\\nFuel poverty is a major cause of illness. Cold, damp housing causes a wide range of circulatory and respiratory conditions and is a key factor in social isolation. Children living in fuel poverty are more likely to miss school as a result of cold-related illness and to have difficulty finding places to study.\\nThere is no better example of that than the Finnegan family in Flintshire. All those responsible, and all those who have looked the other way, should hang their heads in shame. Help the Aged in Wales says that that 1,800 older people died of cold-related illnesses last winter. That was the third year in a row of increases in winter deaths among the over-65s.\\nThese are all reasons for tabling amendment 1. A national strategy will be meaningless without measures for assisting the people identified, and that situation is so often the case with this Welsh Assembly Government. Motions without measures are like hot air balloons without tethers—floating off into the ether, never to be seen again. This is the Government of policy-led evidence—the Government that puts policy before planning, preparation and pricing; trying to please everyone, but delivering for no-one.\\nSuch measures should, therefore, acknowledge the call by Help the Aged in Wales for research into all the circumstances that could be contributing to premature winter deaths, including behaviour on cultural issues, availability of and access to heating grants and schemes, health and nutrition.\\nOnly then can we deliver a focused strategy to tackle fuel poverty. As Citizens Advice Cymru states, geographical factors must also be taken into account so that fuel poverty can be tackled evenly across Wales, and to ensure that people outside easily identifiable groups and Communities First areas are not the last ones to be helped.\\nThe Welsh housing quality standard states that all dwellings must be capable of being adequately heated at an affordable cost. However, as National Energy Action states, this commitment requires more than rhetoric.\\nIt requires adequate resources and effective enforcement. For that reason, amendment 2 expresses concern at the slow progress towards achieving the Welsh housing quality standard by 2012. As the Council of Mortgage Lenders Cymru has stated, sadly, to date, the politics and the process have got firmly in the way of reality. The question is: for how much longer will the council tenants of Wales get less than they deserve and need?\\nYou will recall that I spoke on the budget and severely criticised this very factor decisively and categorically. There is a housing crisis in Wales, and it has been engineered by you during your period in Government.\\nI will move on to amendments 3 and 4, which relate to progress on the Home Energy Conservation Act 1995 target, introduced on a voluntary basis by the last Conservative Government. In the last Labour Government, a Labour Member of Parliament tabled a backbench motion to introduce statutory targets, with all-party backing, but pressure from 10 Downing Street forced him to withdraw the motion.\\nHowever, in Scotland, statutory reporting has been introduced by threatening court action. I urge the Welsh Assembly Government to put its money where its mouth is and to use the powers that it has to implement similar measures here. Let us show that we really mean what we say.\\n\\xa0\\nMae Sefydliad Tai Siartredig Cymru’n datgan ei bod yn rhesymol disgwyl bod pawb yn gallu byw mewn cartref diogel, cynnes, fforddiadwy a chyfforddus. Fodd bynnag, gwelir arwyddion cynyddol nad yw’r polisi tai cyfredol yn llwyddo i gyflawni hynny. Mae stoc dai hynaf unrhyw genedl yng ngorllewin Ewrop i’w chael yng Nghymru, gydag 8.5 y cant o stoc dai Cymru sy’n gartrefi’n cael ei chyfrif yn anaddas i fyw ynddynt.\\nYn ôl Cyngor y Benthycwyr Morgais mae un o bob dau o’r teuluoedd tlotaf yn byw yn eu cartrefi eu hunain ac mae 72 y cant o eiddo Cymru sydd wedi eu dynodi’n anaddas i fyw ynddynt yn gartrefi i’w perchenogion. Dywed Sefydliad Joseph Rowntree wrthym fod tri o bob pum pensiynwr ar incwm isel yng Nghymru yn berchen ar eu cartref eu hunain.\\nYn ôl National Energy Action, ledled y Gogledd, mae 34,000 o bensiynwyr ar incwm isel neu’n hawlio credyd pensiwn ac mae 13.8 y cant o deuluoedd yng Nghymru’n byw mewn tlodi tanwydd. Bob blwyddyn, ceir dros 400 o farwolaethau gaeaf ychwanegol yn y Gogledd ac, yn ystod y gaeaf diwethaf, y ffigur ar gyfer marwolaethau gaeaf ychwanegol oedd yr uchaf a welwyd mewn pum mlynedd, gyda 90 y cant o’r rhain yn digwydd ymhlith pensiynwyr.\\nYr oeddwn yn falch o gael cefnogi’r ymgyrch cartrefi cynnes ac o ymweld ag un o fuddiolwyr y cynllun effeithlonrwydd ynni cartref ym Mae Cinmel ychydig wythnosau yn ôl. Fodd bynnag, mae’n amlwg bod llawer iawn o waith i’w wneud eto i dargedu’r rhai sydd yn y perygl mwyaf o dlodi tanwydd.\\nEr gwaethaf adroddiadau ar ostyngiad yn y nifer sy’n byw mewn tlodi tanwydd ers 1998, fel y clywsom, yn ôl Golwg ar Ynni mae’r gwir ffigur yn debygol o fod yn sylweddol uwch yn dilyn y cynnydd enfawr mewn pris tanwydd yn ystod y ddwy flynedd diwethaf.\\nMae ymchwil diweddar a gynhaliwyd gan National Energy Action Cymru a’r Ymgyrch Genedlaethol dros Hawl i Danwydd yn awgrymu y gall tlodi tanwydd fod wedi cynyddu oddeutu 80 y cant rhwng 2003 a 2005, gan effeithio ar hyd at 304,000 o bobl yng Nghymru.\\nTlodi tanwydd yw un o brif achosion salwch. Mae cartrefi oer a llaith yn achosi pob math o gyflyrau cylchredol a resbiradol ac mae’n un o ffactorau allweddol arwahanrwydd cymdeithasol. Mae plant sy’n byw mewn tlodi tanwydd yn fwy tebygol o golli ysgol o ganlyniad i salwch a achosir gan oerfel a’i chael yn anodd dod o hyd i rywle i astudio.\\nNi cheir enghraifft well o hyn na’r teulu Finnegan yn Sir y Fflint. Dylai pawb sy’n gyfrifol a phawb sydd wedi edrych i’r cyfeiriad arall, wrido gan gywilydd. Dywed Help the Aged yng Nghymru fod 1,800 o bobl hyn wedi marw o ganlyniad i salwch a achosir gan oerfel y gaeaf diwethaf. Dyna’r trydydd gaeaf yn olynol lle gwelwyd cynnydd mewn marwolaethau gaeaf ymhlith pobl dros 65 oed.\\nMae’r rhain i gyd yn rhesymau dros gynnig gwelliant 1. Bydd strategaeth genedlaethol yn ddiystyr heb fesurau i gynorthwyo’r bobl sydd mewn angen, a dyna’r sefyllfa’n aml yn achos Llywodraeth Cynulliad Cymru heddiw. Mae cynigion heb fesurau fel balwns awyr poeth heb dennyn—maent yn codi i’r entrychion, ac yn diflannu am byth.\\nDyma Lywodraeth y dystiolaeth a arweinir gan bolisi—y Llywodraeth sy’n rhoi polisi o flaen cynllunio, paratoi a phrisio; ceisio plesio pawb, ond yn cyflawni dim i neb.\\nDylai mesurau o’r fath, felly, gydnabod galwad Help the Aged yng Nghymru am ymchwil i’r holl amgylchiadau a all fod yn cyfrannu at farwolaethau gaeaf cynamserol, gan gynnwys ymddygiad yng nghyswllt materion diwylliannol, argaeledd a mynediad at grantiau a chynlluniau gwresogi, iechyd a maeth.\\nDim ond wedyn y gallwn ni gyflawni strategaeth sy’n canolbwyntio ar fynd i’r afael â thlodi tanwydd. Fel y dywed Cyngor ar Bopeth Cymru, rhaid hefyd ystyried ffactorau daearyddol i sicrhau bod modd mynd i’r afael â thlodi tanwydd yn yr un ffordd ledled Cymru, a sicrhau nad y bobl sydd y tu allan i grwpiau amlwg ac ardaloedd Cymunedau yn Gyntaf yw’r rhai olaf i dderbyn cymorth.\\nYn ôl safon ansawdd tai Cymru rhaid bod modd cynhesu pob annedd yn ddigonol a hynny am gost fforddiadwy. Fodd bynnag, dywed National Energy Action bod angen mwy na rhethreg i gyflawni’r ymrwymiad hwn.\\nMae’n gofyn am adnoddau digonol a gorfodi effeithiol. Oherwydd hynny, mae gwelliant 2 yn mynegi pryder ynghylch y cynnydd araf a wneir tuag at gyflawni safon ansawdd tai Cymru erbyn 2012. Fel y dywedodd Cyngor Benthycwyr Morgais Cymru, yn anffodus, hyd yma, mae gwleidyddiaeth a’r broses wedi sefyll yn ffordd realaeth. Y cwestiwn yw: am faint o amser eto y bydd tenantiaid cynghorau Cymru’n gorfod byw â llai na’u haeddiant a’u hangen?\\nByddwch yn cofio imi lefaru ar y gyllideb a beirniadu’n hallt yr union ffactor hwn yn bendant ac yn ddiamwys. Mae gennym argyfwng tai yng Nghymru, ac mae wedi’i achosi gennych chi yn ystod eich cyfnod mewn grym.\\nYr wyf am symud ymlaen at welliannau 3 a 4, sy’n cyfeirio at y cynnydd i gwrdd â tharged Deddf Cadwraeth Ynni Cartref 1995, a gyflwynwyd ar sail wirfoddol gan y Llywodraeth Geidwadol ddiwethaf. Yn ystod cyfnod y Llywodraeth Lafur ddiwethaf, cyflwynodd Aelod Seneddol Llafur fesur o’r meinciau cefn i gyflwyno targedau statudol, gyda chefnogaeth pob plaid, ond yn dilyn pwysau o gyfeiriad 10 Downing Street fe’i gorfodwyd i dynnu’r cynnig yn ôl. Fodd bynnag, yn yr Alban, bygythiwyd camau cyfreithiol er mwyn cyflwyno trefn adrodd statudol. Erfyniaf ar Lywodraeth Cynulliad Cymru i fod gystal â’i gair a defnyddio’r pwerau sydd ar gael iddi i gyflwyno mesurau tebyg yma. Gadewch inni ddangos ein bod o ddifrif ynglyn â’r hyn yr ydym yn ei ddweud.\\n'"
      ]
     },
     "execution_count": 66,
     "metadata": {},
     "output_type": "execute_result"
    }
   ],
   "source": [
    "speeches1.iloc[0,1]"
   ]
  },
  {
   "cell_type": "code",
   "execution_count": 67,
   "metadata": {},
   "outputs": [
    {
     "data": {
      "text/plain": [
       "'Below is the text of the speech made by Mark Isherwood on 10th January 2006 on fuel poverty. The Chartered Institute of Housing Cymru states that it is reasonable to expect everyone to live in a safe, warm, affordable, and comfortable home. However, there are growing signs that current housing policy is failing to deliver that. Wales has the oldest housing stock of any western European nation, with 8.5 per cent of the Welsh housing stock in home ownership classified as unfit. The Council of Mortgage Lenders reports that one in two of the poorest households live in their own homes and 72 per cent of Welsh properties that are officially designated as unfit are owner-occupied. The Joseph Rowntree Foundation tells us that three in five pensioners on low incomes in Wales are homeowners. National Energy Action states that, across north Wales, 34,000 pensioners are on low incomes or claiming pension credit and 13.8 per cent of households in Wales live in fuel poverty. Each year, there are over 400 excess winter deaths in north Wales and, last winter, the number of excess winter deaths was the highest for five years, with 90 per cent of these occurring in the pensioner population. I was pleased to support the warm homes campaign and to visit a beneficiary of the home energy efficiency scheme in Kinmel Bay a few weeks ago. However, it is clear that much more needs to be done to target those most at risk from fuel poverty. Despite reports of a reduction in fuel poverty numbers since 1998, as we have heard, Energy Watch states that the true figure is likely to be significantly higher following the huge energy price hikes of the past two years. Recent research carried out by National Energy Action Wales and the National Right to Fuel Campaign suggest that fuel poverty may have increased by some 80 per cent between 2003 and 2005, affecting up to 304,000 people in Wales. Fuel poverty is a major cause of illness. Cold, damp housing causes a wide range of circulatory and respiratory conditions and is a key factor in social isolation. Children living in fuel poverty are more likely to miss school as a result of cold-related illness and to have difficulty finding places to study. There is no better example of that than the Finnegan family in Flintshire. All those responsible, and all those who have looked the other way, should hang their heads in shame. Help the Aged in Wales says that that 1,800 older people died of cold-related illnesses last winter. That was the third year in a row of increases in winter deaths among the over-65s. These are all reasons for tabling amendment 1. A national strategy will be meaningless without measures for assisting the people identified, and that situation is so often the case with this Welsh Assembly Government. Motions without measures are like hot air balloons without tethers floating off into the ether, never to be seen again. This is the Government of policy-led evidence the Government that puts policy before planning, preparation and pricing; trying to please everyone, but delivering for no-one. Such measures should, therefore, acknowledge the call by Help the Aged in Wales for research into all the circumstances that could be contributing to premature winter deaths, including behaviour on cultural issues, availability of and access to heating grants and schemes, health and nutrition. Only then can we deliver a focused strategy to tackle fuel poverty. As Citizens Advice Cymru states, geographical factors must also be taken into account so that fuel poverty can be tackled evenly across Wales, and to ensure that people outside easily identifiable groups and Communities First areas are not the last ones to be helped. The Welsh housing quality standard states that all dwellings must be capable of being adequately heated at an affordable cost. However, as National Energy Action states, this commitment requires more than rhetoric. It requires adequate resources and effective enforcement. For that reason, amendment 2 expresses concern at the slow progress towards achieving the Welsh housing quality standard by 2012. As the Council of Mortgage Lenders Cymru has stated, sadly, to date, the politics and the process have got firmly in the way of reality. The question is: for how much longer will the council tenants of Wales get less than they deserve and need? You will recall that I spoke on the budget and severely criticised this very factor decisively and categorically. There is a housing crisis in Wales, and it has been engineered by you during your period in Government. I will move on to amendments 3 and 4, which relate to progress on the Home Energy Conservation Act 1995 target, introduced on a voluntary basis by the last Conservative Government. In the last Labour Government, a Labour Member of Parliament tabled a backbench motion to introduce statutory targets, with all-party backing, but pressure from 10 Downing Street forced him to withdraw the motion. However, in Scotland, statutory reporting has been introduced by threatening court action. I urge the Welsh Assembly Government to put its money where its mouth is and to use the powers that it has to implement similar measures here. Let us show that we really mean what we say. Mae Sefydliad Tai Siartredig Cymru’n datgan ei bod yn rhesymol disgwyl bod pawb yn gallu byw mewn cartref diogel, cynnes, fforddiadwy a chyfforddus. Fodd bynnag, gwelir arwyddion cynyddol nad yw’r polisi tai cyfredol yn llwyddo i gyflawni hynny. Mae stoc dai hynaf unrhyw genedl yng ngorllewin Ewrop i’w chael yng Nghymru, gydag 8.5 y cant o stoc dai Cymru sy’n gartrefi’n cael ei chyfrif yn anaddas i fyw ynddynt. Yn l Cyngor y Benthycwyr Morgais mae un o bob dau o’r teuluoedd tlotaf yn byw yn eu cartrefi eu hunain ac mae 72 y cant o eiddo Cymru sydd wedi eu dynodi’n anaddas i fyw ynddynt yn gartrefi i’w perchenogion. Dywed Sefydliad Joseph Rowntree wrthym fod tri o bob pum pensiynwr ar incwm isel yng Nghymru yn berchen ar eu cartref eu hunain. Yn l National Energy Action, ledled y Gogledd, mae 34,000 o bensiynwyr ar incwm isel neu’n hawlio credyd pensiwn ac mae 13.8 y cant o deuluoedd yng Nghymru’n byw mewn tlodi tanwydd. Bob blwyddyn, ceir dros 400 o farwolaethau gaeaf ychwanegol yn y Gogledd ac, yn ystod y gaeaf diwethaf, y ffigur ar gyfer marwolaethau gaeaf ychwanegol oedd yr uchaf a welwyd mewn pum mlynedd, gyda 90 y cant o’r rhain yn digwydd ymhlith pensiynwyr. Yr oeddwn yn falch o gael cefnogi’r ymgyrch cartrefi cynnes ac o ymweld ag un o fuddiolwyr y cynllun effeithlonrwydd ynni cartref ym Mae Cinmel ychydig wythnosau yn l. Fodd bynnag, mae’n amlwg bod llawer iawn o waith i’w wneud eto i dargedu’r rhai sydd yn y perygl mwyaf o dlodi tanwydd. Er gwaethaf adroddiadau ar ostyngiad yn y nifer sy’n byw mewn tlodi tanwydd ers 1998, fel y clywsom, yn l Golwg ar Ynni mae’r gwir ffigur yn debygol o fod yn sylweddol uwch yn dilyn y cynnydd enfawr mewn pris tanwydd yn ystod y ddwy flynedd diwethaf. Mae ymchwil diweddar a gynhaliwyd gan National Energy Action Cymru a’r Ymgyrch Genedlaethol dros Hawl i Danwydd yn awgrymu y gall tlodi tanwydd fod wedi cynyddu oddeutu 80 y cant rhwng 2003 a 2005, gan effeithio ar hyd at 304,000 o bobl yng Nghymru. Tlodi tanwydd yw un o brif achosion salwch. Mae cartrefi oer a llaith yn achosi pob math o gyflyrau cylchredol a resbiradol ac mae’n un o ffactorau allweddol arwahanrwydd cymdeithasol. Mae plant sy’n byw mewn tlodi tanwydd yn fwy tebygol o golli ysgol o ganlyniad i salwch a achosir gan oerfel a’i chael yn anodd dod o hyd i rywle i astudio. Ni cheir enghraifft well o hyn na’r teulu Finnegan yn Sir y Fflint. Dylai pawb sy’n gyfrifol a phawb sydd wedi edrych i’r cyfeiriad arall, wrido gan gywilydd. Dywed Help the Aged yng Nghymru fod 1,800 o bobl hyn wedi marw o ganlyniad i salwch a achosir gan oerfel y gaeaf diwethaf. Dyna’r trydydd gaeaf yn olynol lle gwelwyd cynnydd mewn marwolaethau gaeaf ymhlith pobl dros 65 oed. Mae’r rhain i gyd yn rhesymau dros gynnig gwelliant 1. Bydd strategaeth genedlaethol yn ddiystyr heb fesurau i gynorthwyo’r bobl sydd mewn angen, a dyna’r sefyllfa’n aml yn achos Llywodraeth Cynulliad Cymru heddiw. Mae cynigion heb fesurau fel balwns awyr poeth heb dennyn maent yn codi i’r entrychion, ac yn diflannu am byth. Dyma Lywodraeth y dystiolaeth a arweinir gan bolisi y Llywodraeth sy’n rhoi polisi o flaen cynllunio, paratoi a phrisio; ceisio plesio pawb, ond yn cyflawni dim i neb. Dylai mesurau o’r fath, felly, gydnabod galwad Help the Aged yng Nghymru am ymchwil i’r holl amgylchiadau a all fod yn cyfrannu at farwolaethau gaeaf cynamserol, gan gynnwys ymddygiad yng nghyswllt materion diwylliannol, argaeledd a mynediad at grantiau a chynlluniau gwresogi, iechyd a maeth. Dim ond wedyn y gallwn ni gyflawni strategaeth sy’n canolbwyntio ar fynd i’r afael thlodi tanwydd. Fel y dywed Cyngor ar Bopeth Cymru, rhaid hefyd ystyried ffactorau daearyddol i sicrhau bod modd mynd i’r afael thlodi tanwydd yn yr un ffordd ledled Cymru, a sicrhau nad y bobl sydd y tu allan i grwpiau amlwg ac ardaloedd Cymunedau yn Gyntaf yw’r rhai olaf i dderbyn cymorth. Yn l safon ansawdd tai Cymru rhaid bod modd cynhesu pob annedd yn ddigonol a hynny am gost fforddiadwy. Fodd bynnag, dywed National Energy Action bod angen mwy na rhethreg i gyflawni’r ymrwymiad hwn. Mae’n gofyn am adnoddau digonol a gorfodi effeithiol. Oherwydd hynny, mae gwelliant 2 yn mynegi pryder ynghylch y cynnydd araf a wneir tuag at gyflawni safon ansawdd tai Cymru erbyn 2012. Fel y dywedodd Cyngor Benthycwyr Morgais Cymru, yn anffodus, hyd yma, mae gwleidyddiaeth a’r broses wedi sefyll yn ffordd realaeth. Y cwestiwn yw: am faint o amser eto y bydd tenantiaid cynghorau Cymru’n gorfod byw llai na’u haeddiant a’u hangen? Byddwch yn cofio imi lefaru ar y gyllideb a beirniadu’n hallt yr union ffactor hwn yn bendant ac yn ddiamwys. Mae gennym argyfwng tai yng Nghymru, ac mae wedi’i achosi gennych chi yn ystod eich cyfnod mewn grym. Yr wyf am symud ymlaen at welliannau 3 a 4, sy’n cyfeirio at y cynnydd i gwrdd tharged Deddf Cadwraeth Ynni Cartref 1995, a gyflwynwyd ar sail wirfoddol gan y Llywodraeth Geidwadol ddiwethaf. Yn ystod cyfnod y Llywodraeth Lafur ddiwethaf, cyflwynodd Aelod Seneddol Llafur fesur o’r meinciau cefn i gyflwyno targedau statudol, gyda chefnogaeth pob plaid, ond yn dilyn pwysau o gyfeiriad 10 Downing Street fe’i gorfodwyd i dynnu’r cynnig yn l. Fodd bynnag, yn yr Alban, bygythiwyd camau cyfreithiol er mwyn cyflwyno trefn adrodd statudol. Erfyniaf ar Lywodraeth Cynulliad Cymru i fod gystal ’i gair a defnyddio’r pwerau sydd ar gael iddi i gyflwyno mesurau tebyg yma. Gadewch inni ddangos ein bod o ddifrif ynglyn ’r hyn yr ydym yn ei ddweud.'"
      ]
     },
     "execution_count": 67,
     "metadata": {},
     "output_type": "execute_result"
    }
   ],
   "source": [
    "remove_specials(speeches1.iloc[0,1])"
   ]
  },
  {
   "cell_type": "code",
   "execution_count": 68,
   "metadata": {},
   "outputs": [
    {
     "data": {
      "text/plain": [
       "'Below is the text of the speech made by Mark Isherwood on 10th January 2006 on fuel poverty. The Chartered Institute of Housing Cymru states that it is reasonable to expect everyone to live in a safe, warm, affordable, and comfortable home. However, there are growing signs that current housing policy is failing to deliver that. Wales has the oldest housing stock of any western European nation, with 8.5 per cent of the Welsh housing stock in home ownership classified as unfit. The Council of Mortgage Lenders reports that one in two of the poorest households live in their own homes and 72 per cent of Welsh properties that are officially designated as unfit are owner-occupied. The Joseph Rowntree Foundation tells us that three in five pensioners on low incomes in Wales are homeowners. National Energy Action states that, across north Wales, 34,000 pensioners are on low incomes or claiming pension credit and 13.8 per cent of households in Wales live in fuel poverty. Each year, there are over 400 excess winter deaths in north Wales and, last winter, the number of excess winter deaths was the highest for five years, with 90 per cent of these occurring in the pensioner population. I was pleased to support the warm homes campaign and to visit a beneficiary of the home energy efficiency scheme in Kinmel Bay a few weeks ago. However, it is clear that much more needs to be done to target those most at risk from fuel poverty. Despite reports of a reduction in fuel poverty numbers since 1998, as we have heard, Energy Watch states that the true figure is likely to be significantly higher following the huge energy price hikes of the past two years. Recent research carried out by National Energy Action Wales and the National Right to Fuel Campaign suggest that fuel poverty may have increased by some 80 per cent between 2003 and 2005, affecting up to 304,000 people in Wales. Fuel poverty is a major cause of illness. Cold, damp housing causes a wide range of circulatory and respiratory conditions and is a key factor in social isolation. Children living in fuel poverty are more likely to miss school as a result of cold-related illness and to have difficulty finding places to study. There is no better example of that than the Finnegan family in Flintshire. All those responsible, and all those who have looked the other way, should hang their heads in shame. Help the Aged in Wales says that that 1,800 older people died of cold-related illnesses last winter. That was the third year in a row of increases in winter deaths among the over-65s. These are all reasons for tabling amendment 1. A national strategy will be meaningless without measures for assisting the people identified, and that situation is so often the case with this Welsh Assembly Government. Motions without measures are like hot air balloons without tethers floating off into the ether, never to be seen again. This is the Government of policy-led evidence the Government that puts policy before planning, preparation and pricing; trying to please everyone, but delivering for no-one. Such measures should, therefore, acknowledge the call by Help the Aged in Wales for research into all the circumstances that could be contributing to premature winter deaths, including behaviour on cultural issues, availability of and access to heating grants and schemes, health and nutrition. Only then can we deliver a focused strategy to tackle fuel poverty. As Citizens Advice Cymru states, geographical factors must also be taken into account so that fuel poverty can be tackled evenly across Wales, and to ensure that people outside easily identifiable groups and Communities First areas are not the last ones to be helped. The Welsh housing quality standard states that all dwellings must be capable of being adequately heated at an affordable cost. However, as National Energy Action states, this commitment requires more than rhetoric. It requires adequate resources and effective enforcement. For that reason, amendment 2 expresses concern at the slow progress towards achieving the Welsh housing quality standard by 2012. As the Council of Mortgage Lenders Cymru has stated, sadly, to date, the politics and the process have got firmly in the way of reality. The question is: for how much longer will the council tenants of Wales get less than they deserve and need? You will recall that I spoke on the budget and severely criticised this very factor decisively and categorically. There is a housing crisis in Wales, and it has been engineered by you during your period in Government. I will move on to amendments 3 and 4, which relate to progress on the Home Energy Conservation Act 1995 target, introduced on a voluntary basis by the last Conservative Government. In the last Labour Government, a Labour Member of Parliament tabled a backbench motion to introduce statutory targets, with all-party backing, but pressure from 10 Downing Street forced him to withdraw the motion. However, in Scotland, statutory reporting has been introduced by threatening court action. I urge the Welsh Assembly Government to put its money where its mouth is and to use the powers that it has to implement similar measures here. Let us show that we really mean what we say.'"
      ]
     },
     "execution_count": 68,
     "metadata": {},
     "output_type": "execute_result"
    }
   ],
   "source": [
    "remove_specials(return_english(speeches1.iloc[0,1]))"
   ]
  },
  {
   "cell_type": "markdown",
   "metadata": {},
   "source": [
    "Time to clean up the whole thing:"
   ]
  },
  {
   "cell_type": "code",
   "execution_count": 69,
   "metadata": {},
   "outputs": [],
   "source": [
    "uk_pol_clean = speeches1.copy()"
   ]
  },
  {
   "cell_type": "code",
   "execution_count": 70,
   "metadata": {},
   "outputs": [],
   "source": [
    "uk_pol_clean.columns = ['title','raw_speech']"
   ]
  },
  {
   "cell_type": "code",
   "execution_count": 71,
   "metadata": {},
   "outputs": [],
   "source": [
    "uk_pol_clean['description'] = uk_pol_clean.raw_speech.map(lambda x: get_header(x))\n",
    "uk_pol_clean['text'] = uk_pol_clean.raw_speech.map(lambda x: get_text(x))"
   ]
  },
  {
   "cell_type": "code",
   "execution_count": 72,
   "metadata": {},
   "outputs": [],
   "source": [
    "uk_pol_clean['text'] = uk_pol_clean.text.map(lambda x: remove_specials(return_english(x)))"
   ]
  },
  {
   "cell_type": "code",
   "execution_count": 73,
   "metadata": {},
   "outputs": [],
   "source": [
    "uk_pol_clean.drop('raw_speech',axis=1,inplace=True)"
   ]
  },
  {
   "cell_type": "code",
   "execution_count": 74,
   "metadata": {},
   "outputs": [],
   "source": [
    "uk_pol_clean.to_csv('uk_pol_clean.csv',index=False)"
   ]
  },
  {
   "cell_type": "code",
   "execution_count": 75,
   "metadata": {},
   "outputs": [],
   "source": [
    "uk_pol_clean = pd.read_csv('uk_pol_clean.csv')"
   ]
  },
  {
   "cell_type": "markdown",
   "metadata": {},
   "source": [
    "Now need to extract a bit more data like MP name etc."
   ]
  },
  {
   "cell_type": "code",
   "execution_count": 76,
   "metadata": {},
   "outputs": [
    {
     "data": {
      "text/html": [
       "<div>\n",
       "<style scoped>\n",
       "    .dataframe tbody tr th:only-of-type {\n",
       "        vertical-align: middle;\n",
       "    }\n",
       "\n",
       "    .dataframe tbody tr th {\n",
       "        vertical-align: top;\n",
       "    }\n",
       "\n",
       "    .dataframe thead th {\n",
       "        text-align: right;\n",
       "    }\n",
       "</style>\n",
       "<table border=\"1\" class=\"dataframe\">\n",
       "  <thead>\n",
       "    <tr style=\"text-align: right;\">\n",
       "      <th></th>\n",
       "      <th>title</th>\n",
       "      <th>description</th>\n",
       "      <th>text</th>\n",
       "    </tr>\n",
       "  </thead>\n",
       "  <tbody>\n",
       "    <tr>\n",
       "      <th>0</th>\n",
       "      <td>Isherwood, Mark – 2006 Speech on Fuel Poverty</td>\n",
       "      <td>Below is the text of the speech made by Mark I...</td>\n",
       "      <td>The Chartered Institute of Housing Cymru state...</td>\n",
       "    </tr>\n",
       "  </tbody>\n",
       "</table>\n",
       "</div>"
      ],
      "text/plain": [
       "                                           title  \\\n",
       "0  Isherwood, Mark – 2006 Speech on Fuel Poverty   \n",
       "\n",
       "                                         description  \\\n",
       "0  Below is the text of the speech made by Mark I...   \n",
       "\n",
       "                                                text  \n",
       "0  The Chartered Institute of Housing Cymru state...  "
      ]
     },
     "execution_count": 76,
     "metadata": {},
     "output_type": "execute_result"
    }
   ],
   "source": [
    "uk_pol_clean.head(1)"
   ]
  },
  {
   "cell_type": "code",
   "execution_count": 77,
   "metadata": {},
   "outputs": [],
   "source": [
    "test = pd.DataFrame(uk_pol_clean.title.map(lambda x: x.split('–')[0]))"
   ]
  },
  {
   "cell_type": "code",
   "execution_count": 78,
   "metadata": {},
   "outputs": [],
   "source": [
    "test.columns = ['longname']"
   ]
  },
  {
   "cell_type": "code",
   "execution_count": 79,
   "metadata": {},
   "outputs": [],
   "source": [
    "test['spaces'] = test.longname.map(lambda x: x.count(' '))"
   ]
  },
  {
   "cell_type": "code",
   "execution_count": 80,
   "metadata": {},
   "outputs": [
    {
     "data": {
      "text/html": [
       "<div>\n",
       "<style scoped>\n",
       "    .dataframe tbody tr th:only-of-type {\n",
       "        vertical-align: middle;\n",
       "    }\n",
       "\n",
       "    .dataframe tbody tr th {\n",
       "        vertical-align: top;\n",
       "    }\n",
       "\n",
       "    .dataframe thead th {\n",
       "        text-align: right;\n",
       "    }\n",
       "</style>\n",
       "<table border=\"1\" class=\"dataframe\">\n",
       "  <thead>\n",
       "    <tr style=\"text-align: right;\">\n",
       "      <th></th>\n",
       "      <th>longname</th>\n",
       "      <th>spaces</th>\n",
       "    </tr>\n",
       "  </thead>\n",
       "  <tbody>\n",
       "    <tr>\n",
       "      <th>63</th>\n",
       "      <td>Vara, Shailesh -2016 Speech on Family Justice</td>\n",
       "      <td>6</td>\n",
       "    </tr>\n",
       "    <tr>\n",
       "      <th>603</th>\n",
       "      <td>Peel, Robert- 1846 Corn Law Statement</td>\n",
       "      <td>5</td>\n",
       "    </tr>\n",
       "    <tr>\n",
       "      <th>1489</th>\n",
       "      <td>Greening, Justine- 2017 Statement on National ...</td>\n",
       "      <td>9</td>\n",
       "    </tr>\n",
       "    <tr>\n",
       "      <th>1791</th>\n",
       "      <td>Bruce, Fiona -2016 Speech on Human Rights in B...</td>\n",
       "      <td>8</td>\n",
       "    </tr>\n",
       "  </tbody>\n",
       "</table>\n",
       "</div>"
      ],
      "text/plain": [
       "                                               longname  spaces\n",
       "63        Vara, Shailesh -2016 Speech on Family Justice       6\n",
       "603               Peel, Robert- 1846 Corn Law Statement       5\n",
       "1489  Greening, Justine- 2017 Statement on National ...       9\n",
       "1791  Bruce, Fiona -2016 Speech on Human Rights in B...       8"
      ]
     },
     "execution_count": 80,
     "metadata": {},
     "output_type": "execute_result"
    }
   ],
   "source": [
    "test[(test.longname.str.contains('20'))|(test.longname.str.contains('19'))|test.longname.str.contains('18')]"
   ]
  },
  {
   "cell_type": "markdown",
   "metadata": {},
   "source": [
    "Some messy data here but not too hard to capture."
   ]
  },
  {
   "cell_type": "code",
   "execution_count": 81,
   "metadata": {},
   "outputs": [],
   "source": [
    "def get_speaker(text):\n",
    "    longname = text.split('–')[0]\n",
    "    if '20' in longname or '19' in longname or '18' in longname:\n",
    "        name = ('{} {}').format(longname.split(' ')[1].strip().replace('-',''),\n",
    "                                longname.split(' ')[0].strip().replace(',',''))\n",
    "    elif ',' in longname:\n",
    "        name = ('{} {}').format(longname.split(',')[1].strip(),\n",
    "                                longname.split(',')[0].strip())\n",
    "    else:\n",
    "        name = longname.strip()\n",
    "    return name"
   ]
  },
  {
   "cell_type": "code",
   "execution_count": 82,
   "metadata": {},
   "outputs": [],
   "source": [
    "uk_pol_clean['speaker'] = uk_pol_clean.title.map(lambda x: get_speaker(x))"
   ]
  },
  {
   "cell_type": "code",
   "execution_count": 83,
   "metadata": {},
   "outputs": [
    {
     "data": {
      "text/plain": [
       "David Cameron         186\n",
       "Theresa May           158\n",
       "Gordon Brown           67\n",
       "Matthew Hancock        62\n",
       "George Osborne         58\n",
       "William Hague          53\n",
       "Ed Miliband            49\n",
       "Michael Gove           49\n",
       "Queen Elizabeth II     45\n",
       "Sajid Javid            44\n",
       "Name: speaker, dtype: int64"
      ]
     },
     "execution_count": 83,
     "metadata": {},
     "output_type": "execute_result"
    }
   ],
   "source": [
    "uk_pol_clean.speaker.value_counts()[:10]"
   ]
  },
  {
   "cell_type": "markdown",
   "metadata": {},
   "source": [
    "Pull the year and subject from the title:"
   ]
  },
  {
   "cell_type": "code",
   "execution_count": 84,
   "metadata": {},
   "outputs": [],
   "source": [
    "year_ident = re.compile(r'[0-9][0-9][0-9][0-9]')\n",
    "        \n",
    "def get_year(text):\n",
    "    result = re.findall(year_ident, text)\n",
    "    if result:\n",
    "        year = int(result[0])\n",
    "    else:\n",
    "        year = 0\n",
    "    return year\n",
    "\n",
    "subject_prefixes = ['Speech in Tribute to ','Tribute to ','Speech on ','Speech to ','Speech about ',\n",
    "                    'Speech following ','Speech after ','Speech After ',\n",
    "                    'Speech against ','Statement on ','Statement following ','Statement after ']\n",
    "\n",
    "def get_subject(title, year):\n",
    "    if year > 0:\n",
    "        subject = title.split(str(year))[1].strip().replace(' the ',' ')\n",
    "    else:\n",
    "        subject = title.strip()\n",
    "    if 'Maiden Speech' not in subject:\n",
    "        for prefix in subject_prefixes:\n",
    "            subject = subject.replace(prefix,'')\n",
    "    else:\n",
    "        subject = 'Maiden Speech'\n",
    "    return subject"
   ]
  },
  {
   "cell_type": "code",
   "execution_count": 85,
   "metadata": {},
   "outputs": [],
   "source": [
    "uk_pol_clean['year'] = uk_pol_clean.title.map(lambda x: get_year(x))\n",
    "uk_pol_clean['year'] = uk_pol_clean.year.astype(int)"
   ]
  },
  {
   "cell_type": "code",
   "execution_count": 86,
   "metadata": {},
   "outputs": [],
   "source": [
    "uk_pol_clean['subject'] = uk_pol_clean.apply(lambda x: get_subject(x['title'],x['year']), axis=1)"
   ]
  },
  {
   "cell_type": "code",
   "execution_count": 87,
   "metadata": {},
   "outputs": [
    {
     "data": {
      "text/plain": [
       "Maiden Speech                        158\n",
       "Labour Party Conference              124\n",
       "Conservative Party Conference         68\n",
       "Queen’s Speech                        51\n",
       "TUC Conference                        25\n",
       "Speech at Labour Party Conference     23\n",
       "Syrian Air Strikes                    19\n",
       "Brexit                                15\n",
       "King’s Speech                         14\n",
       "Mansion House Speech                  14\n",
       "Name: subject, dtype: int64"
      ]
     },
     "execution_count": 87,
     "metadata": {},
     "output_type": "execute_result"
    }
   ],
   "source": [
    "uk_pol_clean.subject.value_counts()[:10]"
   ]
  },
  {
   "cell_type": "code",
   "execution_count": 88,
   "metadata": {},
   "outputs": [
    {
     "data": {
      "text/plain": [
       "'Below is the text of the speech made by Charles Kennedy, the then Leader of the Liberal Democrats, on 29 January 2001.'"
      ]
     },
     "execution_count": 88,
     "metadata": {},
     "output_type": "execute_result"
    }
   ],
   "source": [
    "test_desc = uk_pol_clean.iloc[100,1]\n",
    "test_desc"
   ]
  },
  {
   "cell_type": "code",
   "execution_count": 89,
   "metadata": {},
   "outputs": [],
   "source": [
    "full_date = re.compile(r'[0-9]{1,2}[stndrdth]{0,2} [A-Z][a-z]+ [0-9]{4}')\n",
    "\n",
    "def find_full_date(text):\n",
    "    dates = re.findall(full_date, text)\n",
    "    if dates:\n",
    "        date = dates[0]\n",
    "    else:\n",
    "        date = np.nan\n",
    "    return date"
   ]
  },
  {
   "cell_type": "code",
   "execution_count": 90,
   "metadata": {},
   "outputs": [],
   "source": [
    "uk_pol_clean['date'] = uk_pol_clean.description.map(lambda x: find_full_date(x))"
   ]
  },
  {
   "cell_type": "code",
   "execution_count": 91,
   "metadata": {},
   "outputs": [
    {
     "name": "stdout",
     "output_type": "stream",
     "text": [
      "<class 'pandas.core.frame.DataFrame'>\n",
      "RangeIndex: 3077 entries, 0 to 3076\n",
      "Data columns (total 7 columns):\n",
      "title          3077 non-null object\n",
      "description    3077 non-null object\n",
      "text           3076 non-null object\n",
      "speaker        3077 non-null object\n",
      "year           3077 non-null int64\n",
      "subject        3077 non-null object\n",
      "date           2878 non-null object\n",
      "dtypes: int64(1), object(6)\n",
      "memory usage: 168.4+ KB\n"
     ]
    }
   ],
   "source": [
    "uk_pol_clean.info()"
   ]
  },
  {
   "cell_type": "code",
   "execution_count": 92,
   "metadata": {},
   "outputs": [],
   "source": [
    "uk_pol_clean.date = pd.to_datetime(uk_pol_clean.date)"
   ]
  },
  {
   "cell_type": "code",
   "execution_count": 93,
   "metadata": {},
   "outputs": [
    {
     "data": {
      "text/plain": [
       "0   2006-01-10\n",
       "1   2011-12-02\n",
       "2   2012-01-12\n",
       "3   2012-06-26\n",
       "4   2012-05-28\n",
       "5          NaT\n",
       "6          NaT\n",
       "7   2016-03-03\n",
       "8   2018-02-27\n",
       "9   2018-07-02\n",
       "Name: date, dtype: datetime64[ns]"
      ]
     },
     "execution_count": 93,
     "metadata": {},
     "output_type": "execute_result"
    }
   ],
   "source": [
    "uk_pol_clean.date[:10]"
   ]
  },
  {
   "cell_type": "code",
   "execution_count": 94,
   "metadata": {},
   "outputs": [],
   "source": [
    "uk_pol_clean.to_csv('uk_pol_clean.csv', index=False)"
   ]
  }
 ],
 "metadata": {
  "kernelspec": {
   "display_name": "Python 3",
   "language": "python",
   "name": "python3"
  },
  "language_info": {
   "codemirror_mode": {
    "name": "ipython",
    "version": 3
   },
   "file_extension": ".py",
   "mimetype": "text/x-python",
   "name": "python",
   "nbconvert_exporter": "python",
   "pygments_lexer": "ipython3",
   "version": "3.6.5"
  }
 },
 "nbformat": 4,
 "nbformat_minor": 2
}
